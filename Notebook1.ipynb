{
 "cells": [
  {
   "cell_type": "code",
   "execution_count": 1,
   "metadata": {
    "collapsed": true
   },
   "outputs": [],
   "source": [
    "#twitteR package library vignette \n",
    "#Referred from http://geoffjentry.hexdump.org/twitteR.pdf"
   ]
  },
  {
   "cell_type": "code",
   "execution_count": null,
   "metadata": {
    "collapsed": true
   },
   "outputs": [],
   "source": [
    "#Installing the required packages\n",
    "install.packages(\"twitteR\")\n",
    "install.packages(\"RCurl\")\n",
    "install.packages(\"RJSONIO\")\n",
    "install.packages(\"stringr\")"
   ]
  },
  {
   "cell_type": "code",
   "execution_count": 2,
   "metadata": {
    "collapsed": false
   },
   "outputs": [
    {
     "name": "stderr",
     "output_type": "stream",
     "text": [
      "Loading required package: bitops\n"
     ]
    }
   ],
   "source": [
    "#Loading the required packages\n",
    "library(\"twitteR\")\n",
    "library(\"RCurl\")\n",
    "library(\"RJSONIO\")\n",
    "library(\"stringr\")"
   ]
  },
  {
   "cell_type": "code",
   "execution_count": 3,
   "metadata": {
    "collapsed": false
   },
   "outputs": [
    {
     "name": "stdout",
     "output_type": "stream",
     "text": [
      "[1] \"Using direct authentication\"\n"
     ]
    }
   ],
   "source": [
    "#Setting up Twitter Connection\n",
    "api_key <- \"ivfmBNNLieQKlo03pkByNVMYu\"\n",
    "api_secret <- \"AWWos01ur84W8izPM904X0llxNBlEk9rnboStzcYXM1ZECOgxD\"\n",
    "token <- \"773354810095628294-I1BOeC1mmki1WUTazJosYVLVV9g07Uv\"\n",
    "token_secret <- \"j4ZtTVWt9EC34jx2JGX7ewcHUeIbyrDdiXgsNZPv0ziKv\"\n",
    "setup_twitter_oauth(api_key, api_secret, token, token_secret)"
   ]
  },
  {
   "cell_type": "code",
   "execution_count": 4,
   "metadata": {
    "collapsed": false
   },
   "outputs": [
    {
     "data": {
      "text/plain": [
       "[[1]]\n",
       "[1] \"newsinvideos: #Justin #Trudeau #Charms #Donald #Trump \\n\\nhttps://t.co/ij1UAsRxWg https://t.co/of73I4nT7a\"\n",
       "\n",
       "[[2]]\n",
       "[1] \"US_News1: #Justin #Trudeau #Charms #Donald #Trump \\n\\nhttps://t.co/Yq9i0Uzmxg https://t.co/Z1DYutIE7t\"\n",
       "\n",
       "[[3]]\n",
       "[1] \"nonewsnot: #Ivanka #crush or deliberate attempt to #trump #Trudeau that too #JustIn!\\n#Justin, save urself #JustIn!\"\n",
       "\n",
       "[[4]]\n",
       "[1] \"Pmagster: #Justin ( aka Joe  ) Trudeau out classed #potus by a Canadian mile\"\n",
       "\n",
       "[[5]]\n",
       "[1] \"champrose: #Ivanka #Trump '#gazing' at #Justin #Trudeau - photo #sparks #memes https://t.co/SP2nELKq82\"\n",
       "\n",
       "[[6]]\n",
       "[1] \"titrespresse: (OuestFrance.fr):#CETA. #Justin Trudeau défend un \\\"accord progressiste\\\" à Strasbourg : Il.. https://t.co/c5JVR6T8qH https://t.co/3JbiYXrUG3\"\n"
      ]
     },
     "metadata": {},
     "output_type": "display_data"
    }
   ],
   "source": [
    "tweets_example <- searchTwitter(\"#Justin Trudeau\", n=30)\n",
    "head(tweets_example)"
   ]
  },
  {
   "cell_type": "code",
   "execution_count": 5,
   "metadata": {
    "collapsed": false
   },
   "outputs": [
    {
     "data": {
      "text/html": [
       "'UW Huskies- LA Lakers- NE Patriots'"
      ],
      "text/latex": [
       "'UW Huskies- LA Lakers- NE Patriots'"
      ],
      "text/markdown": [
       "'UW Huskies- LA Lakers- NE Patriots'"
      ],
      "text/plain": [
       "[1] \"UW Huskies- LA Lakers- NE Patriots\""
      ]
     },
     "metadata": {},
     "output_type": "display_data"
    }
   ],
   "source": [
    "jcanton11 <- getUser('jcanton11')\n",
    "jcanton11$getDescription()"
   ]
  },
  {
   "cell_type": "code",
   "execution_count": 6,
   "metadata": {
    "collapsed": false
   },
   "outputs": [
    {
     "data": {
      "text/html": [
       "505"
      ],
      "text/latex": [
       "505"
      ],
      "text/markdown": [
       "505"
      ],
      "text/plain": [
       "[1] 505"
      ]
     },
     "metadata": {},
     "output_type": "display_data"
    },
    {
     "data": {
      "text/plain": [
       "$`125450506`\n",
       "[1] \"KAILAKILLAMARIE\"\n",
       "\n",
       "$`554540678`\n",
       "[1] \"TheDrunkStory\"\n",
       "\n",
       "$`49825435`\n",
       "[1] \"MegaTJP\"\n",
       "\n",
       "$`53198949`\n",
       "[1] \"Mr1125\"\n"
      ]
     },
     "metadata": {},
     "output_type": "display_data"
    },
    {
     "data": {
      "text/plain": [
       "[[1]]\n",
       "[1] \"adrian_zacarias: Take a stand for something you believe in.\\u270a\\xed\\xa0\\xbc\\xed\\xbf\\xbb\\u270a\\xed\\xa0\\xbc\\xed\\xbf\\xbc\\u270a\\xed\\xa0\\xbc\\xed\\xbf\\xbd\\u270a\\xed\\xa0\\xbc\\xed\\xbf\\xbe\\u270a\\xed\\xa0\\xbc\\xed\\xbf\\xbf #ADayWithoutImmigrants #ImmigrantsMakeAmericaGreat https://t.co/6S0cdTAP47\"\n",
       "\n",
       "[[2]]\n",
       "[1] \"ajplus: How does #ADayWithoutImmigrants look? People respond to the immigration strike that’s happening today across the U.… https://t.co/sj2Myt0mPM\"\n",
       "\n",
       "[[3]]\n",
       "[1] \"Greg_woods: Restaurants including Tacos Tijuana auto shops hair salons supermarkets all closed in Fresno #diasininmigrantes… https://t.co/X7cblTGf7W\"\n",
       "\n",
       "[[4]]\n",
       "[1] \"EduSamani: THIS IS A POWERFUL PHOTO. A sign at a McDonald's restaurant reads \\\"We are closed because we don't have any people.\\\"… https://t.co/xKW7JYhUpG\"\n",
       "\n",
       "[[5]]\n",
       "[1] \"foodandwine: We interview a refugee &amp; an undocumented worker on being an immigrant in restaurant kitchens:… https://t.co/n5dDaO5tZm\"\n"
      ]
     },
     "metadata": {},
     "output_type": "display_data"
    }
   ],
   "source": [
    "jcanton11$getFollowersCount()\n",
    "jcanton11$getFriends(n=5)\n",
    "jcanton11$getFavorites(n=5)"
   ]
  },
  {
   "cell_type": "code",
   "execution_count": 7,
   "metadata": {
    "collapsed": false
   },
   "outputs": [
    {
     "data": {
      "text/html": [
       "<table>\n",
       "<thead><tr><th scope=col>text</th><th scope=col>favorited</th><th scope=col>favoriteCount</th><th scope=col>replyToSN</th><th scope=col>created</th><th scope=col>truncated</th><th scope=col>replyToSID</th><th scope=col>id</th><th scope=col>replyToUID</th><th scope=col>statusSource</th><th scope=col>screenName</th><th scope=col>retweetCount</th><th scope=col>isRetweet</th><th scope=col>retweeted</th><th scope=col>longitude</th><th scope=col>latitude</th></tr></thead>\n",
       "<tbody>\n",
       "\t<tr><td><span style=white-space:pre-wrap>#Justin #Trudeau #Charms #Donald #Trump \n",
       "\n",
       "https://t.co/ij1UAsRxWg https://t.co/of73I4nT7a                                                </span></td><td>FALSE                                                                                                                                                                              </td><td>0                                                                                                                                                                                  </td><td>NA                                                                                                                                                                                 </td><td>2017-02-16 20:54:46                                                                                                                                                                </td><td>FALSE                                                                                                                                                                              </td><td>NA                                                                                                                                                                                 </td><td>832332416400420864                                                                                                                                                                 </td><td>NA                                                                                                                                                                                 </td><td><span style=white-space:pre-wrap>&lt;a href=\"http://bestvideostoday.com\" rel=\"nofollow\"&gt;NewsVideos&lt;/a&gt;                  </span>                                           </td><td>newsinvideos                                                                                                                                                                       </td><td>0                                                                                                                                                                                  </td><td>FALSE                                                                                                                                                                              </td><td>FALSE                                                                                                                                                                              </td><td>NA                                                                                                                                                                                 </td><td>NA                                                                                                                                                                                 </td></tr>\n",
       "\t<tr><td><span style=white-space:pre-wrap>#Justin #Trudeau #Charms #Donald #Trump \n",
       "\n",
       "https://t.co/Yq9i0Uzmxg https://t.co/Z1DYutIE7t                                                </span></td><td>FALSE                                                                                                                                                                              </td><td>0                                                                                                                                                                                  </td><td>NA                                                                                                                                                                                 </td><td>2017-02-16 20:53:53                                                                                                                                                                </td><td>FALSE                                                                                                                                                                              </td><td>NA                                                                                                                                                                                 </td><td>832332192877510664                                                                                                                                                                 </td><td>NA                                                                                                                                                                                 </td><td><span style=white-space:pre-wrap>&lt;a href=\"https://newsinvideos.com/\" rel=\"nofollow\"&gt;US_News&lt;/a&gt;                      </span>                                           </td><td><span style=white-space:pre-wrap>US_News1    </span>                                                                                                                               </td><td>0                                                                                                                                                                                  </td><td>FALSE                                                                                                                                                                              </td><td>FALSE                                                                                                                                                                              </td><td>NA                                                                                                                                                                                 </td><td>NA                                                                                                                                                                                 </td></tr>\n",
       "\t<tr><td><span style=white-space:pre-wrap>#Ivanka #crush or deliberate attempt to #trump #Trudeau that too #JustIn!\n",
       "#Justin, save urself #JustIn!                                   </span></td><td>FALSE                                                                                                                                                                              </td><td>0                                                                                                                                                                                  </td><td>NA                                                                                                                                                                                 </td><td>2017-02-16 20:28:56                                                                                                                                                                </td><td>FALSE                                                                                                                                                                              </td><td>NA                                                                                                                                                                                 </td><td>832325915212443648                                                                                                                                                                 </td><td>NA                                                                                                                                                                                 </td><td><span style=white-space:pre-wrap>&lt;a href=\"http://twitter.com\" rel=\"nofollow\"&gt;Twitter Web Client&lt;/a&gt;                  </span>                                           </td><td><span style=white-space:pre-wrap>nonewsnot   </span>                                                                                                                               </td><td>0                                                                                                                                                                                  </td><td>FALSE                                                                                                                                                                              </td><td>FALSE                                                                                                                                                                              </td><td>NA                                                                                                                                                                                 </td><td>NA                                                                                                                                                                                 </td></tr>\n",
       "\t<tr><td><span style=white-space:pre-wrap>#Justin ( aka Joe  ) Trudeau out classed #potus by a Canadian mile                                                                         </span></td><td>FALSE                                                                                                                                                                              </td><td>0                                                                                                                                                                                  </td><td>NA                                                                                                                                                                                 </td><td>2017-02-16 19:48:09                                                                                                                                                                </td><td>FALSE                                                                                                                                                                              </td><td>NA                                                                                                                                                                                 </td><td>832315650026643456                                                                                                                                                                 </td><td>NA                                                                                                                                                                                 </td><td><span style=white-space:pre-wrap>&lt;a href=\"http://twitter.com/download/iphone\" rel=\"nofollow\"&gt;Twitter for iPhone&lt;/a&gt;  </span>                                           </td><td><span style=white-space:pre-wrap>Pmagster    </span>                                                                                                                               </td><td>0                                                                                                                                                                                  </td><td>FALSE                                                                                                                                                                              </td><td>FALSE                                                                                                                                                                              </td><td>NA                                                                                                                                                                                 </td><td>NA                                                                                                                                                                                 </td></tr>\n",
       "\t<tr><td><span style=white-space:pre-wrap>#Ivanka #Trump '#gazing' at #Justin #Trudeau - photo #sparks #memes https://t.co/SP2nELKq82                                                </span></td><td>FALSE                                                                                                                                                                              </td><td>0                                                                                                                                                                                  </td><td>NA                                                                                                                                                                                 </td><td>2017-02-16 18:54:19                                                                                                                                                                </td><td>FALSE                                                                                                                                                                              </td><td>NA                                                                                                                                                                                 </td><td>832302103364145153                                                                                                                                                                 </td><td>NA                                                                                                                                                                                 </td><td><span style=white-space:pre-wrap>&lt;a href=\"http://twitter.com\" rel=\"nofollow\"&gt;Twitter Web Client&lt;/a&gt;                  </span>                                           </td><td><span style=white-space:pre-wrap>champrose   </span>                                                                                                                               </td><td>0                                                                                                                                                                                  </td><td>FALSE                                                                                                                                                                              </td><td>FALSE                                                                                                                                                                              </td><td>NA                                                                                                                                                                                 </td><td>NA                                                                                                                                                                                 </td></tr>\n",
       "\t<tr><td>(OuestFrance.fr):#CETA. #Justin Trudeau défend un \"accord progressiste\" à Strasbourg : Il.. https://t.co/c5JVR6T8qH https://t.co/3JbiYXrUG3</td><td>FALSE                                                                                                                                      </td><td>0                                                                                                                                          </td><td>NA                                                                                                                                         </td><td>2017-02-16 11:52:09                                                                                                                        </td><td>FALSE                                                                                                                                      </td><td>NA                                                                                                                                         </td><td>832195862893846529                                                                                                                         </td><td>NA                                                                                                                                         </td><td>&lt;a href=\"http://www.titrespresse.com\" rel=\"nofollow\"&gt;Titrespresse.com to Twitter&lt;/a&gt;                                           </td><td>titrespresse                                                                                                                               </td><td>0                                                                                                                                          </td><td>FALSE                                                                                                                                      </td><td>FALSE                                                                                                                                      </td><td>NA                                                                                                                                         </td><td>NA                                                                                                                                         </td></tr>\n",
       "</tbody>\n",
       "</table>\n"
      ],
      "text/latex": [
       "\\begin{tabular}{r|llllllllllllllll}\n",
       " text & favorited & favoriteCount & replyToSN & created & truncated & replyToSID & id & replyToUID & statusSource & screenName & retweetCount & isRetweet & retweeted & longitude & latitude\\\\\n",
       "\\hline\n",
       "\t \\#Justin \\#Trudeau \\#Charms \\#Donald \\#Trump \n",
       "\n",
       "https://t.co/ij1UAsRxWg https://t.co/of73I4nT7a                                                 & FALSE                                                                                                                                                 & 0                                                                                                                                                     & NA                                                                                                                                                    & 2017-02-16 20:54:46                                                                                                                                   & FALSE                                                                                                                                                 & NA                                                                                                                                                    & 832332416400420864                                                                                                                                    & NA                                                                                                                                                    & <a href=\"http://bestvideostoday.com\" rel=\"nofollow\">NewsVideos</a>                                                                                    & newsinvideos                                                                                                                                          & 0                                                                                                                                                     & FALSE                                                                                                                                                 & FALSE                                                                                                                                                 & NA                                                                                                                                                    & NA                                                                                                                                                   \\\\\n",
       "\t \\#Justin \\#Trudeau \\#Charms \\#Donald \\#Trump \n",
       "\n",
       "https://t.co/Yq9i0Uzmxg https://t.co/Z1DYutIE7t                                                 & FALSE                                                                                                                                                 & 0                                                                                                                                                     & NA                                                                                                                                                    & 2017-02-16 20:53:53                                                                                                                                   & FALSE                                                                                                                                                 & NA                                                                                                                                                    & 832332192877510664                                                                                                                                    & NA                                                                                                                                                    & <a href=\"https://newsinvideos.com/\" rel=\"nofollow\">US\\_News</a>                                                                                      & US\\_News1                                                                                                                                            & 0                                                                                                                                                     & FALSE                                                                                                                                                 & FALSE                                                                                                                                                 & NA                                                                                                                                                    & NA                                                                                                                                                   \\\\\n",
       "\t \\#Ivanka \\#crush or deliberate attempt to \\#trump \\#Trudeau that too \\#JustIn!\n",
       "\\#Justin, save urself \\#JustIn!                                    & FALSE                                                                                                                                                     & 0                                                                                                                                                         & NA                                                                                                                                                        & 2017-02-16 20:28:56                                                                                                                                       & FALSE                                                                                                                                                     & NA                                                                                                                                                        & 832325915212443648                                                                                                                                        & NA                                                                                                                                                        & <a href=\"http://twitter.com\" rel=\"nofollow\">Twitter Web Client</a>                                                                                        & nonewsnot                                                                                                                                                 & 0                                                                                                                                                         & FALSE                                                                                                                                                     & FALSE                                                                                                                                                     & NA                                                                                                                                                        & NA                                                                                                                                                       \\\\\n",
       "\t \\#Justin ( aka Joe  ) Trudeau out classed \\#potus by a Canadian mile                                                                          & FALSE                                                                                                                                           & 0                                                                                                                                               & NA                                                                                                                                              & 2017-02-16 19:48:09                                                                                                                             & FALSE                                                                                                                                           & NA                                                                                                                                              & 832315650026643456                                                                                                                              & NA                                                                                                                                              & <a href=\"http://twitter.com/download/iphone\" rel=\"nofollow\">Twitter for iPhone</a>                                                              & Pmagster                                                                                                                                        & 0                                                                                                                                               & FALSE                                                                                                                                           & FALSE                                                                                                                                           & NA                                                                                                                                              & NA                                                                                                                                             \\\\\n",
       "\t \\#Ivanka \\#Trump '\\#gazing' at \\#Justin \\#Trudeau - photo \\#sparks \\#memes https://t.co/SP2nELKq82                                                 & FALSE                                                                                                                                                     & 0                                                                                                                                                         & NA                                                                                                                                                        & 2017-02-16 18:54:19                                                                                                                                       & FALSE                                                                                                                                                     & NA                                                                                                                                                        & 832302103364145153                                                                                                                                        & NA                                                                                                                                                        & <a href=\"http://twitter.com\" rel=\"nofollow\">Twitter Web Client</a>                                                                                        & champrose                                                                                                                                                 & 0                                                                                                                                                         & FALSE                                                                                                                                                     & FALSE                                                                                                                                                     & NA                                                                                                                                                        & NA                                                                                                                                                       \\\\\n",
       "\t (OuestFrance.fr):\\#CETA. \\#Justin Trudeau défend un \"accord progressiste\" à Strasbourg : Il.. https://t.co/c5JVR6T8qH https://t.co/3JbiYXrUG3 & FALSE                                                                                                                                           & 0                                                                                                                                               & NA                                                                                                                                              & 2017-02-16 11:52:09                                                                                                                             & FALSE                                                                                                                                           & NA                                                                                                                                              & 832195862893846529                                                                                                                              & NA                                                                                                                                              & <a href=\"http://www.titrespresse.com\" rel=\"nofollow\">Titrespresse.com to Twitter</a>                                                            & titrespresse                                                                                                                                    & 0                                                                                                                                               & FALSE                                                                                                                                           & FALSE                                                                                                                                           & NA                                                                                                                                              & NA                                                                                                                                             \\\\\n",
       "\\end{tabular}\n"
      ],
      "text/markdown": [
       "\n",
       "text | favorited | favoriteCount | replyToSN | created | truncated | replyToSID | id | replyToUID | statusSource | screenName | retweetCount | isRetweet | retweeted | longitude | latitude | \n",
       "|---|---|---|---|---|---|\n",
       "| #Justin #Trudeau #Charms #Donald #Trump \n",
       "\n",
       "https://t.co/ij1UAsRxWg https://t.co/of73I4nT7a                                                 | FALSE                                                                                                                                       | 0                                                                                                                                           | NA                                                                                                                                          | 2017-02-16 20:54:46                                                                                                                         | FALSE                                                                                                                                       | NA                                                                                                                                          | 832332416400420864                                                                                                                          | NA                                                                                                                                          | <a href=\"http://bestvideostoday.com\" rel=\"nofollow\">NewsVideos</a>                                                                          | newsinvideos                                                                                                                                | 0                                                                                                                                           | FALSE                                                                                                                                       | FALSE                                                                                                                                       | NA                                                                                                                                          | NA                                                                                                                                          | \n",
       "| #Justin #Trudeau #Charms #Donald #Trump \n",
       "\n",
       "https://t.co/Yq9i0Uzmxg https://t.co/Z1DYutIE7t                                                 | FALSE                                                                                                                                       | 0                                                                                                                                           | NA                                                                                                                                          | 2017-02-16 20:53:53                                                                                                                         | FALSE                                                                                                                                       | NA                                                                                                                                          | 832332192877510664                                                                                                                          | NA                                                                                                                                          | <a href=\"https://newsinvideos.com/\" rel=\"nofollow\">US_News</a>                                                                              | US_News1                                                                                                                                    | 0                                                                                                                                           | FALSE                                                                                                                                       | FALSE                                                                                                                                       | NA                                                                                                                                          | NA                                                                                                                                          | \n",
       "| #Ivanka #crush or deliberate attempt to #trump #Trudeau that too #JustIn!\n",
       "#Justin, save urself #JustIn!                                    | FALSE                                                                                                                                       | 0                                                                                                                                           | NA                                                                                                                                          | 2017-02-16 20:28:56                                                                                                                         | FALSE                                                                                                                                       | NA                                                                                                                                          | 832325915212443648                                                                                                                          | NA                                                                                                                                          | <a href=\"http://twitter.com\" rel=\"nofollow\">Twitter Web Client</a>                                                                          | nonewsnot                                                                                                                                   | 0                                                                                                                                           | FALSE                                                                                                                                       | FALSE                                                                                                                                       | NA                                                                                                                                          | NA                                                                                                                                          | \n",
       "| #Justin ( aka Joe  ) Trudeau out classed #potus by a Canadian mile                                                                          | FALSE                                                                                                                                       | 0                                                                                                                                           | NA                                                                                                                                          | 2017-02-16 19:48:09                                                                                                                         | FALSE                                                                                                                                       | NA                                                                                                                                          | 832315650026643456                                                                                                                          | NA                                                                                                                                          | <a href=\"http://twitter.com/download/iphone\" rel=\"nofollow\">Twitter for iPhone</a>                                                          | Pmagster                                                                                                                                    | 0                                                                                                                                           | FALSE                                                                                                                                       | FALSE                                                                                                                                       | NA                                                                                                                                          | NA                                                                                                                                          | \n",
       "| #Ivanka #Trump '#gazing' at #Justin #Trudeau - photo #sparks #memes https://t.co/SP2nELKq82                                                 | FALSE                                                                                                                                       | 0                                                                                                                                           | NA                                                                                                                                          | 2017-02-16 18:54:19                                                                                                                         | FALSE                                                                                                                                       | NA                                                                                                                                          | 832302103364145153                                                                                                                          | NA                                                                                                                                          | <a href=\"http://twitter.com\" rel=\"nofollow\">Twitter Web Client</a>                                                                          | champrose                                                                                                                                   | 0                                                                                                                                           | FALSE                                                                                                                                       | FALSE                                                                                                                                       | NA                                                                                                                                          | NA                                                                                                                                          | \n",
       "| (OuestFrance.fr):#CETA. #Justin Trudeau défend un \"accord progressiste\" à Strasbourg : Il.. https://t.co/c5JVR6T8qH https://t.co/3JbiYXrUG3 | FALSE                                                                                                                                       | 0                                                                                                                                           | NA                                                                                                                                          | 2017-02-16 11:52:09                                                                                                                         | FALSE                                                                                                                                       | NA                                                                                                                                          | 832195862893846529                                                                                                                          | NA                                                                                                                                          | <a href=\"http://www.titrespresse.com\" rel=\"nofollow\">Titrespresse.com to Twitter</a>                                                        | titrespresse                                                                                                                                | 0                                                                                                                                           | FALSE                                                                                                                                       | FALSE                                                                                                                                       | NA                                                                                                                                          | NA                                                                                                                                          | \n",
       "\n",
       "\n"
      ],
      "text/plain": [
       "  text                                                                                                                                       \n",
       "1 #Justin #Trudeau #Charms #Donald #Trump \\n\\nhttps://t.co/ij1UAsRxWg https://t.co/of73I4nT7a                                                \n",
       "2 #Justin #Trudeau #Charms #Donald #Trump \\n\\nhttps://t.co/Yq9i0Uzmxg https://t.co/Z1DYutIE7t                                                \n",
       "3 #Ivanka #crush or deliberate attempt to #trump #Trudeau that too #JustIn!\\n#Justin, save urself #JustIn!                                   \n",
       "4 #Justin ( aka Joe  ) Trudeau out classed #potus by a Canadian mile                                                                         \n",
       "5 #Ivanka #Trump '#gazing' at #Justin #Trudeau - photo #sparks #memes https://t.co/SP2nELKq82                                                \n",
       "6 (OuestFrance.fr):#CETA. #Justin Trudeau défend un \"accord progressiste\" à Strasbourg : Il.. https://t.co/c5JVR6T8qH https://t.co/3JbiYXrUG3\n",
       "  favorited favoriteCount replyToSN created             truncated replyToSID\n",
       "1 FALSE     0             NA        2017-02-16 20:54:46 FALSE     NA        \n",
       "2 FALSE     0             NA        2017-02-16 20:53:53 FALSE     NA        \n",
       "3 FALSE     0             NA        2017-02-16 20:28:56 FALSE     NA        \n",
       "4 FALSE     0             NA        2017-02-16 19:48:09 FALSE     NA        \n",
       "5 FALSE     0             NA        2017-02-16 18:54:19 FALSE     NA        \n",
       "6 FALSE     0             NA        2017-02-16 11:52:09 FALSE     NA        \n",
       "  id                 replyToUID\n",
       "1 832332416400420864 NA        \n",
       "2 832332192877510664 NA        \n",
       "3 832325915212443648 NA        \n",
       "4 832315650026643456 NA        \n",
       "5 832302103364145153 NA        \n",
       "6 832195862893846529 NA        \n",
       "  statusSource                                                                        \n",
       "1 <a href=\"http://bestvideostoday.com\" rel=\"nofollow\">NewsVideos</a>                  \n",
       "2 <a href=\"https://newsinvideos.com/\" rel=\"nofollow\">US_News</a>                      \n",
       "3 <a href=\"http://twitter.com\" rel=\"nofollow\">Twitter Web Client</a>                  \n",
       "4 <a href=\"http://twitter.com/download/iphone\" rel=\"nofollow\">Twitter for iPhone</a>  \n",
       "5 <a href=\"http://twitter.com\" rel=\"nofollow\">Twitter Web Client</a>                  \n",
       "6 <a href=\"http://www.titrespresse.com\" rel=\"nofollow\">Titrespresse.com to Twitter</a>\n",
       "  screenName   retweetCount isRetweet retweeted longitude latitude\n",
       "1 newsinvideos 0            FALSE     FALSE     NA        NA      \n",
       "2 US_News1     0            FALSE     FALSE     NA        NA      \n",
       "3 nonewsnot    0            FALSE     FALSE     NA        NA      \n",
       "4 Pmagster     0            FALSE     FALSE     NA        NA      \n",
       "5 champrose    0            FALSE     FALSE     NA        NA      \n",
       "6 titrespresse 0            FALSE     FALSE     NA        NA      "
      ]
     },
     "metadata": {},
     "output_type": "display_data"
    }
   ],
   "source": [
    "#Converting to Data Frames\n",
    "df_example <- twListToDF(tweets_example)\n",
    "head(df_example)"
   ]
  },
  {
   "cell_type": "code",
   "execution_count": 8,
   "metadata": {
    "collapsed": false
   },
   "outputs": [
    {
     "name": "stderr",
     "output_type": "stream",
     "text": [
      "Loading required namespace: RSQLite\n"
     ]
    },
    {
     "data": {
      "text/html": [
       "TRUE"
      ],
      "text/latex": [
       "TRUE"
      ],
      "text/markdown": [
       "TRUE"
      ],
      "text/plain": [
       "[1] TRUE"
      ]
     },
     "metadata": {},
     "output_type": "display_data"
    }
   ],
   "source": [
    "#Database Persistance\n",
    "sql_lite_file = tempfile()\n",
    "register_sqlite_backend(sql_lite_file)\n",
    "store_tweets_db(tweets_example)"
   ]
  },
  {
   "cell_type": "code",
   "execution_count": 9,
   "metadata": {
    "collapsed": false
   },
   "outputs": [
    {
     "data": {
      "text/plain": [
       "[[1]]\n",
       "[1] \"newsinvideos: #Justin #Trudeau #Charms #Donald #Trump \\n\\nhttps://t.co/ij1UAsRxWg https://t.co/of73I4nT7a\"\n",
       "\n",
       "[[2]]\n",
       "[1] \"US_News1: #Justin #Trudeau #Charms #Donald #Trump \\n\\nhttps://t.co/Yq9i0Uzmxg https://t.co/Z1DYutIE7t\"\n",
       "\n",
       "[[3]]\n",
       "[1] \"nonewsnot: #Ivanka #crush or deliberate attempt to #trump #Trudeau that too #JustIn!\\n#Justin, save urself #JustIn!\"\n",
       "\n",
       "[[4]]\n",
       "[1] \"Pmagster: #Justin ( aka Joe  ) Trudeau out classed #potus by a Canadian mile\"\n",
       "\n",
       "[[5]]\n",
       "[1] \"champrose: #Ivanka #Trump '#gazing' at #Justin #Trudeau - photo #sparks #memes https://t.co/SP2nELKq82\"\n",
       "\n",
       "[[6]]\n",
       "[1] \"titrespresse: (OuestFrance.fr):#CETA. #Justin Trudeau défend un \\\"accord progressiste\\\" à Strasbourg : Il.. https://t.co/c5JVR6T8qH https://t.co/3JbiYXrUG3\"\n"
      ]
     },
     "metadata": {},
     "output_type": "display_data"
    }
   ],
   "source": [
    "from_db = load_tweets_db()\n",
    "head(from_db)"
   ]
  },
  {
   "cell_type": "code",
   "execution_count": 11,
   "metadata": {
    "collapsed": false
   },
   "outputs": [
    {
     "data": {
      "text/plain": [
       "[[1]]\n",
       "[1] \"cranatic: Update: Bchron, BoolNet, caribou, CePa, fmri, HTSCluster, isa2, lessR, lgcp, spatstat. http://t.co/skyrajMA #rstats\"\n",
       "\n",
       "[[2]]\n",
       "[1] \"cranatic: New: extrafont, extrafontdb, Rttf2pt1, x12GUI. http://t.co/skyrajMA #rstats\"\n",
       "\n",
       "[[3]]\n",
       "[1] \"cranatic: Update: drc, RcmdrPlugin.survival, rrcov, spls. http://t.co/eEoXNifB #rstats\"\n",
       "\n",
       "[[4]]\n",
       "[1] \"cranatic: New: hzar. http://t.co/eEoXNifB #rstats\"\n",
       "\n",
       "[[5]]\n",
       "[1] \"cranatic: Update: directlabels, forensim, gdata, gWidgetstcltk, gWidgetsWWW, harvestr, rrlda, Rz, Sim.DiffProc, ... http://t.co/9JEe7K91 #rstats\"\n"
      ]
     },
     "metadata": {},
     "output_type": "display_data"
    }
   ],
   "source": [
    "cran_tweets <- userTimeline('cranatic')\n",
    "cran_tweets[1:5]"
   ]
  },
  {
   "cell_type": "code",
   "execution_count": 12,
   "metadata": {
    "collapsed": false
   },
   "outputs": [
    {
     "data": {
      "text/html": [
       "<table>\n",
       "<thead><tr><th scope=col>name</th><th scope=col>country</th><th scope=col>woeid</th></tr></thead>\n",
       "<tbody>\n",
       "\t<tr><td>Worldwide</td><td>         </td><td>1        </td></tr>\n",
       "\t<tr><td>Winnipeg </td><td>Canada   </td><td>2972     </td></tr>\n",
       "\t<tr><td>Ottawa   </td><td>Canada   </td><td>3369     </td></tr>\n",
       "\t<tr><td>Quebec   </td><td>Canada   </td><td>3444     </td></tr>\n",
       "\t<tr><td>Montreal </td><td>Canada   </td><td>3534     </td></tr>\n",
       "\t<tr><td>Toronto  </td><td>Canada   </td><td>4118     </td></tr>\n",
       "</tbody>\n",
       "</table>\n"
      ],
      "text/latex": [
       "\\begin{tabular}{r|lll}\n",
       " name & country & woeid\\\\\n",
       "\\hline\n",
       "\t Worldwide &           & 1        \\\\\n",
       "\t Winnipeg  & Canada    & 2972     \\\\\n",
       "\t Ottawa    & Canada    & 3369     \\\\\n",
       "\t Quebec    & Canada    & 3444     \\\\\n",
       "\t Montreal  & Canada    & 3534     \\\\\n",
       "\t Toronto   & Canada    & 4118     \\\\\n",
       "\\end{tabular}\n"
      ],
      "text/markdown": [
       "\n",
       "name | country | woeid | \n",
       "|---|---|---|---|---|---|\n",
       "| Worldwide |           | 1         | \n",
       "| Winnipeg  | Canada    | 2972      | \n",
       "| Ottawa    | Canada    | 3369      | \n",
       "| Quebec    | Canada    | 3444      | \n",
       "| Montreal  | Canada    | 3534      | \n",
       "| Toronto   | Canada    | 4118      | \n",
       "\n",
       "\n"
      ],
      "text/plain": [
       "  name      country woeid\n",
       "1 Worldwide         1    \n",
       "2 Winnipeg  Canada  2972 \n",
       "3 Ottawa    Canada  3369 \n",
       "4 Quebec    Canada  3444 \n",
       "5 Montreal  Canada  3534 \n",
       "6 Toronto   Canada  4118 "
      ]
     },
     "metadata": {},
     "output_type": "display_data"
    }
   ],
   "source": [
    "#Trends\n",
    "avail_trends = availableTrendLocations()\n",
    "head(avail_trends)"
   ]
  },
  {
   "cell_type": "code",
   "execution_count": 13,
   "metadata": {
    "collapsed": false
   },
   "outputs": [
    {
     "data": {
      "text/html": [
       "<table>\n",
       "<thead><tr><th scope=col>name</th><th scope=col>country</th><th scope=col>woeid</th></tr></thead>\n",
       "<tbody>\n",
       "\t<tr><td>Valparaiso</td><td>Chile     </td><td>349861    </td></tr>\n",
       "</tbody>\n",
       "</table>\n"
      ],
      "text/latex": [
       "\\begin{tabular}{r|lll}\n",
       " name & country & woeid\\\\\n",
       "\\hline\n",
       "\t Valparaiso & Chile      & 349861    \\\\\n",
       "\\end{tabular}\n"
      ],
      "text/markdown": [
       "\n",
       "name | country | woeid | \n",
       "|---|\n",
       "| Valparaiso | Chile      | 349861     | \n",
       "\n",
       "\n"
      ],
      "text/plain": [
       "  name       country woeid \n",
       "1 Valparaiso Chile   349861"
      ]
     },
     "metadata": {},
     "output_type": "display_data"
    }
   ],
   "source": [
    "close_trends = closestTrendLocations(-30.7, -71.1)\n",
    "head(close_trends)"
   ]
  },
  {
   "cell_type": "code",
   "execution_count": 14,
   "metadata": {
    "collapsed": false
   },
   "outputs": [
    {
     "data": {
      "text/html": [
       "<table>\n",
       "<thead><tr><th scope=col>name</th><th scope=col>url</th><th scope=col>query</th><th scope=col>woeid</th></tr></thead>\n",
       "<tbody>\n",
       "\t<tr><td>#TrumpPressConference                              </td><td>http://twitter.com/search?q=%23TrumpPressConference</td><td>%23TrumpPressConference                            </td><td>2367105                                            </td></tr>\n",
       "\t<tr><td>#hurtbae                                           </td><td>http://twitter.com/search?q=%23hurtbae             </td><td>%23hurtbae                                         </td><td>2367105                                            </td></tr>\n",
       "\t<tr><td>Hanley Ramirez                                     </td><td>http://twitter.com/search?q=%22Hanley+Ramirez%22   </td><td>%22Hanley+Ramirez%22                               </td><td>2367105                                            </td></tr>\n",
       "\t<tr><td>#AAASmtg                                           </td><td>http://twitter.com/search?q=%23AAASmtg             </td><td>%23AAASmtg                                         </td><td>2367105                                            </td></tr>\n",
       "\t<tr><td>Isaiah Thomas                                      </td><td>http://twitter.com/search?q=%22Isaiah+Thomas%22    </td><td>%22Isaiah+Thomas%22                                </td><td>2367105                                            </td></tr>\n",
       "\t<tr><td>Tunnel Vision                                      </td><td>http://twitter.com/search?q=%22Tunnel+Vision%22    </td><td>%22Tunnel+Vision%22                                </td><td>2367105                                            </td></tr>\n",
       "</tbody>\n",
       "</table>\n"
      ],
      "text/latex": [
       "\\begin{tabular}{r|llll}\n",
       " name & url & query & woeid\\\\\n",
       "\\hline\n",
       "\t \\#TrumpPressConference                               & http://twitter.com/search?q=\\%23TrumpPressConference & \\%23TrumpPressConference                             & 2367105                                              \\\\\n",
       "\t \\#hurtbae                                            & http://twitter.com/search?q=\\%23hurtbae              & \\%23hurtbae                                          & 2367105                                              \\\\\n",
       "\t Hanley Ramirez                                          & http://twitter.com/search?q=\\%22Hanley+Ramirez\\%22    & \\%22Hanley+Ramirez\\%22                                & 2367105                                                \\\\\n",
       "\t \\#AAASmtg                                            & http://twitter.com/search?q=\\%23AAASmtg              & \\%23AAASmtg                                          & 2367105                                              \\\\\n",
       "\t Isaiah Thomas                                           & http://twitter.com/search?q=\\%22Isaiah+Thomas\\%22     & \\%22Isaiah+Thomas\\%22                                 & 2367105                                                \\\\\n",
       "\t Tunnel Vision                                           & http://twitter.com/search?q=\\%22Tunnel+Vision\\%22     & \\%22Tunnel+Vision\\%22                                 & 2367105                                                \\\\\n",
       "\\end{tabular}\n"
      ],
      "text/markdown": [
       "\n",
       "name | url | query | woeid | \n",
       "|---|---|---|---|---|---|\n",
       "| #TrumpPressConference                               | http://twitter.com/search?q=%23TrumpPressConference | %23TrumpPressConference                             | 2367105                                             | \n",
       "| #hurtbae                                            | http://twitter.com/search?q=%23hurtbae              | %23hurtbae                                          | 2367105                                             | \n",
       "| Hanley Ramirez                                      | http://twitter.com/search?q=%22Hanley+Ramirez%22    | %22Hanley+Ramirez%22                                | 2367105                                             | \n",
       "| #AAASmtg                                            | http://twitter.com/search?q=%23AAASmtg              | %23AAASmtg                                          | 2367105                                             | \n",
       "| Isaiah Thomas                                       | http://twitter.com/search?q=%22Isaiah+Thomas%22     | %22Isaiah+Thomas%22                                 | 2367105                                             | \n",
       "| Tunnel Vision                                       | http://twitter.com/search?q=%22Tunnel+Vision%22     | %22Tunnel+Vision%22                                 | 2367105                                             | \n",
       "\n",
       "\n"
      ],
      "text/plain": [
       "  name                  url                                                \n",
       "1 #TrumpPressConference http://twitter.com/search?q=%23TrumpPressConference\n",
       "2 #hurtbae              http://twitter.com/search?q=%23hurtbae             \n",
       "3 Hanley Ramirez        http://twitter.com/search?q=%22Hanley+Ramirez%22   \n",
       "4 #AAASmtg              http://twitter.com/search?q=%23AAASmtg             \n",
       "5 Isaiah Thomas         http://twitter.com/search?q=%22Isaiah+Thomas%22    \n",
       "6 Tunnel Vision         http://twitter.com/search?q=%22Tunnel+Vision%22    \n",
       "  query                   woeid  \n",
       "1 %23TrumpPressConference 2367105\n",
       "2 %23hurtbae              2367105\n",
       "3 %22Hanley+Ramirez%22    2367105\n",
       "4 %23AAASmtg              2367105\n",
       "5 %22Isaiah+Thomas%22     2367105\n",
       "6 %22Tunnel+Vision%22     2367105"
      ]
     },
     "metadata": {},
     "output_type": "display_data"
    }
   ],
   "source": [
    "trends = getTrends(2367105)\n",
    "head(trends)"
   ]
  },
  {
   "cell_type": "code",
   "execution_count": 15,
   "metadata": {
    "collapsed": false
   },
   "outputs": [
    {
     "data": {
      "image/png": "[encoded data removed]",
      "text/plain": [
       "plot without title"
      ]
     },
     "metadata": {},
     "output_type": "display_data"
    }
   ],
   "source": [
    "#Example\n",
    "r_tweets <- searchTwitter(\"#wednesdaywisdom\", n=100)\n",
    "sources <- sapply(r_tweets, function(x) x$getStatusSource())\n",
    "sources <- gsub(\"</a>\", \"\", sources)\n",
    "sources <- strsplit(sources, \">\")\n",
    "sources <- sapply(sources, function(x) ifelse(length(x) > 1, x[2], x[1]))\n",
    "source_table = table(sources)\n",
    "pie(source_table[source_table > 10])"
   ]
  },
  {
   "cell_type": "code",
   "execution_count": null,
   "metadata": {
    "collapsed": true
   },
   "outputs": [],
   "source": []
  }
 ],
 "metadata": {
  "anaconda-cloud": {},
  "kernelspec": {
   "display_name": "R",
   "language": "R",
   "name": "ir"
  },
  "language_info": {
   "codemirror_mode": "r",
   "file_extension": ".r",
   "mimetype": "text/x-r-source",
   "name": "R",
   "pygments_lexer": "r",
   "version": "3.3.2"
  }
 },
 "nbformat": 4,
 "nbformat_minor": 1
}
