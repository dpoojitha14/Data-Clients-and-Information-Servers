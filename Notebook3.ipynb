{
 "cells": [
  {
   "cell_type": "code",
   "execution_count": 1,
   "metadata": {
    "collapsed": true
   },
   "outputs": [],
   "source": [
    "#PROBLEM 2: SUMMARIZING TRENDING TOPICS ABOUT A LOCATION"
   ]
  },
  {
   "cell_type": "code",
   "execution_count": 2,
   "metadata": {
    "collapsed": false
   },
   "outputs": [
    {
     "name": "stderr",
     "output_type": "stream",
     "text": [
      "Loading required package: ggplot2\n",
      "Loading required package: bitops\n"
     ]
    }
   ],
   "source": [
    "library(ggmap)\n",
    "library(\"twitteR\")\n",
    "library(\"RCurl\")\n",
    "library(\"RJSONIO\")\n",
    "library(\"stringr\")"
   ]
  },
  {
   "cell_type": "code",
   "execution_count": 3,
   "metadata": {
    "collapsed": false
   },
   "outputs": [
    {
     "name": "stdout",
     "output_type": "stream",
     "text": [
      "[1] \"Using direct authentication\"\n"
     ]
    }
   ],
   "source": [
    "#Setting up Twitter Connection\n",
    "api_key <- \"ivfmBNNLieQKlo03pkByNVMYu\"\n",
    "api_secret <- \"AWWos01ur84W8izPM904X0llxNBlEk9rnboStzcYXM1ZECOgxD\"\n",
    "token <- \"773354810095628294-I1BOeC1mmki1WUTazJosYVLVV9g07Uv\"\n",
    "token_secret <- \"j4ZtTVWt9EC34jx2JGX7ewcHUeIbyrDdiXgsNZPv0ziKv\"\n",
    "setup_twitter_oauth(api_key, api_secret, token, token_secret)"
   ]
  },
  {
   "cell_type": "code",
   "execution_count": 6,
   "metadata": {
    "collapsed": false
   },
   "outputs": [
    {
     "name": "stderr",
     "output_type": "stream",
     "text": [
      "Information from URL : http://maps.googleapis.com/maps/api/geocode/json?address=#Chasing&sensor=false\n",
      "Warning message in readLines(connect, warn = FALSE):\n",
      "“cannot open URL 'http://maps.googleapis.com/maps/api/geocode/json?address=#Chasing&sensor=false': HTTP status was '400 Bad Request'”Warning message in geocode(location):\n",
      "“  geocoding failed for \"#Chasing\".\n",
      "  if accompanied by 500 Internal Server Error with using dsk, try google.”"
     ]
    },
    {
     "data": {
      "text/html": [
       "TRUE"
      ],
      "text/latex": [
       "TRUE"
      ],
      "text/markdown": [
       "TRUE"
      ],
      "text/plain": [
       "[1] TRUE"
      ]
     },
     "metadata": {},
     "output_type": "display_data"
    },
    {
     "data": {
      "text/html": [
       "<table>\n",
       "<thead><tr><th scope=col>lon</th><th scope=col>lat</th></tr></thead>\n",
       "<tbody>\n",
       "\t<tr><td>NA</td><td>NA</td></tr>\n",
       "</tbody>\n",
       "</table>\n"
      ],
      "text/latex": [
       "\\begin{tabular}{r|ll}\n",
       " lon & lat\\\\\n",
       "\\hline\n",
       "\t NA & NA\\\\\n",
       "\\end{tabular}\n"
      ],
      "text/markdown": [
       "\n",
       "lon | lat | \n",
       "|---|\n",
       "| NA | NA | \n",
       "\n",
       "\n"
      ],
      "text/plain": [
       "  lon lat\n",
       "1 NA  NA "
      ]
     },
     "metadata": {},
     "output_type": "display_data"
    },
    {
     "data": {
      "text/html": [
       "<dl class=dl-horizontal>\n",
       "\t<dt>lon</dt>\n",
       "\t\t<dd>'numeric'</dd>\n",
       "\t<dt>lat</dt>\n",
       "\t\t<dd>'numeric'</dd>\n",
       "</dl>\n"
      ],
      "text/latex": [
       "\\begin{description*}\n",
       "\\item[lon] 'numeric'\n",
       "\\item[lat] 'numeric'\n",
       "\\end{description*}\n"
      ],
      "text/markdown": [
       "lon\n",
       ":   'numeric'lat\n",
       ":   'numeric'\n",
       "\n"
      ],
      "text/plain": [
       "      lon       lat \n",
       "\"numeric\" \"numeric\" "
      ]
     },
     "metadata": {},
     "output_type": "display_data"
    }
   ],
   "source": [
    "location = \"#Chasing\"\n",
    "code = geocode(location)\n",
    "is.data.frame(code)\n",
    "code\n",
    "sapply(code,class)"
   ]
  },
  {
   "cell_type": "code",
   "execution_count": 22,
   "metadata": {
    "collapsed": false
   },
   "outputs": [
    {
     "name": "stderr",
     "output_type": "stream",
     "text": [
      "Information from URL : http://maps.googleapis.com/maps/api/geocode/json?address=Paris&sensor=false\n"
     ]
    }
   ],
   "source": [
    "location = \"Paris\"\n",
    "#if a location is given\n",
    "if( !is.data.frame(location))\n",
    "    {\n",
    "    try(\n",
    "    {\n",
    "        code = geocode(location)\n",
    "\n",
    "    })\n",
    "}\n",
    "#if a geocode of a location is given\n",
    "if(is.data.frame(location))\n",
    "    {   \n",
    "    code = location\n",
    "}\n",
    "if(is.na(code$lat) & is.na(code$lon))\n",
    "{\n",
    "    print(\"Invalid location\")\n",
    "    }"
   ]
  },
  {
   "cell_type": "code",
   "execution_count": 23,
   "metadata": {
    "collapsed": false
   },
   "outputs": [
    {
     "data": {
      "text/html": [
       "<table>\n",
       "<thead><tr><th scope=col>name</th><th scope=col>country</th><th scope=col>woeid</th></tr></thead>\n",
       "<tbody>\n",
       "\t<tr><td>Paris </td><td>France</td><td>615702</td></tr>\n",
       "</tbody>\n",
       "</table>\n"
      ],
      "text/latex": [
       "\\begin{tabular}{r|lll}\n",
       " name & country & woeid\\\\\n",
       "\\hline\n",
       "\t Paris  & France & 615702\\\\\n",
       "\\end{tabular}\n"
      ],
      "text/markdown": [
       "\n",
       "name | country | woeid | \n",
       "|---|\n",
       "| Paris  | France | 615702 | \n",
       "\n",
       "\n"
      ],
      "text/plain": [
       "  name  country woeid \n",
       "1 Paris France  615702"
      ]
     },
     "metadata": {},
     "output_type": "display_data"
    }
   ],
   "source": [
    "#Referred from http://geoffjentry.hexdump.org/twitteR.pdf\n",
    "close_trends = closestTrendLocations(code$lat, code$lon)\n",
    "head(close_trends)"
   ]
  },
  {
   "cell_type": "code",
   "execution_count": 27,
   "metadata": {
    "collapsed": false
   },
   "outputs": [
    {
     "data": {
      "text/html": [
       "<table>\n",
       "<thead><tr><th scope=col>name</th><th scope=col>url</th><th scope=col>query</th><th scope=col>woeid</th></tr></thead>\n",
       "<tbody>\n",
       "\t<tr><td>#TPMP                                                  </td><td>http://twitter.com/search?q=%23TPMP                    </td><td>%23TPMP                                                </td><td>615702                                                 </td></tr>\n",
       "\t<tr><td>#LesAnges9                                             </td><td>http://twitter.com/search?q=%23LesAnges9               </td><td>%23LesAnges9                                           </td><td>615702                                                 </td></tr>\n",
       "\t<tr><td>#MUFCASSE                                              </td><td>http://twitter.com/search?q=%23MUFCASSE                </td><td>%23MUFCASSE                                            </td><td>615702                                                 </td></tr>\n",
       "\t<tr><td>#EnvoyeSpecial                                         </td><td>http://twitter.com/search?q=%23EnvoyeSpecial           </td><td>%23EnvoyeSpecial                                       </td><td>615702                                                 </td></tr>\n",
       "\t<tr><td>#HowWouldYouFeel                                       </td><td>http://twitter.com/search?q=%23HowWouldYouFeel         </td><td>%23HowWouldYouFeel                                     </td><td>615702                                                 </td></tr>\n",
       "\t<tr><td>Sainté                                                 </td><td>http://twitter.com/search?q=Saint%C3%A9                </td><td>Saint%C3%A9                                            </td><td>615702                                                 </td></tr>\n",
       "\t<tr><td>Pogba                                                  </td><td>http://twitter.com/search?q=Pogba                      </td><td>Pogba                                                  </td><td>615702                                                 </td></tr>\n",
       "\t<tr><td>Ibra                                                   </td><td>http://twitter.com/search?q=Ibra                       </td><td>Ibra                                                   </td><td>615702                                                 </td></tr>\n",
       "\t<tr><td>Lacrim                                                 </td><td>http://twitter.com/search?q=Lacrim                     </td><td>Lacrim                                                 </td><td>615702                                                 </td></tr>\n",
       "\t<tr><td>Martial                                                </td><td>http://twitter.com/search?q=Martial                    </td><td>Martial                                                </td><td>615702                                                 </td></tr>\n",
       "\t<tr><td>United                                                 </td><td>http://twitter.com/search?q=United                     </td><td>United                                                 </td><td>615702                                                 </td></tr>\n",
       "\t<tr><td>Hayce Lemsi                                            </td><td>http://twitter.com/search?q=%22Hayce+Lemsi%22          </td><td>%22Hayce+Lemsi%22                                      </td><td>615702                                                 </td></tr>\n",
       "\t<tr><td>Kodak Black                                            </td><td>http://twitter.com/search?q=%22Kodak+Black%22          </td><td>%22Kodak+Black%22                                      </td><td>615702                                                 </td></tr>\n",
       "\t<tr><td>L'album de Future                                      </td><td>http://twitter.com/search?q=%22L%27album+de+Future%22  </td><td>%22L%27album+de+Future%22                              </td><td>615702                                                 </td></tr>\n",
       "\t<tr><td>Mask Off                                               </td><td>http://twitter.com/search?q=%22Mask+Off%22             </td><td>%22Mask+Off%22                                         </td><td>615702                                                 </td></tr>\n",
       "\t<tr><td>Sur Cérès                                              </td><td>http://twitter.com/search?q=%22Sur+C%C3%A9r%C3%A8s%22  </td><td>%22Sur+C%C3%A9r%C3%A8s%22                              </td><td>615702                                                 </td></tr>\n",
       "\t<tr><td>Dan Carter                                             </td><td>http://twitter.com/search?q=%22Dan+Carter%22           </td><td>%22Dan+Carter%22                                       </td><td>615702                                                 </td></tr>\n",
       "\t<tr><td>Linkin Park                                            </td><td>http://twitter.com/search?q=%22Linkin+Park%22          </td><td>%22Linkin+Park%22                                      </td><td>615702                                                 </td></tr>\n",
       "\t<tr><td>Tessa Worley                                           </td><td>http://twitter.com/search?q=%22Tessa+Worley%22         </td><td>%22Tessa+Worley%22                                     </td><td>615702                                                 </td></tr>\n",
       "\t<tr><td>Bayern                                                 </td><td>http://twitter.com/search?q=Bayern                     </td><td>Bayern                                                 </td><td>615702                                                 </td></tr>\n",
       "\t<tr><td>Aouar                                                  </td><td>http://twitter.com/search?q=Aouar                      </td><td>Aouar                                                  </td><td>615702                                                 </td></tr>\n",
       "\t<tr><td>Arsenal                                                </td><td>http://twitter.com/search?q=Arsenal                    </td><td>Arsenal                                                </td><td>615702                                                 </td></tr>\n",
       "\t<tr><td>Tousart                                                </td><td>http://twitter.com/search?q=Tousart                    </td><td>Tousart                                                </td><td>615702                                                 </td></tr>\n",
       "\t<tr><td>Lopes                                                  </td><td>http://twitter.com/search?q=Lopes                      </td><td>Lopes                                                  </td><td>615702                                                 </td></tr>\n",
       "\t<tr><td>#PokemonGO                                             </td><td>http://twitter.com/search?q=%23PokemonGO               </td><td>%23PokemonGO                                           </td><td>615702                                                 </td></tr>\n",
       "\t<tr><td>#PrixTalentsW9                                         </td><td>http://twitter.com/search?q=%23PrixTalentsW9           </td><td>%23PrixTalentsW9                                       </td><td>615702                                                 </td></tr>\n",
       "\t<tr><td>#100KforAlix                                           </td><td>http://twitter.com/search?q=%23100KforAlix             </td><td>%23100KforAlix                                         </td><td>615702                                                 </td></tr>\n",
       "\t<tr><td>#BuyItAintMeOniTunes                                   </td><td>http://twitter.com/search?q=%23BuyItAintMeOniTunes     </td><td>%23BuyItAintMeOniTunes                                 </td><td>615702                                                 </td></tr>\n",
       "\t<tr><td>#ProjetFillon                                          </td><td>http://twitter.com/search?q=%23ProjetFillon            </td><td>%23ProjetFillon                                        </td><td>615702                                                 </td></tr>\n",
       "\t<tr><td>#Indigo                                                </td><td>http://twitter.com/search?q=%23Indigo                  </td><td>%23Indigo                                              </td><td>615702                                                 </td></tr>\n",
       "\t<tr><td>#KaboulKitchenParty                                    </td><td>http://twitter.com/search?q=%23KaboulKitchenParty      </td><td>%23KaboulKitchenParty                                  </td><td>615702                                                 </td></tr>\n",
       "\t<tr><td>#Avancer                                               </td><td>http://twitter.com/search?q=%23Avancer                 </td><td>%23Avancer                                             </td><td>615702                                                 </td></tr>\n",
       "\t<tr><td>#LeMondeALenvers                                       </td><td>http://twitter.com/search?q=%23LeMondeALenvers         </td><td>%23LeMondeALenvers                                     </td><td>615702                                                 </td></tr>\n",
       "\t<tr><td>#Polanski                                              </td><td>http://twitter.com/search?q=%23Polanski                </td><td>%23Polanski                                            </td><td>615702                                                 </td></tr>\n",
       "\t<tr><td>#Limitless                                             </td><td>http://twitter.com/search?q=%23Limitless               </td><td>%23Limitless                                           </td><td>615702                                                 </td></tr>\n",
       "\t<tr><td>#AZOL                                                  </td><td>http://twitter.com/search?q=%23AZOL                    </td><td>%23AZOL                                                </td><td>615702                                                 </td></tr>\n",
       "\t<tr><td>#colonisation                                          </td><td>http://twitter.com/search?q=%23colonisation            </td><td>%23colonisation                                        </td><td>615702                                                 </td></tr>\n",
       "\t<tr><td>#WeMetOnTwitter                                        </td><td>http://twitter.com/search?q=%23WeMetOnTwitter          </td><td>%23WeMetOnTwitter                                      </td><td>615702                                                 </td></tr>\n",
       "\t<tr><td>#ActualiseUnRoman                                      </td><td>http://twitter.com/search?q=%23ActualiseUnRoman        </td><td>%23ActualiseUnRoman                                    </td><td>615702                                                 </td></tr>\n",
       "\t<tr><td>#JeudiConfession                                       </td><td>http://twitter.com/search?q=%23JeudiConfession         </td><td>%23JeudiConfession                                     </td><td>615702                                                 </td></tr>\n",
       "\t<tr><td>#4mariagespour1lunedemiel                              </td><td>http://twitter.com/search?q=%234mariagespour1lunedemiel</td><td>%234mariagespour1lunedemiel                            </td><td>615702                                                 </td></tr>\n",
       "\t<tr><td>#PSGFCB                                                </td><td>http://twitter.com/search?q=%23PSGFCB                  </td><td>%23PSGFCB                                              </td><td>615702                                                 </td></tr>\n",
       "\t<tr><td>#CETA                                                  </td><td>http://twitter.com/search?q=%23CETA                    </td><td>%23CETA                                                </td><td>615702                                                 </td></tr>\n",
       "\t<tr><td>#BAYARS                                                </td><td>http://twitter.com/search?q=%23BAYARS                  </td><td>%23BAYARS                                              </td><td>615702                                                 </td></tr>\n",
       "\t<tr><td>#AlexandrieAlexandra                                   </td><td>http://twitter.com/search?q=%23AlexandrieAlexandra     </td><td>%23AlexandrieAlexandra                                 </td><td>615702                                                 </td></tr>\n",
       "\t<tr><td>#les3freres                                            </td><td>http://twitter.com/search?q=%23les3freres              </td><td>%23les3freres                                          </td><td>615702                                                 </td></tr>\n",
       "\t<tr><td>#MUSET                                                 </td><td>http://twitter.com/search?q=%23MUSET                   </td><td>%23MUSET                                               </td><td>615702                                                 </td></tr>\n",
       "\t<tr><td>#CatchRAW                                              </td><td>http://twitter.com/search?q=%23CatchRAW                </td><td>%23CatchRAW                                            </td><td>615702                                                 </td></tr>\n",
       "\t<tr><td>#DelitDentraveIVG                                      </td><td>http://twitter.com/search?q=%23DelitDentraveIVG        </td><td>%23DelitDentraveIVG                                    </td><td>615702                                                 </td></tr>\n",
       "\t<tr><td>#Podium                                                </td><td>http://twitter.com/search?q=%23Podium                  </td><td>%23Podium                                              </td><td>615702                                                 </td></tr>\n",
       "</tbody>\n",
       "</table>\n"
      ],
      "text/latex": [
       "\\begin{tabular}{r|llll}\n",
       " name & url & query & woeid\\\\\n",
       "\\hline\n",
       "\t \\#TPMP                                                   & http://twitter.com/search?q=\\%23TPMP                     & \\%23TPMP                                                 & 615702                                                   \\\\\n",
       "\t \\#LesAnges9                                              & http://twitter.com/search?q=\\%23LesAnges9                & \\%23LesAnges9                                            & 615702                                                   \\\\\n",
       "\t \\#MUFCASSE                                               & http://twitter.com/search?q=\\%23MUFCASSE                 & \\%23MUFCASSE                                             & 615702                                                   \\\\\n",
       "\t \\#EnvoyeSpecial                                          & http://twitter.com/search?q=\\%23EnvoyeSpecial            & \\%23EnvoyeSpecial                                        & 615702                                                   \\\\\n",
       "\t \\#HowWouldYouFeel                                        & http://twitter.com/search?q=\\%23HowWouldYouFeel          & \\%23HowWouldYouFeel                                      & 615702                                                   \\\\\n",
       "\t Sainté                                                      & http://twitter.com/search?q=Saint\\%C3\\%A9                 & Saint\\%C3\\%A9                                             & 615702                                                     \\\\\n",
       "\t Pogba                                                   & http://twitter.com/search?q=Pogba                       & Pogba                                                   & 615702                                                 \\\\\n",
       "\t Ibra                                                    & http://twitter.com/search?q=Ibra                        & Ibra                                                    & 615702                                                 \\\\\n",
       "\t Lacrim                                                  & http://twitter.com/search?q=Lacrim                      & Lacrim                                                  & 615702                                                 \\\\\n",
       "\t Martial                                                 & http://twitter.com/search?q=Martial                     & Martial                                                 & 615702                                                 \\\\\n",
       "\t United                                                  & http://twitter.com/search?q=United                      & United                                                  & 615702                                                 \\\\\n",
       "\t Hayce Lemsi                                                 & http://twitter.com/search?q=\\%22Hayce+Lemsi\\%22           & \\%22Hayce+Lemsi\\%22                                       & 615702                                                     \\\\\n",
       "\t Kodak Black                                                 & http://twitter.com/search?q=\\%22Kodak+Black\\%22           & \\%22Kodak+Black\\%22                                       & 615702                                                     \\\\\n",
       "\t L'album de Future                                             & http://twitter.com/search?q=\\%22L\\%27album+de+Future\\%22   & \\%22L\\%27album+de+Future\\%22                               & 615702                                                       \\\\\n",
       "\t Mask Off                                                    & http://twitter.com/search?q=\\%22Mask+Off\\%22              & \\%22Mask+Off\\%22                                          & 615702                                                     \\\\\n",
       "\t Sur Cérès                                                           & http://twitter.com/search?q=\\%22Sur+C\\%C3\\%A9r\\%C3\\%A8s\\%22   & \\%22Sur+C\\%C3\\%A9r\\%C3\\%A8s\\%22                               & 615702                                                             \\\\\n",
       "\t Dan Carter                                                  & http://twitter.com/search?q=\\%22Dan+Carter\\%22            & \\%22Dan+Carter\\%22                                        & 615702                                                     \\\\\n",
       "\t Linkin Park                                                 & http://twitter.com/search?q=\\%22Linkin+Park\\%22           & \\%22Linkin+Park\\%22                                       & 615702                                                     \\\\\n",
       "\t Tessa Worley                                                & http://twitter.com/search?q=\\%22Tessa+Worley\\%22          & \\%22Tessa+Worley\\%22                                      & 615702                                                     \\\\\n",
       "\t Bayern                                                  & http://twitter.com/search?q=Bayern                      & Bayern                                                  & 615702                                                 \\\\\n",
       "\t Aouar                                                   & http://twitter.com/search?q=Aouar                       & Aouar                                                   & 615702                                                 \\\\\n",
       "\t Arsenal                                                 & http://twitter.com/search?q=Arsenal                     & Arsenal                                                 & 615702                                                 \\\\\n",
       "\t Tousart                                                 & http://twitter.com/search?q=Tousart                     & Tousart                                                 & 615702                                                 \\\\\n",
       "\t Lopes                                                   & http://twitter.com/search?q=Lopes                       & Lopes                                                   & 615702                                                 \\\\\n",
       "\t \\#PokemonGO                                              & http://twitter.com/search?q=\\%23PokemonGO                & \\%23PokemonGO                                            & 615702                                                   \\\\\n",
       "\t \\#PrixTalentsW9                                          & http://twitter.com/search?q=\\%23PrixTalentsW9            & \\%23PrixTalentsW9                                        & 615702                                                   \\\\\n",
       "\t \\#100KforAlix                                            & http://twitter.com/search?q=\\%23100KforAlix              & \\%23100KforAlix                                          & 615702                                                   \\\\\n",
       "\t \\#BuyItAintMeOniTunes                                    & http://twitter.com/search?q=\\%23BuyItAintMeOniTunes      & \\%23BuyItAintMeOniTunes                                  & 615702                                                   \\\\\n",
       "\t \\#ProjetFillon                                           & http://twitter.com/search?q=\\%23ProjetFillon             & \\%23ProjetFillon                                         & 615702                                                   \\\\\n",
       "\t \\#Indigo                                                 & http://twitter.com/search?q=\\%23Indigo                   & \\%23Indigo                                               & 615702                                                   \\\\\n",
       "\t \\#KaboulKitchenParty                                     & http://twitter.com/search?q=\\%23KaboulKitchenParty       & \\%23KaboulKitchenParty                                   & 615702                                                   \\\\\n",
       "\t \\#Avancer                                                & http://twitter.com/search?q=\\%23Avancer                  & \\%23Avancer                                              & 615702                                                   \\\\\n",
       "\t \\#LeMondeALenvers                                        & http://twitter.com/search?q=\\%23LeMondeALenvers          & \\%23LeMondeALenvers                                      & 615702                                                   \\\\\n",
       "\t \\#Polanski                                               & http://twitter.com/search?q=\\%23Polanski                 & \\%23Polanski                                             & 615702                                                   \\\\\n",
       "\t \\#Limitless                                              & http://twitter.com/search?q=\\%23Limitless                & \\%23Limitless                                            & 615702                                                   \\\\\n",
       "\t \\#AZOL                                                   & http://twitter.com/search?q=\\%23AZOL                     & \\%23AZOL                                                 & 615702                                                   \\\\\n",
       "\t \\#colonisation                                           & http://twitter.com/search?q=\\%23colonisation             & \\%23colonisation                                         & 615702                                                   \\\\\n",
       "\t \\#WeMetOnTwitter                                         & http://twitter.com/search?q=\\%23WeMetOnTwitter           & \\%23WeMetOnTwitter                                       & 615702                                                   \\\\\n",
       "\t \\#ActualiseUnRoman                                       & http://twitter.com/search?q=\\%23ActualiseUnRoman         & \\%23ActualiseUnRoman                                     & 615702                                                   \\\\\n",
       "\t \\#JeudiConfession                                        & http://twitter.com/search?q=\\%23JeudiConfession          & \\%23JeudiConfession                                      & 615702                                                   \\\\\n",
       "\t \\#4mariagespour1lunedemiel                               & http://twitter.com/search?q=\\%234mariagespour1lunedemiel & \\%234mariagespour1lunedemiel                             & 615702                                                   \\\\\n",
       "\t \\#PSGFCB                                                 & http://twitter.com/search?q=\\%23PSGFCB                   & \\%23PSGFCB                                               & 615702                                                   \\\\\n",
       "\t \\#CETA                                                   & http://twitter.com/search?q=\\%23CETA                     & \\%23CETA                                                 & 615702                                                   \\\\\n",
       "\t \\#BAYARS                                                 & http://twitter.com/search?q=\\%23BAYARS                   & \\%23BAYARS                                               & 615702                                                   \\\\\n",
       "\t \\#AlexandrieAlexandra                                    & http://twitter.com/search?q=\\%23AlexandrieAlexandra      & \\%23AlexandrieAlexandra                                  & 615702                                                   \\\\\n",
       "\t \\#les3freres                                             & http://twitter.com/search?q=\\%23les3freres               & \\%23les3freres                                           & 615702                                                   \\\\\n",
       "\t \\#MUSET                                                  & http://twitter.com/search?q=\\%23MUSET                    & \\%23MUSET                                                & 615702                                                   \\\\\n",
       "\t \\#CatchRAW                                               & http://twitter.com/search?q=\\%23CatchRAW                 & \\%23CatchRAW                                             & 615702                                                   \\\\\n",
       "\t \\#DelitDentraveIVG                                       & http://twitter.com/search?q=\\%23DelitDentraveIVG         & \\%23DelitDentraveIVG                                     & 615702                                                   \\\\\n",
       "\t \\#Podium                                                 & http://twitter.com/search?q=\\%23Podium                   & \\%23Podium                                               & 615702                                                   \\\\\n",
       "\\end{tabular}\n"
      ],
      "text/markdown": [
       "\n",
       "name | url | query | woeid | \n",
       "|---|---|---|---|---|---|---|---|---|---|---|---|---|---|---|---|---|---|---|---|---|---|---|---|---|---|---|---|---|---|---|---|---|---|---|---|---|---|---|---|---|---|---|---|---|---|---|---|---|---|\n",
       "| #TPMP                                                   | http://twitter.com/search?q=%23TPMP                     | %23TPMP                                                 | 615702                                                  | \n",
       "| #LesAnges9                                              | http://twitter.com/search?q=%23LesAnges9                | %23LesAnges9                                            | 615702                                                  | \n",
       "| #MUFCASSE                                               | http://twitter.com/search?q=%23MUFCASSE                 | %23MUFCASSE                                             | 615702                                                  | \n",
       "| #EnvoyeSpecial                                          | http://twitter.com/search?q=%23EnvoyeSpecial            | %23EnvoyeSpecial                                        | 615702                                                  | \n",
       "| #HowWouldYouFeel                                        | http://twitter.com/search?q=%23HowWouldYouFeel          | %23HowWouldYouFeel                                      | 615702                                                  | \n",
       "| Sainté                                                  | http://twitter.com/search?q=Saint%C3%A9                 | Saint%C3%A9                                             | 615702                                                  | \n",
       "| Pogba                                                   | http://twitter.com/search?q=Pogba                       | Pogba                                                   | 615702                                                  | \n",
       "| Ibra                                                    | http://twitter.com/search?q=Ibra                        | Ibra                                                    | 615702                                                  | \n",
       "| Lacrim                                                  | http://twitter.com/search?q=Lacrim                      | Lacrim                                                  | 615702                                                  | \n",
       "| Martial                                                 | http://twitter.com/search?q=Martial                     | Martial                                                 | 615702                                                  | \n",
       "| United                                                  | http://twitter.com/search?q=United                      | United                                                  | 615702                                                  | \n",
       "| Hayce Lemsi                                             | http://twitter.com/search?q=%22Hayce+Lemsi%22           | %22Hayce+Lemsi%22                                       | 615702                                                  | \n",
       "| Kodak Black                                             | http://twitter.com/search?q=%22Kodak+Black%22           | %22Kodak+Black%22                                       | 615702                                                  | \n",
       "| L'album de Future                                       | http://twitter.com/search?q=%22L%27album+de+Future%22   | %22L%27album+de+Future%22                               | 615702                                                  | \n",
       "| Mask Off                                                | http://twitter.com/search?q=%22Mask+Off%22              | %22Mask+Off%22                                          | 615702                                                  | \n",
       "| Sur Cérès                                               | http://twitter.com/search?q=%22Sur+C%C3%A9r%C3%A8s%22   | %22Sur+C%C3%A9r%C3%A8s%22                               | 615702                                                  | \n",
       "| Dan Carter                                              | http://twitter.com/search?q=%22Dan+Carter%22            | %22Dan+Carter%22                                        | 615702                                                  | \n",
       "| Linkin Park                                             | http://twitter.com/search?q=%22Linkin+Park%22           | %22Linkin+Park%22                                       | 615702                                                  | \n",
       "| Tessa Worley                                            | http://twitter.com/search?q=%22Tessa+Worley%22          | %22Tessa+Worley%22                                      | 615702                                                  | \n",
       "| Bayern                                                  | http://twitter.com/search?q=Bayern                      | Bayern                                                  | 615702                                                  | \n",
       "| Aouar                                                   | http://twitter.com/search?q=Aouar                       | Aouar                                                   | 615702                                                  | \n",
       "| Arsenal                                                 | http://twitter.com/search?q=Arsenal                     | Arsenal                                                 | 615702                                                  | \n",
       "| Tousart                                                 | http://twitter.com/search?q=Tousart                     | Tousart                                                 | 615702                                                  | \n",
       "| Lopes                                                   | http://twitter.com/search?q=Lopes                       | Lopes                                                   | 615702                                                  | \n",
       "| #PokemonGO                                              | http://twitter.com/search?q=%23PokemonGO                | %23PokemonGO                                            | 615702                                                  | \n",
       "| #PrixTalentsW9                                          | http://twitter.com/search?q=%23PrixTalentsW9            | %23PrixTalentsW9                                        | 615702                                                  | \n",
       "| #100KforAlix                                            | http://twitter.com/search?q=%23100KforAlix              | %23100KforAlix                                          | 615702                                                  | \n",
       "| #BuyItAintMeOniTunes                                    | http://twitter.com/search?q=%23BuyItAintMeOniTunes      | %23BuyItAintMeOniTunes                                  | 615702                                                  | \n",
       "| #ProjetFillon                                           | http://twitter.com/search?q=%23ProjetFillon             | %23ProjetFillon                                         | 615702                                                  | \n",
       "| #Indigo                                                 | http://twitter.com/search?q=%23Indigo                   | %23Indigo                                               | 615702                                                  | \n",
       "| #KaboulKitchenParty                                     | http://twitter.com/search?q=%23KaboulKitchenParty       | %23KaboulKitchenParty                                   | 615702                                                  | \n",
       "| #Avancer                                                | http://twitter.com/search?q=%23Avancer                  | %23Avancer                                              | 615702                                                  | \n",
       "| #LeMondeALenvers                                        | http://twitter.com/search?q=%23LeMondeALenvers          | %23LeMondeALenvers                                      | 615702                                                  | \n",
       "| #Polanski                                               | http://twitter.com/search?q=%23Polanski                 | %23Polanski                                             | 615702                                                  | \n",
       "| #Limitless                                              | http://twitter.com/search?q=%23Limitless                | %23Limitless                                            | 615702                                                  | \n",
       "| #AZOL                                                   | http://twitter.com/search?q=%23AZOL                     | %23AZOL                                                 | 615702                                                  | \n",
       "| #colonisation                                           | http://twitter.com/search?q=%23colonisation             | %23colonisation                                         | 615702                                                  | \n",
       "| #WeMetOnTwitter                                         | http://twitter.com/search?q=%23WeMetOnTwitter           | %23WeMetOnTwitter                                       | 615702                                                  | \n",
       "| #ActualiseUnRoman                                       | http://twitter.com/search?q=%23ActualiseUnRoman         | %23ActualiseUnRoman                                     | 615702                                                  | \n",
       "| #JeudiConfession                                        | http://twitter.com/search?q=%23JeudiConfession          | %23JeudiConfession                                      | 615702                                                  | \n",
       "| #4mariagespour1lunedemiel                               | http://twitter.com/search?q=%234mariagespour1lunedemiel | %234mariagespour1lunedemiel                             | 615702                                                  | \n",
       "| #PSGFCB                                                 | http://twitter.com/search?q=%23PSGFCB                   | %23PSGFCB                                               | 615702                                                  | \n",
       "| #CETA                                                   | http://twitter.com/search?q=%23CETA                     | %23CETA                                                 | 615702                                                  | \n",
       "| #BAYARS                                                 | http://twitter.com/search?q=%23BAYARS                   | %23BAYARS                                               | 615702                                                  | \n",
       "| #AlexandrieAlexandra                                    | http://twitter.com/search?q=%23AlexandrieAlexandra      | %23AlexandrieAlexandra                                  | 615702                                                  | \n",
       "| #les3freres                                             | http://twitter.com/search?q=%23les3freres               | %23les3freres                                           | 615702                                                  | \n",
       "| #MUSET                                                  | http://twitter.com/search?q=%23MUSET                    | %23MUSET                                                | 615702                                                  | \n",
       "| #CatchRAW                                               | http://twitter.com/search?q=%23CatchRAW                 | %23CatchRAW                                             | 615702                                                  | \n",
       "| #DelitDentraveIVG                                       | http://twitter.com/search?q=%23DelitDentraveIVG         | %23DelitDentraveIVG                                     | 615702                                                  | \n",
       "| #Podium                                                 | http://twitter.com/search?q=%23Podium                   | %23Podium                                               | 615702                                                  | \n",
       "\n",
       "\n"
      ],
      "text/plain": [
       "   name                     \n",
       "1  #TPMP                    \n",
       "2  #LesAnges9               \n",
       "3  #MUFCASSE                \n",
       "4  #EnvoyeSpecial           \n",
       "5  #HowWouldYouFeel         \n",
       "6  Sainté                   \n",
       "7  Pogba                    \n",
       "8  Ibra                     \n",
       "9  Lacrim                   \n",
       "10 Martial                  \n",
       "11 United                   \n",
       "12 Hayce Lemsi              \n",
       "13 Kodak Black              \n",
       "14 L'album de Future        \n",
       "15 Mask Off                 \n",
       "16 Sur Cérès                \n",
       "17 Dan Carter               \n",
       "18 Linkin Park              \n",
       "19 Tessa Worley             \n",
       "20 Bayern                   \n",
       "21 Aouar                    \n",
       "22 Arsenal                  \n",
       "23 Tousart                  \n",
       "24 Lopes                    \n",
       "25 #PokemonGO               \n",
       "26 #PrixTalentsW9           \n",
       "27 #100KforAlix             \n",
       "28 #BuyItAintMeOniTunes     \n",
       "29 #ProjetFillon            \n",
       "30 #Indigo                  \n",
       "31 #KaboulKitchenParty      \n",
       "32 #Avancer                 \n",
       "33 #LeMondeALenvers         \n",
       "34 #Polanski                \n",
       "35 #Limitless               \n",
       "36 #AZOL                    \n",
       "37 #colonisation            \n",
       "38 #WeMetOnTwitter          \n",
       "39 #ActualiseUnRoman        \n",
       "40 #JeudiConfession         \n",
       "41 #4mariagespour1lunedemiel\n",
       "42 #PSGFCB                  \n",
       "43 #CETA                    \n",
       "44 #BAYARS                  \n",
       "45 #AlexandrieAlexandra     \n",
       "46 #les3freres              \n",
       "47 #MUSET                   \n",
       "48 #CatchRAW                \n",
       "49 #DelitDentraveIVG        \n",
       "50 #Podium                  \n",
       "   url                                                    \n",
       "1  http://twitter.com/search?q=%23TPMP                    \n",
       "2  http://twitter.com/search?q=%23LesAnges9               \n",
       "3  http://twitter.com/search?q=%23MUFCASSE                \n",
       "4  http://twitter.com/search?q=%23EnvoyeSpecial           \n",
       "5  http://twitter.com/search?q=%23HowWouldYouFeel         \n",
       "6  http://twitter.com/search?q=Saint%C3%A9                \n",
       "7  http://twitter.com/search?q=Pogba                      \n",
       "8  http://twitter.com/search?q=Ibra                       \n",
       "9  http://twitter.com/search?q=Lacrim                     \n",
       "10 http://twitter.com/search?q=Martial                    \n",
       "11 http://twitter.com/search?q=United                     \n",
       "12 http://twitter.com/search?q=%22Hayce+Lemsi%22          \n",
       "13 http://twitter.com/search?q=%22Kodak+Black%22          \n",
       "14 http://twitter.com/search?q=%22L%27album+de+Future%22  \n",
       "15 http://twitter.com/search?q=%22Mask+Off%22             \n",
       "16 http://twitter.com/search?q=%22Sur+C%C3%A9r%C3%A8s%22  \n",
       "17 http://twitter.com/search?q=%22Dan+Carter%22           \n",
       "18 http://twitter.com/search?q=%22Linkin+Park%22          \n",
       "19 http://twitter.com/search?q=%22Tessa+Worley%22         \n",
       "20 http://twitter.com/search?q=Bayern                     \n",
       "21 http://twitter.com/search?q=Aouar                      \n",
       "22 http://twitter.com/search?q=Arsenal                    \n",
       "23 http://twitter.com/search?q=Tousart                    \n",
       "24 http://twitter.com/search?q=Lopes                      \n",
       "25 http://twitter.com/search?q=%23PokemonGO               \n",
       "26 http://twitter.com/search?q=%23PrixTalentsW9           \n",
       "27 http://twitter.com/search?q=%23100KforAlix             \n",
       "28 http://twitter.com/search?q=%23BuyItAintMeOniTunes     \n",
       "29 http://twitter.com/search?q=%23ProjetFillon            \n",
       "30 http://twitter.com/search?q=%23Indigo                  \n",
       "31 http://twitter.com/search?q=%23KaboulKitchenParty      \n",
       "32 http://twitter.com/search?q=%23Avancer                 \n",
       "33 http://twitter.com/search?q=%23LeMondeALenvers         \n",
       "34 http://twitter.com/search?q=%23Polanski                \n",
       "35 http://twitter.com/search?q=%23Limitless               \n",
       "36 http://twitter.com/search?q=%23AZOL                    \n",
       "37 http://twitter.com/search?q=%23colonisation            \n",
       "38 http://twitter.com/search?q=%23WeMetOnTwitter          \n",
       "39 http://twitter.com/search?q=%23ActualiseUnRoman        \n",
       "40 http://twitter.com/search?q=%23JeudiConfession         \n",
       "41 http://twitter.com/search?q=%234mariagespour1lunedemiel\n",
       "42 http://twitter.com/search?q=%23PSGFCB                  \n",
       "43 http://twitter.com/search?q=%23CETA                    \n",
       "44 http://twitter.com/search?q=%23BAYARS                  \n",
       "45 http://twitter.com/search?q=%23AlexandrieAlexandra     \n",
       "46 http://twitter.com/search?q=%23les3freres              \n",
       "47 http://twitter.com/search?q=%23MUSET                   \n",
       "48 http://twitter.com/search?q=%23CatchRAW                \n",
       "49 http://twitter.com/search?q=%23DelitDentraveIVG        \n",
       "50 http://twitter.com/search?q=%23Podium                  \n",
       "   query                       woeid \n",
       "1  %23TPMP                     615702\n",
       "2  %23LesAnges9                615702\n",
       "3  %23MUFCASSE                 615702\n",
       "4  %23EnvoyeSpecial            615702\n",
       "5  %23HowWouldYouFeel          615702\n",
       "6  Saint%C3%A9                 615702\n",
       "7  Pogba                       615702\n",
       "8  Ibra                        615702\n",
       "9  Lacrim                      615702\n",
       "10 Martial                     615702\n",
       "11 United                      615702\n",
       "12 %22Hayce+Lemsi%22           615702\n",
       "13 %22Kodak+Black%22           615702\n",
       "14 %22L%27album+de+Future%22   615702\n",
       "15 %22Mask+Off%22              615702\n",
       "16 %22Sur+C%C3%A9r%C3%A8s%22   615702\n",
       "17 %22Dan+Carter%22            615702\n",
       "18 %22Linkin+Park%22           615702\n",
       "19 %22Tessa+Worley%22          615702\n",
       "20 Bayern                      615702\n",
       "21 Aouar                       615702\n",
       "22 Arsenal                     615702\n",
       "23 Tousart                     615702\n",
       "24 Lopes                       615702\n",
       "25 %23PokemonGO                615702\n",
       "26 %23PrixTalentsW9            615702\n",
       "27 %23100KforAlix              615702\n",
       "28 %23BuyItAintMeOniTunes      615702\n",
       "29 %23ProjetFillon             615702\n",
       "30 %23Indigo                   615702\n",
       "31 %23KaboulKitchenParty       615702\n",
       "32 %23Avancer                  615702\n",
       "33 %23LeMondeALenvers          615702\n",
       "34 %23Polanski                 615702\n",
       "35 %23Limitless                615702\n",
       "36 %23AZOL                     615702\n",
       "37 %23colonisation             615702\n",
       "38 %23WeMetOnTwitter           615702\n",
       "39 %23ActualiseUnRoman         615702\n",
       "40 %23JeudiConfession          615702\n",
       "41 %234mariagespour1lunedemiel 615702\n",
       "42 %23PSGFCB                   615702\n",
       "43 %23CETA                     615702\n",
       "44 %23BAYARS                   615702\n",
       "45 %23AlexandrieAlexandra      615702\n",
       "46 %23les3freres               615702\n",
       "47 %23MUSET                    615702\n",
       "48 %23CatchRAW                 615702\n",
       "49 %23DelitDentraveIVG         615702\n",
       "50 %23Podium                   615702"
      ]
     },
     "metadata": {},
     "output_type": "display_data"
    }
   ],
   "source": [
    "trends = getTrends(close_trends$woeid)\n",
    "trends"
   ]
  },
  {
   "cell_type": "code",
   "execution_count": 25,
   "metadata": {
    "collapsed": false
   },
   "outputs": [
    {
     "data": {
      "text/html": [
       "50"
      ],
      "text/latex": [
       "50"
      ],
      "text/markdown": [
       "50"
      ],
      "text/plain": [
       "[1] 50"
      ]
     },
     "metadata": {},
     "output_type": "display_data"
    }
   ],
   "source": [
    "#nrow(trends)"
   ]
  },
  {
   "cell_type": "code",
   "execution_count": 31,
   "metadata": {
    "collapsed": false
   },
   "outputs": [
    {
     "name": "stdout",
     "output_type": "stream",
     "text": [
      "[1] \"Trending in Paris :\"\n"
     ]
    },
    {
     "data": {
      "text/html": [
       "'#TPMP, #LesAnges9, #MUFCASSE, #EnvoyeSpecial, #HowWouldYouFeel, Sainté, Pogba, Ibra, Lacrim, Martial'"
      ],
      "text/latex": [
       "'\\#TPMP, \\#LesAnges9, \\#MUFCASSE, \\#EnvoyeSpecial, \\#HowWouldYouFeel, Sainté, Pogba, Ibra, Lacrim, Martial'"
      ],
      "text/markdown": [
       "'#TPMP, #LesAnges9, #MUFCASSE, #EnvoyeSpecial, #HowWouldYouFeel, Sainté, Pogba, Ibra, Lacrim, Martial'"
      ],
      "text/plain": [
       "[1] \"#TPMP, #LesAnges9, #MUFCASSE, #EnvoyeSpecial, #HowWouldYouFeel, Sainté, Pogba, Ibra, Lacrim, Martial\""
      ]
     },
     "metadata": {},
     "output_type": "display_data"
    }
   ],
   "source": [
    "#OUTPUT : A message listing the topics trending about the place.\n",
    "message = paste(\"Trending in\",location,\":\")\n",
    "topics=trends$name[1]\n",
    "print(message)\n",
    "for(i in(2:10))\n",
    "    {\n",
    "    topics = paste(topics,trends$name[i],sep=\", \")\n",
    "}\n",
    "#Printing out the trending topics\n",
    "topics"
   ]
  }
 ],
 "metadata": {
  "anaconda-cloud": {},
  "kernelspec": {
   "display_name": "R",
   "language": "R",
   "name": "ir"
  },
  "language_info": {
   "codemirror_mode": "r",
   "file_extension": ".r",
   "mimetype": "text/x-r-source",
   "name": "R",
   "pygments_lexer": "r",
   "version": "3.3.2"
  }
 },
 "nbformat": 4,
 "nbformat_minor": 1
}
