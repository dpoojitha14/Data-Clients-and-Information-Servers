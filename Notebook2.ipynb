{
 "cells": [
  {
   "cell_type": "code",
   "execution_count": null,
   "metadata": {
    "collapsed": true
   },
   "outputs": [],
   "source": [
    "#PROBLEM 1: STUDY RESPONSE TO AN EVENT"
   ]
  },
  {
   "cell_type": "code",
   "execution_count": null,
   "metadata": {
    "collapsed": true
   },
   "outputs": [],
   "source": [
    "#PART A: SUPERBOWL LI EVENT\n",
    "#Tweets are stored in the database Test.sqlite in Tweets table while Locations collected are stored in the Locations table.\n",
    "#The tweets and locations can be directly loaded from these tables."
   ]
  },
  {
   "cell_type": "code",
   "execution_count": null,
   "metadata": {
    "collapsed": true
   },
   "outputs": [],
   "source": [
    "#Installing the necessary pakcages\n",
    "install.packages(\"twitteR\")\n",
    "install.packages(\"RCurl\")\n",
    "install.packages(\"RJSONIO\")\n",
    "install.packages(\"stringr\")\n",
    "install.packages(\"ggmap\")"
   ]
  },
  {
   "cell_type": "code",
   "execution_count": 2,
   "metadata": {
    "collapsed": false
   },
   "outputs": [
    {
     "name": "stderr",
     "output_type": "stream",
     "text": [
      "Loading required package: bitops\n"
     ]
    }
   ],
   "source": [
    "#Loading the libraries\n",
    "library(\"twitteR\")\n",
    "library(\"RCurl\")\n",
    "library(\"RJSONIO\")\n",
    "library(\"stringr\")"
   ]
  },
  {
   "cell_type": "code",
   "execution_count": 3,
   "metadata": {
    "collapsed": false
   },
   "outputs": [
    {
     "name": "stdout",
     "output_type": "stream",
     "text": [
      "[1] \"Using direct authentication\"\n"
     ]
    }
   ],
   "source": [
    "#Setting up Twitter Connection\n",
    "api_key <- \"ivfmBNNLieQKlo03pkByNVMYu\"\n",
    "api_secret <- \"AWWos01ur84W8izPM904X0llxNBlEk9rnboStzcYXM1ZECOgxD\"\n",
    "token <- \"773354810095628294-I1BOeC1mmki1WUTazJosYVLVV9g07Uv\"\n",
    "token_secret <- \"j4ZtTVWt9EC34jx2JGX7ewcHUeIbyrDdiXgsNZPv0ziKv\"\n",
    "setup_twitter_oauth(api_key, api_secret, token, token_secret)"
   ]
  },
  {
   "cell_type": "code",
   "execution_count": 51,
   "metadata": {
    "collapsed": true
   },
   "outputs": [],
   "source": [
    "#Searching for tweets\n",
    "tweets <- searchTwitter(\"#Superbowl LI\", n=500)\n",
    "tweets.df <- twListToDF(tweets)"
   ]
  },
  {
   "cell_type": "code",
   "execution_count": 1,
   "metadata": {
    "collapsed": false
   },
   "outputs": [
    {
     "name": "stderr",
     "output_type": "stream",
     "text": [
      "Updating HTML index of packages in '.Library'\n",
      "Making 'packages.html' ... done\n",
      "also installing the dependencies ‘XLConnectJars’, ‘rJava’\n",
      "\n",
      "Warning message in install.packages(\"XLConnect\"):\n",
      "“installation of package ‘rJava’ had non-zero exit status”Warning message in install.packages(\"XLConnect\"):\n",
      "“installation of package ‘XLConnectJars’ had non-zero exit status”Warning message in install.packages(\"XLConnect\"):\n",
      "“installation of package ‘XLConnect’ had non-zero exit status”Updating HTML index of packages in '.Library'\n",
      "Making 'packages.html' ... done\n"
     ]
    }
   ],
   "source": [
    "#Packages for SQL DB Connection \n",
    "#Referred from https://www.r-bloggers.com/r-and-sqlite-part-1/\n",
    "install.packages(\"sqldf\")\n",
    "install.packages(\"XLConnect\")"
   ]
  },
  {
   "cell_type": "code",
   "execution_count": 4,
   "metadata": {
    "collapsed": false
   },
   "outputs": [
    {
     "name": "stderr",
     "output_type": "stream",
     "text": [
      "Loading required package: gsubfn\n",
      "Loading required package: proto\n",
      "Loading required package: RSQLite\n"
     ]
    }
   ],
   "source": [
    "#Loading the library 'sqldf'\n",
    "library(\"sqldf\")"
   ]
  },
  {
   "cell_type": "code",
   "execution_count": 52,
   "metadata": {
    "collapsed": false
   },
   "outputs": [
    {
     "data": {
      "text/html": [
       "TRUE"
      ],
      "text/latex": [
       "TRUE"
      ],
      "text/markdown": [
       "TRUE"
      ],
      "text/plain": [
       "[1] TRUE"
      ]
     },
     "metadata": {},
     "output_type": "display_data"
    }
   ],
   "source": [
    "#Connecting to the database Test.sqliite and writing the tweets to Tweets table\n",
    "db <- dbConnect(SQLite(), dbname=\"Test.sqlite\")\n",
    "try(\n",
    "    {\n",
    "     dbWriteTable(conn = db, name = \"Tweets\", value = tweets.df, row.names = FALSE,append=TRUE)   \n",
    "    })"
   ]
  },
  {
   "cell_type": "code",
   "execution_count": 27,
   "metadata": {
    "collapsed": false
   },
   "outputs": [
    {
     "data": {
      "text/html": [
       "'Tweets'"
      ],
      "text/latex": [
       "'Tweets'"
      ],
      "text/markdown": [
       "'Tweets'"
      ],
      "text/plain": [
       "[1] \"Tweets\""
      ]
     },
     "metadata": {},
     "output_type": "display_data"
    },
    {
     "data": {
      "text/html": [
       "<ol class=list-inline>\n",
       "\t<li>'text'</li>\n",
       "\t<li>'favorited'</li>\n",
       "\t<li>'favoriteCount'</li>\n",
       "\t<li>'replyToSN'</li>\n",
       "\t<li>'created'</li>\n",
       "\t<li>'truncated'</li>\n",
       "\t<li>'replyToSID'</li>\n",
       "\t<li>'id'</li>\n",
       "\t<li>'replyToUID'</li>\n",
       "\t<li>'statusSource'</li>\n",
       "\t<li>'screenName'</li>\n",
       "\t<li>'retweetCount'</li>\n",
       "\t<li>'isRetweet'</li>\n",
       "\t<li>'retweeted'</li>\n",
       "\t<li>'longitude'</li>\n",
       "\t<li>'latitude'</li>\n",
       "</ol>\n"
      ],
      "text/latex": [
       "\\begin{enumerate*}\n",
       "\\item 'text'\n",
       "\\item 'favorited'\n",
       "\\item 'favoriteCount'\n",
       "\\item 'replyToSN'\n",
       "\\item 'created'\n",
       "\\item 'truncated'\n",
       "\\item 'replyToSID'\n",
       "\\item 'id'\n",
       "\\item 'replyToUID'\n",
       "\\item 'statusSource'\n",
       "\\item 'screenName'\n",
       "\\item 'retweetCount'\n",
       "\\item 'isRetweet'\n",
       "\\item 'retweeted'\n",
       "\\item 'longitude'\n",
       "\\item 'latitude'\n",
       "\\end{enumerate*}\n"
      ],
      "text/markdown": [
       "1. 'text'\n",
       "2. 'favorited'\n",
       "3. 'favoriteCount'\n",
       "4. 'replyToSN'\n",
       "5. 'created'\n",
       "6. 'truncated'\n",
       "7. 'replyToSID'\n",
       "8. 'id'\n",
       "9. 'replyToUID'\n",
       "10. 'statusSource'\n",
       "11. 'screenName'\n",
       "12. 'retweetCount'\n",
       "13. 'isRetweet'\n",
       "14. 'retweeted'\n",
       "15. 'longitude'\n",
       "16. 'latitude'\n",
       "\n",
       "\n"
      ],
      "text/plain": [
       " [1] \"text\"          \"favorited\"     \"favoriteCount\" \"replyToSN\"    \n",
       " [5] \"created\"       \"truncated\"     \"replyToSID\"    \"id\"           \n",
       " [9] \"replyToUID\"    \"statusSource\"  \"screenName\"    \"retweetCount\" \n",
       "[13] \"isRetweet\"     \"retweeted\"     \"longitude\"     \"latitude\"     "
      ]
     },
     "metadata": {},
     "output_type": "display_data"
    }
   ],
   "source": [
    "#dbListTables(db)\n",
    "#dbListFields(db, \"Tweets\")"
   ]
  },
  {
   "cell_type": "code",
   "execution_count": 53,
   "metadata": {
    "collapsed": false
   },
   "outputs": [
    {
     "data": {
      "text/html": [
       "<table>\n",
       "<thead><tr><th scope=col>COUNT(*)</th></tr></thead>\n",
       "<tbody>\n",
       "\t<tr><td>7350</td></tr>\n",
       "</tbody>\n",
       "</table>\n"
      ],
      "text/latex": [
       "\\begin{tabular}{r|l}\n",
       " COUNT(*)\\\\\n",
       "\\hline\n",
       "\t 7350\\\\\n",
       "\\end{tabular}\n"
      ],
      "text/markdown": [
       "\n",
       "COUNT(*) | \n",
       "|---|\n",
       "| 7350 | \n",
       "\n",
       "\n"
      ],
      "text/plain": [
       "  COUNT(*)\n",
       "1 7350    "
      ]
     },
     "metadata": {},
     "output_type": "display_data"
    }
   ],
   "source": [
    "#Counting the number of tweets\n",
    "sqldf(\"SELECT COUNT(*) FROM Tweets\", dbname = \"Test.sqlite\") "
   ]
  },
  {
   "cell_type": "code",
   "execution_count": 54,
   "metadata": {
    "collapsed": false
   },
   "outputs": [
    {
     "data": {
      "text/html": [
       "517"
      ],
      "text/latex": [
       "517"
      ],
      "text/markdown": [
       "517"
      ],
      "text/plain": [
       "[1] 517"
      ]
     },
     "metadata": {},
     "output_type": "display_data"
    }
   ],
   "source": [
    "#Selecting unique users from the table\n",
    "unique =sqldf(\"SELECT DISTINCT screenName FROM Tweets\", dbname = \"Test.sqlite\")\n",
    "nrow(unique)"
   ]
  },
  {
   "cell_type": "code",
   "execution_count": 55,
   "metadata": {
    "collapsed": true
   },
   "outputs": [],
   "source": [
    "#List of locations of the unique users\n",
    "location_list = list()\n",
    "n = nrow(unique)\n",
    "k=1\n",
    "for(i in c(1:n))\n",
    "    {\n",
    "    name = unique$screenName[i]\n",
    "    user =getUser(name)\n",
    "    loc = location(user)\n",
    "    if(loc != \"\")\n",
    "        {\n",
    "        location_list[k]= loc\n",
    "        k=k+1\n",
    "    }\n",
    "}"
   ]
  },
  {
   "cell_type": "code",
   "execution_count": 60,
   "metadata": {
    "collapsed": false
   },
   "outputs": [
    {
     "data": {
      "text/html": [
       "369"
      ],
      "text/latex": [
       "369"
      ],
      "text/markdown": [
       "369"
      ],
      "text/plain": [
       "[1] 369"
      ]
     },
     "metadata": {},
     "output_type": "display_data"
    }
   ],
   "source": [
    "length(location_list)"
   ]
  },
  {
   "cell_type": "code",
   "execution_count": 61,
   "metadata": {
    "collapsed": false
   },
   "outputs": [
    {
     "data": {
      "text/html": [
       "<ol>\n",
       "\t<li>'Europe'</li>\n",
       "</ol>\n"
      ],
      "text/latex": [
       "\\begin{enumerate}\n",
       "\\item 'Europe'\n",
       "\\end{enumerate}\n"
      ],
      "text/markdown": [
       "1. 'Europe'\n",
       "\n",
       "\n"
      ],
      "text/plain": [
       "[[1]]\n",
       "[1] \"Europe\"\n"
      ]
     },
     "metadata": {},
     "output_type": "display_data"
    }
   ],
   "source": [
    "#location_list[2]"
   ]
  },
  {
   "cell_type": "code",
   "execution_count": 1,
   "metadata": {
    "collapsed": false
   },
   "outputs": [
    {
     "name": "stderr",
     "output_type": "stream",
     "text": [
      "Loading required package: ggplot2\n"
     ]
    }
   ],
   "source": [
    "#Loading the library\n",
    "library(ggmap)"
   ]
  },
  {
   "cell_type": "code",
   "execution_count": 64,
   "metadata": {
    "collapsed": false
   },
   "outputs": [
    {
     "name": "stderr",
     "output_type": "stream",
     "text": [
      "Information from URL : http://maps.googleapis.com/maps/api/geocode/json?address=Croatia&sensor=false\n",
      "Information from URL : http://maps.googleapis.com/maps/api/geocode/json?address=Europe&sensor=false\n",
      "Information from URL : http://maps.googleapis.com/maps/api/geocode/json?address=Munich,%20Germany&sensor=false\n",
      "Information from URL : http://maps.googleapis.com/maps/api/geocode/json?address=Worldwide&sensor=false\n",
      "Information from URL : http://maps.googleapis.com/maps/api/geocode/json?address=entre%20tus%20piernas&sensor=false\n",
      "Warning message:\n",
      "“geocode failed with status ZERO_RESULTS, location = \"entre tus piernas\"”Information from URL : http://maps.googleapis.com/maps/api/geocode/json?address=France&sensor=false\n",
      "Information from URL : http://maps.googleapis.com/maps/api/geocode/json?address=Scotland,%20United%20Kingdom&sensor=false\n",
      "Information from URL : http://maps.googleapis.com/maps/api/geocode/json?address=Tremelo%20(Belgium)&sensor=false\n",
      "Information from URL : http://maps.googleapis.com/maps/api/geocode/json?address=Thailand&sensor=false\n",
      "Information from URL : http://maps.googleapis.com/maps/api/geocode/json?address=I%20Left%20My%20Heart%20In%20San%20Diego&sensor=false\n",
      "Warning message:\n",
      "“geocode failed with status ZERO_RESULTS, location = \"I Left My Heart In San Diego\"”.Information from URL : http://maps.googleapis.com/maps/api/geocode/json?address=Mukwonago,Wis%20Usa&sensor=false\n",
      ".Information from URL : http://maps.googleapis.com/maps/api/geocode/json?address=Amsterdam,%20The%20Netherlands&sensor=false\n",
      ".Information from URL : http://maps.googleapis.com/maps/api/geocode/json?address=Virden,%20IL%20USA&sensor=false\n",
      ".Information from URL : http://maps.googleapis.com/maps/api/geocode/json?address=Chicagoland&sensor=false\n",
      "Information from URL : http://maps.googleapis.com/maps/api/geocode/json?address=Argentina&sensor=false\n",
      "Information from URL : http://maps.googleapis.com/maps/api/geocode/json?address=Singapore&sensor=false\n",
      "Information from URL : http://maps.googleapis.com/maps/api/geocode/json?address=Venice,CA&sensor=false\n",
      "Information from URL : http://maps.googleapis.com/maps/api/geocode/json?address=S%C3%A3o%20Paulo,%20Brasil&sensor=false\n",
      ".Information from URL : http://maps.googleapis.com/maps/api/geocode/json?address=Ciudad%20Obreg%C3%B3n,%20Sonora,%20M%C3%A9xico&sensor=false\n",
      "Information from URL : http://maps.googleapis.com/maps/api/geocode/json?address=Manchester,%20England&sensor=false\n",
      ".Information from URL : http://maps.googleapis.com/maps/api/geocode/json?address=Chicago,%20IL&sensor=false\n",
      ".Information from URL : http://maps.googleapis.com/maps/api/geocode/json?address=Chicago,%20IL&sensor=false\n",
      ".Information from URL : http://maps.googleapis.com/maps/api/geocode/json?address=beefentertainment@mail.com&sensor=false\n",
      "Warning message:\n",
      "“geocode failed with status ZERO_RESULTS, location = \"beefentertainment@mail.com\"”.Information from URL : http://maps.googleapis.com/maps/api/geocode/json?address=Houston,%20TX&sensor=false\n",
      ".Information from URL : http://maps.googleapis.com/maps/api/geocode/json?address=%E2%9C%BF%20Eastside%20%E2%9C%BF%20Los%20Angeles,%20CA&sensor=false\n",
      "Warning message:\n",
      "“geocode failed with status ZERO_RESULTS, location = \"✿ Eastside ✿ Los Angeles, CA\"”Information from URL : http://maps.googleapis.com/maps/api/geocode/json?address=Canada&sensor=false\n",
      "Information from URL : http://maps.googleapis.com/maps/api/geocode/json?address=Los%20Angeles,%20CA&sensor=false\n",
      ".Information from URL : http://maps.googleapis.com/maps/api/geocode/json?address=New%20York,%20NY&sensor=false\n",
      ".Information from URL : http://maps.googleapis.com/maps/api/geocode/json?address=Los%20Angeles,%20CA&sensor=false\n",
      ".Information from URL : http://maps.googleapis.com/maps/api/geocode/json?address=MA&sensor=false\n",
      ".Information from URL : http://maps.googleapis.com/maps/api/geocode/json?address=Worldwide&sensor=false\n",
      ".Information from URL : http://maps.googleapis.com/maps/api/geocode/json?address=NYC%20/%20Sarasota,FL&sensor=false\n",
      "Information from URL : http://maps.googleapis.com/maps/api/geocode/json?address=Dolan%20Twins&sensor=false\n",
      "Warning message:\n",
      "“geocode failed with status ZERO_RESULTS, location = \"Dolan Twins\"”.Information from URL : http://maps.googleapis.com/maps/api/geocode/json?address=Las%20Vegas,%20NV&sensor=false\n",
      ".Information from URL : http://maps.googleapis.com/maps/api/geocode/json?address=Geneva%20Area,%20Switzerland&sensor=false\n",
      "Information from URL : http://maps.googleapis.com/maps/api/geocode/json?address=Kansas%20City,%20Mo.&sensor=false\n",
      "Information from URL : http://maps.googleapis.com/maps/api/geocode/json?address=London&sensor=false\n",
      "Information from URL : http://maps.googleapis.com/maps/api/geocode/json?address=Queens,%20New%20York&sensor=false\n",
      ".Information from URL : http://maps.googleapis.com/maps/api/geocode/json?address=New%20York%20City&sensor=false\n",
      ".Information from URL : http://maps.googleapis.com/maps/api/geocode/json?address=Venice%20Beach,%20CA&sensor=false\n",
      "Information from URL : http://maps.googleapis.com/maps/api/geocode/json?address=Detroit%20Metro%20Area&sensor=false\n",
      "Information from URL : http://maps.googleapis.com/maps/api/geocode/json?address=Foxborough%20MA&sensor=false\n",
      "Information from URL : http://maps.googleapis.com/maps/api/geocode/json?address=Inverness,%20Florida&sensor=false\n",
      ".Information from URL : http://maps.googleapis.com/maps/api/geocode/json?address=North%20East%20England&sensor=false\n",
      "Information from URL : http://maps.googleapis.com/maps/api/geocode/json?address=Benito%20Ju%C3%A1rez&sensor=false\n",
      "Information from URL : http://maps.googleapis.com/maps/api/geocode/json?address=Chicago,%20IL&sensor=false\n",
      ".Information from URL : http://maps.googleapis.com/maps/api/geocode/json?address=Central,%20PA&sensor=false\n",
      "Information from URL : http://maps.googleapis.com/maps/api/geocode/json?address=Sarasota,%20Florida&sensor=false\n",
      ".Information from URL : http://maps.googleapis.com/maps/api/geocode/json?address=Frankfurt&sensor=false\n",
      ".Information from URL : http://maps.googleapis.com/maps/api/geocode/json?address=Las%20Vegas,%20Nevada&sensor=false\n",
      "Information from URL : http://maps.googleapis.com/maps/api/geocode/json?address=Maroon5&sensor=false\n",
      "Information from URL : http://maps.googleapis.com/maps/api/geocode/json?address=Northampton,%20MA&sensor=false\n",
      ".Information from URL : http://maps.googleapis.com/maps/api/geocode/json?address=San%20Luis%20Obispo,%20California&sensor=false\n",
      ".Information from URL : http://maps.googleapis.com/maps/api/geocode/json?address=Montrouge,%20France.&sensor=false\n",
      "Information from URL : http://maps.googleapis.com/maps/api/geocode/json?address=San%20Jose,%20CA&sensor=false\n",
      ".Information from URL : http://maps.googleapis.com/maps/api/geocode/json?address=Sunday%20Morning%20222&sensor=false\n",
      "Information from URL : http://maps.googleapis.com/maps/api/geocode/json?address=Seville,%20Spain&sensor=false\n",
      "Information from URL : http://maps.googleapis.com/maps/api/geocode/json?address=Oakville,%20Ontario&sensor=false\n",
      "Information from URL : http://maps.googleapis.com/maps/api/geocode/json?address=Celebration,%20Florida&sensor=false\n",
      "Information from URL : http://maps.googleapis.com/maps/api/geocode/json?address=Foxborough,%20Massachusetts,%20USA&sensor=false\n",
      "Information from URL : http://maps.googleapis.com/maps/api/geocode/json?address=Washington,%20DC&sensor=false\n",
      ".Information from URL : http://maps.googleapis.com/maps/api/geocode/json?address=Manassas,%20VA&sensor=false\n",
      "Information from URL : http://maps.googleapis.com/maps/api/geocode/json?address=SARASOTA,%20FLORIDA%20U.S.A.&sensor=false\n",
      ".Information from URL : http://maps.googleapis.com/maps/api/geocode/json?address=Bay%20Area&sensor=false\n",
      "Information from URL : http://maps.googleapis.com/maps/api/geocode/json?address=Highlands%20Ranch,%20CO&sensor=false\n",
      "Information from URL : http://maps.googleapis.com/maps/api/geocode/json?address=London,%20England&sensor=false\n",
      ".Information from URL : http://maps.googleapis.com/maps/api/geocode/json?address=New%20York,%20NY&sensor=false\n",
      ".Information from URL : http://maps.googleapis.com/maps/api/geocode/json?address=Berlin,%20Germany&sensor=false\n",
      "Information from URL : http://maps.googleapis.com/maps/api/geocode/json?address=Israel&sensor=false\n",
      ".Information from URL : http://maps.googleapis.com/maps/api/geocode/json?address=Kyoto&sensor=false\n",
      "Information from URL : http://maps.googleapis.com/maps/api/geocode/json?address=Louisville%20KY&sensor=false\n",
      ".Information from URL : http://maps.googleapis.com/maps/api/geocode/json?address=Colwyn%20Bay,%20Wales&sensor=false\n",
      "Information from URL : http://maps.googleapis.com/maps/api/geocode/json?address=40.255588,-76.877092&sensor=false\n",
      ".Information from URL : http://maps.googleapis.com/maps/api/geocode/json?address=Sydney,%20Australia&sensor=false\n",
      ".Information from URL : http://maps.googleapis.com/maps/api/geocode/json?address=New%20York,,%20United%20States&sensor=false\n",
      ".Information from URL : http://maps.googleapis.com/maps/api/geocode/json?address=New%20York%20and%20beyond...&sensor=false\n",
      ".Information from URL : http://maps.googleapis.com/maps/api/geocode/json?address=Worldwide&sensor=false\n",
      ".Information from URL : http://maps.googleapis.com/maps/api/geocode/json?address=Boolin&sensor=false\n",
      "Warning message:\n",
      "“geocode failed with status ZERO_RESULTS, location = \"Boolin\"”Information from URL : http://maps.googleapis.com/maps/api/geocode/json?address=LA&sensor=false\n",
      ".Information from URL : http://maps.googleapis.com/maps/api/geocode/json?address=Normal,%20IL&sensor=false\n",
      "Information from URL : http://maps.googleapis.com/maps/api/geocode/json?address=Sarawak&sensor=false\n",
      "Information from URL : http://maps.googleapis.com/maps/api/geocode/json?address=Boston's%20North%20Shore&sensor=false\n",
      "Information from URL : http://maps.googleapis.com/maps/api/geocode/json?address=Dallas,%20TX&sensor=false\n",
      "Information from URL : http://maps.googleapis.com/maps/api/geocode/json?address=Recife,Pernambuco,Brasil&sensor=false\n",
      ".Information from URL : http://maps.googleapis.com/maps/api/geocode/json?address=Natal-RN&sensor=false\n",
      ".Information from URL : http://maps.googleapis.com/maps/api/geocode/json?address=Los%20Angeles,%20CA%20USA&sensor=false\n",
      "Information from URL : http://maps.googleapis.com/maps/api/geocode/json?address=Butler,%20PA&sensor=false\n",
      ".Information from URL : http://maps.googleapis.com/maps/api/geocode/json?address=Miami&sensor=false\n",
      "Information from URL : http://maps.googleapis.com/maps/api/geocode/json?address=Global&sensor=false\n",
      "Information from URL : http://maps.googleapis.com/maps/api/geocode/json?address=Acapulco%20de%20Ju%C3%A1rez,%20Guerrero&sensor=false\n",
      "Information from URL : http://maps.googleapis.com/maps/api/geocode/json?address=Ontario,%20Canada&sensor=false\n",
      ".Information from URL : http://maps.googleapis.com/maps/api/geocode/json?address=Seattle&sensor=false\n",
      "Information from URL : http://maps.googleapis.com/maps/api/geocode/json?address=San%20Diego,%20CA%20&sensor=false\n",
      "Information from URL : http://maps.googleapis.com/maps/api/geocode/json?address=West%20Michigan&sensor=false\n",
      ".Information from URL : http://maps.googleapis.com/maps/api/geocode/json?address=Haledon,%20NJ&sensor=false\n",
      ".Information from URL : http://maps.googleapis.com/maps/api/geocode/json?address=Boston,%20MA&sensor=false\n",
      ".Information from URL : http://maps.googleapis.com/maps/api/geocode/json?address=Singapore&sensor=false\n",
      ".Information from URL : http://maps.googleapis.com/maps/api/geocode/json?address=Chicago,%20Illinois&sensor=false\n",
      "Information from URL : http://maps.googleapis.com/maps/api/geocode/json?address=%C3%9CT:%206.63938,3.328385&sensor=false\n",
      "Information from URL : http://maps.googleapis.com/maps/api/geocode/json?address=M%C3%A9xico&sensor=false\n",
      "Information from URL : http://maps.googleapis.com/maps/api/geocode/json?address=Michigan%20USA&sensor=false\n",
      "Information from URL : http://maps.googleapis.com/maps/api/geocode/json?address=eugene%20Oregon&sensor=false\n",
      "Information from URL : http://maps.googleapis.com/maps/api/geocode/json?address=Stars%20Hollow/%20GA&sensor=false\n",
      "Warning message:\n",
      "“geocode failed with status ZERO_RESULTS, location = \"Stars Hollow/ GA\"”Information from URL : http://maps.googleapis.com/maps/api/geocode/json?address=%C3%9CT:%2043.258317,-79.879049&sensor=false\n",
      ".Information from URL : http://maps.googleapis.com/maps/api/geocode/json?address=Los%20Angeles&sensor=false\n",
      ".Information from URL : http://maps.googleapis.com/maps/api/geocode/json?address=Tree%20Hill&sensor=false\n",
      ".Information from URL : http://maps.googleapis.com/maps/api/geocode/json?address=New%20York,%20NY&sensor=false\n",
      ".Information from URL : http://maps.googleapis.com/maps/api/geocode/json?address=London,%20England&sensor=false\n",
      "Information from URL : http://maps.googleapis.com/maps/api/geocode/json?address=Global&sensor=false\n",
      "Information from URL : http://maps.googleapis.com/maps/api/geocode/json?address=Medell%C3%ACn%20(Colombia)&sensor=false\n",
      ".Information from URL : http://maps.googleapis.com/maps/api/geocode/json?address=London%20&sensor=false\n",
      "Information from URL : http://maps.googleapis.com/maps/api/geocode/json?address=San%20Francisco,%20CA&sensor=false\n",
      "Information from URL : http://maps.googleapis.com/maps/api/geocode/json?address=Cold%20Water&sensor=false\n",
      "Information from URL : http://maps.googleapis.com/maps/api/geocode/json?address=Oakbrook%20Terrace,%20IL&sensor=false\n",
      ".Information from URL : http://maps.googleapis.com/maps/api/geocode/json?address=Atlanta,%20Georgia%20area&sensor=false\n",
      "Information from URL : http://maps.googleapis.com/maps/api/geocode/json?address=Metro%20NYC&sensor=false\n",
      ".Information from URL : http://maps.googleapis.com/maps/api/geocode/json?address=Mexico&sensor=false\n",
      ".Information from URL : http://maps.googleapis.com/maps/api/geocode/json?address=France&sensor=false\n",
      ".Information from URL : http://maps.googleapis.com/maps/api/geocode/json?address=USA&sensor=false\n",
      "Information from URL : http://maps.googleapis.com/maps/api/geocode/json?address=nations%20capital&sensor=false\n",
      ".Information from URL : http://maps.googleapis.com/maps/api/geocode/json?address=Hoboken,%20NJ&sensor=false\n",
      "Information from URL : http://maps.googleapis.com/maps/api/geocode/json?address=Quito-Ecuador&sensor=false\n",
      "Information from URL : http://maps.googleapis.com/maps/api/geocode/json?address=New%20York&sensor=false\n",
      ".Information from URL : http://maps.googleapis.com/maps/api/geocode/json?address=New%20York,%20Dublin&sensor=false\n",
      "Information from URL : http://maps.googleapis.com/maps/api/geocode/json?address=#LADYGAGA&sensor=false\n",
      "Warning message in readLines(connect, warn = FALSE):\n",
      "“cannot open URL 'http://maps.googleapis.com/maps/api/geocode/json?address=#LADYGAGA&sensor=false': HTTP status was '400 Bad Request'”Warning message in geocode(i, output = \"latlon\", source = \"google\"):\n",
      "“  geocoding failed for \"#LADYGAGA\".\n",
      "  if accompanied by 500 Internal Server Error with using dsk, try google.”.Information from URL : http://maps.googleapis.com/maps/api/geocode/json?address=Toronto,%20Ontario&sensor=false\n",
      ".Information from URL : http://maps.googleapis.com/maps/api/geocode/json?address=NYC&sensor=false\n",
      ".Information from URL : http://maps.googleapis.com/maps/api/geocode/json?address=Dublin%20City,%20Ireland&sensor=false\n",
      ".Information from URL : http://maps.googleapis.com/maps/api/geocode/json?address=London&sensor=false\n",
      ".Information from URL : http://maps.googleapis.com/maps/api/geocode/json?address=Atlanta,%20GA&sensor=false\n",
      ".Information from URL : http://maps.googleapis.com/maps/api/geocode/json?address=Norwalk,%20CT&sensor=false\n",
      "Information from URL : http://maps.googleapis.com/maps/api/geocode/json?address=Las%20Vegas,%20NV&sensor=false\n",
      ".Information from URL : http://maps.googleapis.com/maps/api/geocode/json?address=Syracuse,%20NY&sensor=false\n",
      ".Information from URL : http://maps.googleapis.com/maps/api/geocode/json?address=%C3%9CT:%20-33.892311,18.511224&sensor=false\n",
      "Information from URL : http://maps.googleapis.com/maps/api/geocode/json?address=Natick,%20MA&sensor=false\n",
      ".Information from URL : http://maps.googleapis.com/maps/api/geocode/json?address=Toronto,%20Ontario&sensor=false\n",
      ".Information from URL : http://maps.googleapis.com/maps/api/geocode/json?address=worldwide&sensor=false\n",
      "Information from URL : http://maps.googleapis.com/maps/api/geocode/json?address=ATLANTA,GA%20AUGUSTA,GA%20AIKEN,SC&sensor=false\n",
      "Information from URL : http://maps.googleapis.com/maps/api/geocode/json?address=Doha&sensor=false\n",
      ".Information from URL : http://maps.googleapis.com/maps/api/geocode/json?address=Ciudad%20de%20Huejutla%20de%20Reyes&sensor=false\n",
      "Information from URL : http://maps.googleapis.com/maps/api/geocode/json?address=Rancho%20cucamonga,%20ca&sensor=false\n",
      "Information from URL : http://maps.googleapis.com/maps/api/geocode/json?address=AL...CT&sensor=false\n",
      "Information from URL : http://maps.googleapis.com/maps/api/geocode/json?address=New%20York,%20USA&sensor=false\n",
      ".Information from URL : http://maps.googleapis.com/maps/api/geocode/json?address=Legion%20of%20Doom%20Headquarters&sensor=false\n",
      "Warning message:\n",
      "“geocode failed with status ZERO_RESULTS, location = \"Legion of Doom Headquarters\"”Information from URL : http://maps.googleapis.com/maps/api/geocode/json?address=New%20York,%20USA&sensor=false\n",
      ".Information from URL : http://maps.googleapis.com/maps/api/geocode/json?address=Toronto,%20Ontario&sensor=false\n",
      ".Information from URL : http://maps.googleapis.com/maps/api/geocode/json?address=Mumbai&sensor=false\n",
      "Information from URL : http://maps.googleapis.com/maps/api/geocode/json?address=Boston,%20MA&sensor=false\n",
      ".Information from URL : http://maps.googleapis.com/maps/api/geocode/json?address=New%20York%20-%20Chicago%20-%20Phoenix&sensor=false\n",
      "Information from URL : http://maps.googleapis.com/maps/api/geocode/json?address=Ciudad%20de%20M%C3%A9xico&sensor=false\n",
      "Information from URL : http://maps.googleapis.com/maps/api/geocode/json?address=Ackworth&sensor=false\n",
      "Information from URL : http://maps.googleapis.com/maps/api/geocode/json?address=Snapchat:%20yung_lemon94&sensor=false\n",
      "Warning message:\n",
      "“geocode failed with status ZERO_RESULTS, location = \"Snapchat: yung_lemon94\"”.Information from URL : http://maps.googleapis.com/maps/api/geocode/json?address=Madrid&sensor=false\n",
      ".Information from URL : http://maps.googleapis.com/maps/api/geocode/json?address=Los%20Angeles&sensor=false\n",
      "Information from URL : http://maps.googleapis.com/maps/api/geocode/json?address=Seattle,%20WA&sensor=false\n",
      ".Information from URL : http://maps.googleapis.com/maps/api/geocode/json?address=New%20Jersey,%20USA&sensor=false\n",
      ".Information from URL : http://maps.googleapis.com/maps/api/geocode/json?address=SC/phhhoto:domingoocampo&sensor=false\n",
      "Warning message:\n",
      "“geocode failed with status ZERO_RESULTS, location = \"SC/phhhoto:domingoocampo\"”.Information from URL : http://maps.googleapis.com/maps/api/geocode/json?address=Elora&sensor=false\n",
      "Information from URL : http://maps.googleapis.com/maps/api/geocode/json?address=Turkey%20Moscow&sensor=false\n",
      ".Information from URL : http://maps.googleapis.com/maps/api/geocode/json?address=Bruehl,%20Germany&sensor=false\n",
      "Information from URL : http://maps.googleapis.com/maps/api/geocode/json?address=United%20States&sensor=false\n",
      "Information from URL : http://maps.googleapis.com/maps/api/geocode/json?address=United%20States%20%7C%20India&sensor=false\n",
      ".Information from URL : http://maps.googleapis.com/maps/api/geocode/json?address=Yorkshire,%20England,%20UK&sensor=false\n",
      "Information from URL : http://maps.googleapis.com/maps/api/geocode/json?address=Global&sensor=false\n",
      "Information from URL : http://maps.googleapis.com/maps/api/geocode/json?address=Ivry-sur-Seine,%20France&sensor=false\n",
      "Information from URL : http://maps.googleapis.com/maps/api/geocode/json?address=europe&sensor=false\n",
      "Information from URL : http://maps.googleapis.com/maps/api/geocode/json?address=Foxborough,%20MA&sensor=false\n",
      ".Information from URL : http://maps.googleapis.com/maps/api/geocode/json?address=Do%20NOT%20%22List%22%20Us&sensor=false\n",
      "Warning message:\n",
      "“geocode failed with status ZERO_RESULTS, location = \"Do NOT \"List\" Us\"”.Information from URL : http://maps.googleapis.com/maps/api/geocode/json?address=26%20Whitehall%20Road,%20Leeds&sensor=false\n",
      ".Information from URL : http://maps.googleapis.com/maps/api/geocode/json?address=Los%20Angeles,%20CA&sensor=false\n",
      ".Information from URL : http://maps.googleapis.com/maps/api/geocode/json?address=North%20West%20London,%20UK&sensor=false\n",
      "Information from URL : http://maps.googleapis.com/maps/api/geocode/json?address=Southeast%20Asia&sensor=false\n",
      "Information from URL : http://maps.googleapis.com/maps/api/geocode/json?address=Barcelona,%20Spain&sensor=false\n",
      ".Information from URL : http://maps.googleapis.com/maps/api/geocode/json?address=Wakefield,%20West%20Yorkshire&sensor=false\n",
      "Information from URL : http://maps.googleapis.com/maps/api/geocode/json?address=Northampton,%20England&sensor=false\n",
      "Information from URL : http://maps.googleapis.com/maps/api/geocode/json?address=Alicante%20&%20Barcelona&sensor=false\n",
      "Information from URL : http://maps.googleapis.com/maps/api/geocode/json?address=UK/USA/ARG/AU/IE/NED&sensor=false\n",
      "Warning message:\n",
      "“geocode failed with status ZERO_RESULTS, location = \"UK/USA/ARG/AU/IE/NED\"”Information from URL : http://maps.googleapis.com/maps/api/geocode/json?address=Newington,%20CT&sensor=false\n",
      "Information from URL : http://maps.googleapis.com/maps/api/geocode/json?address=LA,%20NYC,%20Chicago,%20D.C.,%20Vegas&sensor=false\n",
      "Warning message:\n",
      "“geocode failed with status ZERO_RESULTS, location = \"LA, NYC, Chicago, D.C., Vegas\"”Information from URL : http://maps.googleapis.com/maps/api/geocode/json?address=San%20Francisco,%20CA&sensor=false\n",
      ".Information from URL : http://maps.googleapis.com/maps/api/geocode/json?address=Las%20Vegas,%20NV&sensor=false\n",
      ".Information from URL : http://maps.googleapis.com/maps/api/geocode/json?address=US,%20China%20and%20UK&sensor=false\n",
      "Information from URL : http://maps.googleapis.com/maps/api/geocode/json?address=Bristol,%20England&sensor=false\n",
      ".Information from URL : http://maps.googleapis.com/maps/api/geocode/json?address=Denver,%20CO&sensor=false\n",
      "Information from URL : http://maps.googleapis.com/maps/api/geocode/json?address=New%20York&sensor=false\n",
      ".Information from URL : http://maps.googleapis.com/maps/api/geocode/json?address=Guernsey,%20Jersey,%20London&sensor=false\n",
      "Information from URL : http://maps.googleapis.com/maps/api/geocode/json?address=Atlanta,%20GA&sensor=false\n",
      ".Information from URL : http://maps.googleapis.com/maps/api/geocode/json?address=UK&sensor=false\n",
      "Information from URL : http://maps.googleapis.com/maps/api/geocode/json?address=New%20Delhi,%20India&sensor=false\n",
      ".Information from URL : http://maps.googleapis.com/maps/api/geocode/json?address=Fairfax,%20VA&sensor=false\n",
      ".Information from URL : http://maps.googleapis.com/maps/api/geocode/json?address=Chicago,%20not%20on%20Facebook&sensor=false\n",
      "Information from URL : http://maps.googleapis.com/maps/api/geocode/json?address=Bristol,%20UK&sensor=false\n",
      "Information from URL : http://maps.googleapis.com/maps/api/geocode/json?address=Brookline&sensor=false\n",
      ".Information from URL : http://maps.googleapis.com/maps/api/geocode/json?address=Toronto,%20Canada&sensor=false\n",
      "Information from URL : http://maps.googleapis.com/maps/api/geocode/json?address=Monschau,%20Deutschland&sensor=false\n",
      "Information from URL : http://maps.googleapis.com/maps/api/geocode/json?address=Russia&sensor=false\n",
      ".Information from URL : http://maps.googleapis.com/maps/api/geocode/json?address=Grand%20Falls,%20New%20Brunswick&sensor=false\n",
      ".Information from URL : http://maps.googleapis.com/maps/api/geocode/json?address=Pleasantville,%20NY.&sensor=false\n",
      "Information from URL : http://maps.googleapis.com/maps/api/geocode/json?address=Tuxtla%20Guti%C3%A9rrez,%20Chiapas&sensor=false\n",
      "Information from URL : http://maps.googleapis.com/maps/api/geocode/json?address=Pa%C3%AFsos%20Catalans&sensor=false\n",
      ".Information from URL : http://maps.googleapis.com/maps/api/geocode/json?address=Spain&sensor=false\n",
      "Information from URL : http://maps.googleapis.com/maps/api/geocode/json?address=Bangalore&sensor=false\n",
      "Information from URL : http://maps.googleapis.com/maps/api/geocode/json?address=London&sensor=false\n",
      ".Information from URL : http://maps.googleapis.com/maps/api/geocode/json?address=Bologna,%20Italy&sensor=false\n",
      "Information from URL : http://maps.googleapis.com/maps/api/geocode/json?address=Ahmedabad,India&sensor=false\n",
      ".Information from URL : http://maps.googleapis.com/maps/api/geocode/json?address=Florida,%20USA&sensor=false\n",
      ".Information from URL : http://maps.googleapis.com/maps/api/geocode/json?address=Cambridge,%20England&sensor=false\n",
      ".Information from URL : http://maps.googleapis.com/maps/api/geocode/json?address=Australia&sensor=false\n",
      "Information from URL : http://maps.googleapis.com/maps/api/geocode/json?address=Singapore&sensor=false\n",
      ".Information from URL : http://maps.googleapis.com/maps/api/geocode/json?address=TRC&sensor=false\n",
      "Information from URL : http://maps.googleapis.com/maps/api/geocode/json?address=Everywhere&sensor=false\n",
      "Information from URL : http://maps.googleapis.com/maps/api/geocode/json?address=Dallas,Texas&sensor=false\n",
      ".Information from URL : http://maps.googleapis.com/maps/api/geocode/json?address=Sand%20am%20Main&sensor=false\n",
      ".Information from URL : http://maps.googleapis.com/maps/api/geocode/json?address=Joyo%20Vicioso,%20Vergadentro,%20JYY&sensor=false\n",
      "Warning message:\n",
      "“geocode failed with status ZERO_RESULTS, location = \"Joyo Vicioso, Vergadentro, JYY\"”Information from URL : http://maps.googleapis.com/maps/api/geocode/json?address=Mar%C3%ADn,%20Nuevo%20Le%C3%B3n&sensor=false\n",
      ".Information from URL : http://maps.googleapis.com/maps/api/geocode/json?address=somewhere%20in%20LA%20area...&sensor=false\n",
      "Warning message:\n",
      "“geocode failed with status ZERO_RESULTS, location = \"somewhere in LA area...\"”Information from URL : http://maps.googleapis.com/maps/api/geocode/json?address=CORINTHIANS%20PAULISTA&sensor=false\n",
      ".Information from URL : http://maps.googleapis.com/maps/api/geocode/json?address=Miami&sensor=false\n",
      "Information from URL : http://maps.googleapis.com/maps/api/geocode/json?address=Seattle%20and%20New%20York&sensor=false\n",
      "Information from URL : http://maps.googleapis.com/maps/api/geocode/json?address=Ada,%20OK&sensor=false\n",
      "Information from URL : http://maps.googleapis.com/maps/api/geocode/json?address=Boston&sensor=false\n",
      "Information from URL : http://maps.googleapis.com/maps/api/geocode/json?address=Melbourne%20%20(not%20Florida)&sensor=false\n",
      ".Information from URL : http://maps.googleapis.com/maps/api/geocode/json?address=Mother%20Earth&sensor=false\n",
      "Information from URL : http://maps.googleapis.com/maps/api/geocode/json?address=Lost&sensor=false\n",
      "Warning message:\n",
      "“geocode failed with status ZERO_RESULTS, location = \"Lost\"”Information from URL : http://maps.googleapis.com/maps/api/geocode/json?address=Austin,%20TX%20&sensor=false\n",
      ".Information from URL : http://maps.googleapis.com/maps/api/geocode/json?address=Copenhagen,%20Denmark&sensor=false\n",
      ".Information from URL : http://maps.googleapis.com/maps/api/geocode/json?address=Leicester,%20MA&sensor=false\n",
      ".Information from URL : http://maps.googleapis.com/maps/api/geocode/json?address=Toronto&sensor=false\n",
      ".Information from URL : http://maps.googleapis.com/maps/api/geocode/json?address=International%20&sensor=false\n",
      "Information from URL : http://maps.googleapis.com/maps/api/geocode/json?address=Istanbul%20-%20Turkey&sensor=false\n",
      "Information from URL : http://maps.googleapis.com/maps/api/geocode/json?address=UK&sensor=false\n",
      "Information from URL : http://maps.googleapis.com/maps/api/geocode/json?address=Rochester,%20NY&sensor=false\n",
      ".Information from URL : http://maps.googleapis.com/maps/api/geocode/json?address=USA&sensor=false\n",
      ".Information from URL : http://maps.googleapis.com/maps/api/geocode/json?address=%C3%9CT:%2033.5224422,-112.1332548&sensor=false\n",
      ".Information from URL : http://maps.googleapis.com/maps/api/geocode/json?address=Leipzig,%20Germany&sensor=false\n",
      "Information from URL : http://maps.googleapis.com/maps/api/geocode/json?address=In%20a%20galaxy%20far,%20far%20away...&sensor=false\n",
      "Warning message:\n",
      "“geocode failed with status ZERO_RESULTS, location = \"In a galaxy far, far away...\"”.Information from URL : http://maps.googleapis.com/maps/api/geocode/json?address=El%20Salvador&sensor=false\n",
      "Information from URL : http://maps.googleapis.com/maps/api/geocode/json?address=Orange%20Park,%20FL&sensor=false\n",
      "Information from URL : http://maps.googleapis.com/maps/api/geocode/json?address=Maracaibo,%20Venezuela&sensor=false\n",
      "Information from URL : http://maps.googleapis.com/maps/api/geocode/json?address=St.%20Pete%7C%20Tampa,%20FL&sensor=false\n",
      "Information from URL : http://maps.googleapis.com/maps/api/geocode/json?address=sc&sensor=false\n",
      "Information from URL : http://maps.googleapis.com/maps/api/geocode/json?address=Georgia,%20USA&sensor=false\n",
      ".Information from URL : http://maps.googleapis.com/maps/api/geocode/json?address=New%20England&sensor=false\n",
      ".Information from URL : http://maps.googleapis.com/maps/api/geocode/json?address=D.%E3%80%BD%EF%B8%8F.V&sensor=false\n",
      ".Information from URL : http://maps.googleapis.com/maps/api/geocode/json?address=Mumbai,%20India&sensor=false\n",
      "Information from URL : http://maps.googleapis.com/maps/api/geocode/json?address=#PatsNation%20#TB12%20NE%20Patriots!&sensor=false\n",
      "Warning message in readLines(connect, warn = FALSE):\n",
      "“cannot open URL 'http://maps.googleapis.com/maps/api/geocode/json?address=#PatsNation%20#TB12%20NE%20Patriots!&sensor=false': HTTP status was '400 Bad Request'”Warning message in geocode(i, output = \"latlon\", source = \"google\"):\n",
      "“  geocoding failed for \"#PatsNation #TB12 NE Patriots!\".\n",
      "  if accompanied by 500 Internal Server Error with using dsk, try google.”.Information from URL : http://maps.googleapis.com/maps/api/geocode/json?address=Xalapa,%20Veracruz,%20M%C3%A9xico&sensor=false\n",
      ".Information from URL : http://maps.googleapis.com/maps/api/geocode/json?address=Manzanillo,%20Colima&sensor=false\n",
      "Information from URL : http://maps.googleapis.com/maps/api/geocode/json?address=Pawtucket%20&%20Los%20gatos%20&sensor=false\n",
      "Information from URL : http://maps.googleapis.com/maps/api/geocode/json?address=.#OSINT%20#SOCMINT&sensor=false\n",
      "Warning message:\n",
      "“geocode failed with status ZERO_RESULTS, location = \".#OSINT #SOCMINT\"”.Information from URL : http://maps.googleapis.com/maps/api/geocode/json?address=Calgary.%20Alberta.&sensor=false\n",
      "Information from URL : http://maps.googleapis.com/maps/api/geocode/json?address=Mississauga%20ON,%20Canada&sensor=false\n",
      "Information from URL : http://maps.googleapis.com/maps/api/geocode/json?address=InMyOwnLaneOwnWorld&sensor=false\n",
      "Warning message:\n",
      "“geocode failed with status ZERO_RESULTS, location = \"InMyOwnLaneOwnWorld\"”.Information from URL : http://maps.googleapis.com/maps/api/geocode/json?address=Rancho%20Cucamonga,%20CA&sensor=false\n",
      ".Information from URL : http://maps.googleapis.com/maps/api/geocode/json?address=United%20States&sensor=false\n",
      "Information from URL : http://maps.googleapis.com/maps/api/geocode/json?address=Worcester,%20MA&sensor=false\n",
      ".Information from URL : http://maps.googleapis.com/maps/api/geocode/json?address=Barcelona,%20Spain&sensor=false\n",
      ".Information from URL : http://maps.googleapis.com/maps/api/geocode/json?address=United%20Kingdom&sensor=false\n",
      ".Information from URL : http://maps.googleapis.com/maps/api/geocode/json?address=Philadelphia&sensor=false\n",
      ".Information from URL : http://maps.googleapis.com/maps/api/geocode/json?address=NH&sensor=false\n",
      "Information from URL : http://maps.googleapis.com/maps/api/geocode/json?address=People's%20Republic%20of%20Zaftra&sensor=false\n",
      "Warning message:\n",
      "“geocode failed with status ZERO_RESULTS, location = \"People's Republic of Zaftra\"”Information from URL : http://maps.googleapis.com/maps/api/geocode/json?address=United%20States&sensor=false\n",
      ".Information from URL : http://maps.googleapis.com/maps/api/geocode/json?address=New%20York,%20NY%20/%20CB%2011M&sensor=false\n",
      ".Information from URL : http://maps.googleapis.com/maps/api/geocode/json?address=Long%20Island&sensor=false\n",
      ".Information from URL : http://maps.googleapis.com/maps/api/geocode/json?address=N%205%C2%B035'%200''%20/%20W%200%C2%B010'%200''&sensor=false\n",
      "Warning message:\n",
      "“geocode failed with status ZERO_RESULTS, location = \"N 5°35' 0'' / W 0°10' 0''\"”Information from URL : http://maps.googleapis.com/maps/api/geocode/json?address=Leicester%20Square,%20London&sensor=false\n",
      ".Information from URL : http://maps.googleapis.com/maps/api/geocode/json?address=Massachusetts&sensor=false\n",
      ".Information from URL : http://maps.googleapis.com/maps/api/geocode/json?address=Milan&sensor=false\n",
      ".Information from URL : http://maps.googleapis.com/maps/api/geocode/json?address=Northborough%20Massachusetts&sensor=false\n",
      "Information from URL : http://maps.googleapis.com/maps/api/geocode/json?address=OHIO&sensor=false\n",
      "Information from URL : http://maps.googleapis.com/maps/api/geocode/json?address=Rio%20de%20Janeiro%20-%20Brazil&sensor=false\n",
      "Information from URL : http://maps.googleapis.com/maps/api/geocode/json?address=Dubai&sensor=false\n",
      "Information from URL : http://maps.googleapis.com/maps/api/geocode/json?address=Boston,%20MA&sensor=false\n",
      ".Information from URL : http://maps.googleapis.com/maps/api/geocode/json?address=New%20Hampshire&sensor=false\n",
      ".Information from URL : http://maps.googleapis.com/maps/api/geocode/json?address=Bogot%C3%A1&sensor=false\n",
      "Information from URL : http://maps.googleapis.com/maps/api/geocode/json?address=Montreal,%20Canada&sensor=false\n",
      ".Information from URL : http://maps.googleapis.com/maps/api/geocode/json?address=302%20W%20State%20St%20Geneva%20IL,%206013&sensor=false\n",
      ".Information from URL : http://maps.googleapis.com/maps/api/geocode/json?address=Chasing%20The%20Dream!%20&sensor=false\n",
      "Warning message:\n",
      "“geocode failed with status ZERO_RESULTS, location = \"Chasing The Dream! \"”Information from URL : http://maps.googleapis.com/maps/api/geocode/json?address=Gulf%20Coast&sensor=false\n",
      "Information from URL : http://maps.googleapis.com/maps/api/geocode/json?address=United%20States&sensor=false\n",
      ".Information from URL : http://maps.googleapis.com/maps/api/geocode/json?address=Los%20Angeles,%20CA&sensor=false\n",
      ".Information from URL : http://maps.googleapis.com/maps/api/geocode/json?address=Manhattan,%20NY&sensor=false\n",
      "Information from URL : http://maps.googleapis.com/maps/api/geocode/json?address=Myrtle%20Grove,%20NC&sensor=false\n",
      "Information from URL : http://maps.googleapis.com/maps/api/geocode/json?address=Mexico&sensor=false\n",
      ".Information from URL : http://maps.googleapis.com/maps/api/geocode/json?address=shawn%20follows%2011/17/15&sensor=false\n",
      "Warning message:\n",
      "“geocode failed with status ZERO_RESULTS, location = \"shawn follows 11/17/15\"”.Information from URL : http://maps.googleapis.com/maps/api/geocode/json?address=Houston,%20TX&sensor=false\n",
      ".Information from URL : http://maps.googleapis.com/maps/api/geocode/json?address=South-East%20England&sensor=false\n",
      ".Information from URL : http://maps.googleapis.com/maps/api/geocode/json?address=oaxaca%20&sensor=false\n",
      "Information from URL : http://maps.googleapis.com/maps/api/geocode/json?address=Los%20Angeles&sensor=false\n",
      ".Information from URL : http://maps.googleapis.com/maps/api/geocode/json?address=United%20States&sensor=false\n",
      ".Information from URL : http://maps.googleapis.com/maps/api/geocode/json?address=Jacare%C3%AD,%20S%C3%A3o%20Paulo&sensor=false\n",
      "Information from URL : http://maps.googleapis.com/maps/api/geocode/json?address=N%C3%A3o%20sei&sensor=false\n",
      "Information from URL : http://maps.googleapis.com/maps/api/geocode/json?address=Winchester,%20MA&sensor=false\n",
      "Information from URL : http://maps.googleapis.com/maps/api/geocode/json?address=Location%20Independent&sensor=false\n",
      "Warning message:\n",
      "“geocode failed with status ZERO_RESULTS, location = \"Location Independent\"”Information from URL : http://maps.googleapis.com/maps/api/geocode/json?address=Boston,%20MA&sensor=false\n",
      ".Information from URL : http://maps.googleapis.com/maps/api/geocode/json?address=londonderry&sensor=false\n",
      ".Information from URL : http://maps.googleapis.com/maps/api/geocode/json?address=#PatsNation&sensor=false\n",
      "Warning message in readLines(connect, warn = FALSE):\n",
      "“cannot open URL 'http://maps.googleapis.com/maps/api/geocode/json?address=#PatsNation&sensor=false': HTTP status was '400 Bad Request'”Warning message in geocode(i, output = \"latlon\", source = \"google\"):\n",
      "“  geocoding failed for \"#PatsNation\".\n",
      "  if accompanied by 500 Internal Server Error with using dsk, try google.”.Information from URL : http://maps.googleapis.com/maps/api/geocode/json?address=Maine,%20USA&sensor=false\n",
      ".Information from URL : http://maps.googleapis.com/maps/api/geocode/json?address=Berl%C3%ADn,%20Alemania&sensor=false\n",
      ".Information from URL : http://maps.googleapis.com/maps/api/geocode/json?address=#LostInListeningToMUSIC&sensor=false\n",
      "Warning message in readLines(connect, warn = FALSE):\n",
      "“cannot open URL 'http://maps.googleapis.com/maps/api/geocode/json?address=#LostInListeningToMUSIC&sensor=false': HTTP status was '400 Bad Request'”Warning message in geocode(i, output = \"latlon\", source = \"google\"):\n",
      "“  geocoding failed for \"#LostInListeningToMUSIC\".\n",
      "  if accompanied by 500 Internal Server Error with using dsk, try google.”.Information from URL : http://maps.googleapis.com/maps/api/geocode/json?address=gillette%20stadium&sensor=false\n",
      "Information from URL : http://maps.googleapis.com/maps/api/geocode/json?address=Reading/Yorkshire%20&%20Humber&sensor=false\n",
      "Information from URL : http://maps.googleapis.com/maps/api/geocode/json?address=Paris,%20France&sensor=false\n",
      "Information from URL : http://maps.googleapis.com/maps/api/geocode/json?address=mom8,MS%20DDub/BobWahlberg%20Girl&sensor=false\n",
      "Warning message:\n",
      "“geocode failed with status ZERO_RESULTS, location = \"mom8,MS DDub/BobWahlberg Girl\"”Information from URL : http://maps.googleapis.com/maps/api/geocode/json?address=new%20england%20&sensor=false\n",
      ".Information from URL : http://maps.googleapis.com/maps/api/geocode/json?address=Brisbane,%20Australia&sensor=false\n",
      ".Information from URL : http://maps.googleapis.com/maps/api/geocode/json?address=Madrid,%20Espa%C3%B1a&sensor=false\n",
      ".Information from URL : http://maps.googleapis.com/maps/api/geocode/json?address=United%20States&sensor=false\n",
      ".Information from URL : http://maps.googleapis.com/maps/api/geocode/json?address=Monterrey%20N.L./M%C3%A9xico&sensor=false\n",
      ".Information from URL : http://maps.googleapis.com/maps/api/geocode/json?address=Fortaleza/Cear%C3%A1&sensor=false\n",
      ".Information from URL : http://maps.googleapis.com/maps/api/geocode/json?address=%E3%81%82%E3%81%A1%E3%82%89%E3%81%93%E3%81%A1%E3%82%89%E5%91%BD%E3%81%8C%E3%81%91&sensor=false\n",
      "Warning message:\n",
      "“geocode failed with status ZERO_RESULTS, location = \"あちらこちら命がけ\"”Information from URL : http://maps.googleapis.com/maps/api/geocode/json?address=Caruaru,%20Brasil&sensor=false\n",
      "Information from URL : http://maps.googleapis.com/maps/api/geocode/json?address=%20Brasil&sensor=false\n",
      "Information from URL : http://maps.googleapis.com/maps/api/geocode/json?address=Ensenada,%20Baja%20California&sensor=false\n",
      "Information from URL : http://maps.googleapis.com/maps/api/geocode/json?address=Coconut%20Oil%20Rd/Fine%20Auntie%20Ln%20&sensor=false\n",
      "Warning message:\n",
      "“geocode failed with status ZERO_RESULTS, location = \"Coconut Oil Rd/Fine Auntie Ln \"”Information from URL : http://maps.googleapis.com/maps/api/geocode/json?address=Fort%20Worth,%20TX&sensor=false\n",
      "Information from URL : http://maps.googleapis.com/maps/api/geocode/json?address=Boston,%20MA&sensor=false\n",
      ".Information from URL : http://maps.googleapis.com/maps/api/geocode/json?address=Pernambuco,%20Brasil&sensor=false\n",
      ".Information from URL : http://maps.googleapis.com/maps/api/geocode/json?address=Leesburg,%20VA&sensor=false\n",
      ".Information from URL : http://maps.googleapis.com/maps/api/geocode/json?address=Rio%20de%20Janeiro,%20Brasil&sensor=false\n",
      ".Information from URL : http://maps.googleapis.com/maps/api/geocode/json?address=Salvador,%20Bahia&sensor=false\n",
      ".Information from URL : http://maps.googleapis.com/maps/api/geocode/json?address=Contagem-%20Minas%20Gerais&sensor=false\n",
      "Information from URL : http://maps.googleapis.com/maps/api/geocode/json?address=Santos%20&sensor=false\n",
      "Information from URL : http://maps.googleapis.com/maps/api/geocode/json?address=Na%20sua%20&sensor=false\n",
      "Information from URL : http://maps.googleapis.com/maps/api/geocode/json?address=sol%20e%20asc%20em%20aquario&sensor=false\n",
      "Warning message:\n",
      "“geocode failed with status ZERO_RESULTS, location = \"sol e asc em aquario\"”Information from URL : http://maps.googleapis.com/maps/api/geocode/json?address=S%C3%A3o%20Paulo,%20Brazil&sensor=false\n",
      "Information from URL : http://maps.googleapis.com/maps/api/geocode/json?address=Brasil&sensor=false\n",
      ".Information from URL : http://maps.googleapis.com/maps/api/geocode/json?address=Brazil&sensor=false\n",
      ".Information from URL : http://maps.googleapis.com/maps/api/geocode/json?address=Brazil&sensor=false\n",
      ".Information from URL : http://maps.googleapis.com/maps/api/geocode/json?address=Ann%20Arbor,%20MI,%20USA&sensor=false\n",
      ".Information from URL : http://maps.googleapis.com/maps/api/geocode/json?address=Brazil&sensor=false\n",
      ".Information from URL : http://maps.googleapis.com/maps/api/geocode/json?address=Augusta,%20GA&sensor=false\n",
      ".Information from URL : http://maps.googleapis.com/maps/api/geocode/json?address=92'48&sensor=false\n",
      ".Information from URL : http://maps.googleapis.com/maps/api/geocode/json?address=Guadalajara,%20Jalisco&sensor=false\n",
      ".Information from URL : http://maps.googleapis.com/maps/api/geocode/json?address=MIAMI-M%C3%89XICO-ARGENTINA&sensor=false\n",
      "Warning message:\n",
      "“geocode failed with status ZERO_RESULTS, location = \"MIAMI-MÉXICO-ARGENTINA\"”.Information from URL : http://maps.googleapis.com/maps/api/geocode/json?address=Foxborough,%20MA&sensor=false\n",
      "Information from URL : http://maps.googleapis.com/maps/api/geocode/json?address=LONDON%20&%20GLOBAL&sensor=false\n",
      ".Information from URL : http://maps.googleapis.com/maps/api/geocode/json?address=New%20York%20City&sensor=false\n",
      ".Information from URL : http://maps.googleapis.com/maps/api/geocode/json?address=Houston,%20TX&sensor=false\n",
      ".Information from URL : http://maps.googleapis.com/maps/api/geocode/json?address=All%20NFL%20cities&sensor=false\n",
      "Warning message:\n",
      "“geocode failed with status ZERO_RESULTS, location = \"All NFL cities\"”.Information from URL : http://maps.googleapis.com/maps/api/geocode/json?address=Reno,%20Nevada&sensor=false\n",
      ".Information from URL : http://maps.googleapis.com/maps/api/geocode/json?address=Bryan,%20Texas&sensor=false\n",
      "Information from URL : http://maps.googleapis.com/maps/api/geocode/json?address=Atlanta,%20GA&sensor=false\n",
      ".Information from URL : http://maps.googleapis.com/maps/api/geocode/json?address=Bolton,%20UK&sensor=false\n",
      ".Information from URL : http://maps.googleapis.com/maps/api/geocode/json?address=Mississippi%20%7C%20USA&sensor=false\n",
      ".Information from URL : http://maps.googleapis.com/maps/api/geocode/json?address=Los%20Angeles,%20CA&sensor=false\n",
      "Information from URL : http://maps.googleapis.com/maps/api/geocode/json?address=Mexico%20City&sensor=false\n",
      "Information from URL : http://maps.googleapis.com/maps/api/geocode/json?address=Los%20Angeles,%20CA%20%20%20%20%20&sensor=false\n",
      "Information from URL : http://maps.googleapis.com/maps/api/geocode/json?address=New%20York,%20USA&sensor=false\n",
      ".Information from URL : http://maps.googleapis.com/maps/api/geocode/json?address=Singapore&sensor=false\n",
      ".Information from URL : http://maps.googleapis.com/maps/api/geocode/json?address=Philadelphia,%20PA&sensor=false\n",
      ".Information from URL : http://maps.googleapis.com/maps/api/geocode/json?address=Winnipeg,%20Manitoba&sensor=false\n",
      ".Information from URL : http://maps.googleapis.com/maps/api/geocode/json?address=Jupiter,%20FL&sensor=false\n",
      "Information from URL : http://maps.googleapis.com/maps/api/geocode/json?address=France&sensor=false\n",
      ".Information from URL : http://maps.googleapis.com/maps/api/geocode/json?address=Paris,%20France&sensor=false\n",
      ".Information from URL : http://maps.googleapis.com/maps/api/geocode/json?address=Charlotte,%20NC&sensor=false\n",
      ".Information from URL : http://maps.googleapis.com/maps/api/geocode/json?address=Atlanta&sensor=false\n",
      ".Information from URL : http://maps.googleapis.com/maps/api/geocode/json?address=1%20Patriot%20Place%20Foxborough,%20MA&sensor=false\n",
      "Information from URL : http://maps.googleapis.com/maps/api/geocode/json?address=Brussels,%20Belgium&sensor=false\n",
      "Information from URL : http://maps.googleapis.com/maps/api/geocode/json?address=Port%20Elizabeth,%20South%20Africa&sensor=false\n",
      "Information from URL : http://maps.googleapis.com/maps/api/geocode/json?address=stockholm&sensor=false\n",
      "Information from URL : http://maps.googleapis.com/maps/api/geocode/json?address=Austin,%20TX&sensor=false\n",
      ".Information from URL : http://maps.googleapis.com/maps/api/geocode/json?address=Kentucky,%20USA&sensor=false\n",
      ".Information from URL : http://maps.googleapis.com/maps/api/geocode/json?address=London,%20UK&sensor=false\n",
      ".Information from URL : http://maps.googleapis.com/maps/api/geocode/json?address=Bengaluru,%20India&sensor=false\n",
      ".Information from URL : http://maps.googleapis.com/maps/api/geocode/json?address=Maine%20Augusta,%20Eldert%20St&sensor=false\n",
      "Warning message:\n",
      "“geocode failed with status ZERO_RESULTS, location = \"Maine Augusta, Eldert St\"”Information from URL : http://maps.googleapis.com/maps/api/geocode/json?address=Arkansas,%20USA&sensor=false\n",
      ".Information from URL : http://maps.googleapis.com/maps/api/geocode/json?address=europa&sensor=false\n",
      ".Information from URL : http://maps.googleapis.com/maps/api/geocode/json?address=Zombie%20Apocalypse,%20USA&sensor=false\n"
     ]
    }
   ],
   "source": [
    "#Obtaining the geocode for the locations.\n",
    "coord = data.frame(lon = numeric(),lat = numeric())\n",
    "for(i in location_list)\n",
    "    {\n",
    "    try({\n",
    "        code <- geocode(i, output = \"latlon\" , source = \"google\")\n",
    "        #print(code)\n",
    "        if(is.numeric(code$lon) & is.numeric(code$lat))\n",
    "            {\n",
    "            coord = rbind(coord,code)\n",
    "            #print(coord)\n",
    "        }\n",
    "    })\n",
    "}"
   ]
  },
  {
   "cell_type": "code",
   "execution_count": 115,
   "metadata": {
    "collapsed": false
   },
   "outputs": [
    {
     "data": {
      "text/html": [
       "338"
      ],
      "text/latex": [
       "338"
      ],
      "text/markdown": [
       "338"
      ],
      "text/plain": [
       "[1] 338"
      ]
     },
     "metadata": {},
     "output_type": "display_data"
    },
    {
     "data": {
      "text/html": [
       "233"
      ],
      "text/latex": [
       "233"
      ],
      "text/markdown": [
       "233"
      ],
      "text/plain": [
       "[1] 233"
      ]
     },
     "metadata": {},
     "output_type": "display_data"
    }
   ],
   "source": [
    "nrow(coord)\n",
    "#Getting unique locations\n",
    "unique_coord = unique(coord)\n",
    "nrow(unique_coord)"
   ]
  },
  {
   "cell_type": "code",
   "execution_count": 127,
   "metadata": {
    "collapsed": false
   },
   "outputs": [
    {
     "name": "stderr",
     "output_type": "stream",
     "text": [
      "Information from URL : http://maps.googleapis.com/maps/api/geocode/json?latlng=30.6743643,-96.3699632&sensor=false\n"
     ]
    }
   ],
   "source": [
    "#geo_info = revgeocode(c(unique_coord$lon[220], unique_coord$lat[220]), output = \"more\")"
   ]
  },
  {
   "cell_type": "code",
   "execution_count": 132,
   "metadata": {
    "collapsed": false
   },
   "outputs": [
    {
     "data": {
      "text/html": [
       "'character'"
      ],
      "text/latex": [
       "'character'"
      ],
      "text/markdown": [
       "'character'"
      ],
      "text/plain": [
       "[1] \"character\""
      ]
     },
     "metadata": {},
     "output_type": "display_data"
    }
   ],
   "source": [
    "#state_info = geo_info$administrative_area_level_1\n",
    "#state_info = as.character(state_info)\n",
    "#class(state_info)"
   ]
  },
  {
   "cell_type": "code",
   "execution_count": 79,
   "metadata": {
    "collapsed": false
   },
   "outputs": [
    {
     "name": "stderr",
     "output_type": "stream",
     "text": [
      "Information from URL : http://maps.googleapis.com/maps/api/geocode/json?latlng=31,-96&sensor=false\n"
     ]
    },
    {
     "data": {
      "text/html": [
       "<table>\n",
       "<thead><tr><th scope=col>address</th><th scope=col>route</th><th scope=col>locality</th><th scope=col>administrative_area_level_2</th><th scope=col>administrative_area_level_1</th><th scope=col>country</th><th scope=col>postal_code</th></tr></thead>\n",
       "<tbody>\n",
       "\t<tr><td>Honeysuckle Rd, Normangee, TX 77871, USA</td><td>Honeysuckle Road                        </td><td>Normangee                               </td><td>Madison County                          </td><td>Texas                                   </td><td>United States                           </td><td>77871                                   </td></tr>\n",
       "</tbody>\n",
       "</table>\n"
      ],
      "text/latex": [
       "\\begin{tabular}{r|lllllll}\n",
       " address & route & locality & administrative\\_area\\_level\\_2 & administrative\\_area\\_level\\_1 & country & postal\\_code\\\\\n",
       "\\hline\n",
       "\t Honeysuckle Rd, Normangee, TX 77871, USA & Honeysuckle Road                         & Normangee                                & Madison County                           & Texas                                    & United States                            & 77871                                   \\\\\n",
       "\\end{tabular}\n"
      ],
      "text/markdown": [
       "\n",
       "address | route | locality | administrative_area_level_2 | administrative_area_level_1 | country | postal_code | \n",
       "|---|\n",
       "| Honeysuckle Rd, Normangee, TX 77871, USA | Honeysuckle Road                         | Normangee                                | Madison County                           | Texas                                    | United States                            | 77871                                    | \n",
       "\n",
       "\n"
      ],
      "text/plain": [
       "  address                                  route            locality \n",
       "1 Honeysuckle Rd, Normangee, TX 77871, USA Honeysuckle Road Normangee\n",
       "  administrative_area_level_2 administrative_area_level_1 country      \n",
       "1 Madison County              Texas                       United States\n",
       "  postal_code\n",
       "1 77871      "
      ]
     },
     "metadata": {},
     "output_type": "display_data"
    }
   ],
   "source": [
    "#i=220\n",
    "#lat = unique_coord$lat[i]\n",
    "#lon = unique_coord$lon[i]\n",
    "#geo_info = revgeocode(c(lon,lat),output=\"more\")\n",
    "#geo_info"
   ]
  },
  {
   "cell_type": "code",
   "execution_count": 142,
   "metadata": {
    "collapsed": false,
    "scrolled": true
   },
   "outputs": [
    {
     "name": "stderr",
     "output_type": "stream",
     "text": [
      "Information from URL : http://maps.googleapis.com/maps/api/geocode/json?latlng=45.1,15.2&sensor=false\n",
      "Warning message in revgeocode(c(lon, lat), output = \"more\"):\n",
      "“reverse geocode failed - bad location? location = \"15.2551187\"reverse geocode failed - bad location? location = \"54.5259614\"”Information from URL : http://maps.googleapis.com/maps/api/geocode/json?latlng=48.1351253,11.5819806&sensor=false\n",
      "Information from URL : http://maps.googleapis.com/maps/api/geocode/json?latlng=43.8169837,-79.532157&sensor=false\n",
      "Information from URL : http://maps.googleapis.com/maps/api/geocode/json?latlng=46.227638,2.213749&sensor=false\n",
      "Information from URL : http://maps.googleapis.com/maps/api/geocode/json?latlng=56.4906712,-4.2026458&sensor=false\n",
      "Information from URL : http://maps.googleapis.com/maps/api/geocode/json?latlng=50.9911642,4.7037297&sensor=false\n",
      "Information from URL : http://maps.googleapis.com/maps/api/geocode/json?latlng=15.870032,100.992541&sensor=false\n",
      "Information from URL : http://maps.googleapis.com/maps/api/geocode/json?latlng=42.8666803,-88.3334274&sensor=false\n",
      "Information from URL : http://maps.googleapis.com/maps/api/geocode/json?latlng=52.3702157,4.8951679&sensor=false\n",
      ".Information from URL : http://maps.googleapis.com/maps/api/geocode/json?latlng=39.5008866,-89.7678746&sensor=false\n",
      ".Information from URL : http://maps.googleapis.com/maps/api/geocode/json?latlng=41.7435073,-88.0118473&sensor=false\n",
      ".Information from URL : http://maps.googleapis.com/maps/api/geocode/json?latlng=-38.416097,-63.616672&sensor=false\n",
      ".Information from URL : http://maps.googleapis.com/maps/api/geocode/json?latlng=1.352083,103.819836&sensor=false\n",
      ".Information from URL : http://maps.googleapis.com/maps/api/geocode/json?latlng=33.9850469,-118.4694832&sensor=false\n",
      ".Information from URL : http://maps.googleapis.com/maps/api/geocode/json?latlng=-23.5505199,-46.6333094&sensor=false\n",
      ".Information from URL : http://maps.googleapis.com/maps/api/geocode/json?latlng=27.4827729,-109.930367&sensor=false\n",
      "Information from URL : http://maps.googleapis.com/maps/api/geocode/json?latlng=53.4807593,-2.2426305&sensor=false\n",
      "Information from URL : http://maps.googleapis.com/maps/api/geocode/json?latlng=41.8781136,-87.6297982&sensor=false\n",
      "Information from URL : http://maps.googleapis.com/maps/api/geocode/json?latlng=29.7604267,-95.3698028&sensor=false\n",
      ".Information from URL : http://maps.googleapis.com/maps/api/geocode/json?latlng=56.130366,-106.346771&sensor=false\n",
      ".Information from URL : http://maps.googleapis.com/maps/api/geocode/json?latlng=34.0522342,-118.2436849&sensor=false\n",
      ".Information from URL : http://maps.googleapis.com/maps/api/geocode/json?latlng=40.7127837,-74.0059413&sensor=false\n",
      ".Information from URL : http://maps.googleapis.com/maps/api/geocode/json?latlng=42.4072107,-71.3824374&sensor=false\n",
      ".Information from URL : http://maps.googleapis.com/maps/api/geocode/json?latlng=27.271076,-82.499394&sensor=false\n",
      ".Information from URL : http://maps.googleapis.com/maps/api/geocode/json?latlng=36.1699412,-115.1398296&sensor=false\n",
      ".Information from URL : http://maps.googleapis.com/maps/api/geocode/json?latlng=46.2039988,6.1373136&sensor=false\n",
      ".Information from URL : http://maps.googleapis.com/maps/api/geocode/json?latlng=39.0997265,-94.5785667&sensor=false\n",
      "Information from URL : http://maps.googleapis.com/maps/api/geocode/json?latlng=51.5073509,-0.1277583&sensor=false\n",
      "Information from URL : http://maps.googleapis.com/maps/api/geocode/json?latlng=40.7282239,-73.7948516&sensor=false\n",
      ".Information from URL : http://maps.googleapis.com/maps/api/geocode/json?latlng=42.8105356,-83.0790865&sensor=false\n",
      ".Information from URL : http://maps.googleapis.com/maps/api/geocode/json?latlng=42.0653812,-71.2478251&sensor=false\n",
      ".Information from URL : http://maps.googleapis.com/maps/api/geocode/json?latlng=28.8354507,-82.3313955&sensor=false\n",
      ".Information from URL : http://maps.googleapis.com/maps/api/geocode/json?latlng=52.3555177,-1.1743197&sensor=false\n",
      ".Information from URL : http://maps.googleapis.com/maps/api/geocode/json?latlng=21.1398997,-86.8663978&sensor=false\n",
      ".Information from URL : http://maps.googleapis.com/maps/api/geocode/json?latlng=41.2967482,-76.3729962&sensor=false\n",
      ".Information from URL : http://maps.googleapis.com/maps/api/geocode/json?latlng=27.3364347,-82.5306527&sensor=false\n",
      ".Information from URL : http://maps.googleapis.com/maps/api/geocode/json?latlng=50.1109221,8.6821267&sensor=false\n",
      "Information from URL : http://maps.googleapis.com/maps/api/geocode/json?latlng=30.4879565,-89.704724&sensor=false\n",
      "Information from URL : http://maps.googleapis.com/maps/api/geocode/json?latlng=42.3250896,-72.6412013&sensor=false\n",
      ".Information from URL : http://maps.googleapis.com/maps/api/geocode/json?latlng=35.2827524,-120.6596156&sensor=false\n",
      ".Information from URL : http://maps.googleapis.com/maps/api/geocode/json?latlng=48.816363,2.317384&sensor=false\n",
      "Information from URL : http://maps.googleapis.com/maps/api/geocode/json?latlng=37.3382082,-121.8863286&sensor=false\n",
      ".Information from URL : http://maps.googleapis.com/maps/api/geocode/json?latlng=42.1968152,-107.0082437&sensor=false\n",
      ".Information from URL : http://maps.googleapis.com/maps/api/geocode/json?latlng=37.3890924,-5.9844589&sensor=false\n",
      ".Information from URL : http://maps.googleapis.com/maps/api/geocode/json?latlng=43.467517,-79.6876659&sensor=false\n",
      ".Information from URL : http://maps.googleapis.com/maps/api/geocode/json?latlng=28.3252878,-81.5331286&sensor=false\n",
      ".Information from URL : http://maps.googleapis.com/maps/api/geocode/json?latlng=38.9071923,-77.0368707&sensor=false\n",
      ".Information from URL : http://maps.googleapis.com/maps/api/geocode/json?latlng=38.7509488,-77.4752667&sensor=false\n",
      "Information from URL : http://maps.googleapis.com/maps/api/geocode/json?latlng=37.8271784,-122.2913078&sensor=false\n",
      ".Information from URL : http://maps.googleapis.com/maps/api/geocode/json?latlng=39.5480789,-104.9739333&sensor=false\n",
      ".Information from URL : http://maps.googleapis.com/maps/api/geocode/json?latlng=52.5200066,13.404954&sensor=false\n",
      ".Information from URL : http://maps.googleapis.com/maps/api/geocode/json?latlng=31.046051,34.851612&sensor=false\n",
      "Information from URL : http://maps.googleapis.com/maps/api/geocode/json?latlng=35.0116363,135.7680294&sensor=false\n",
      ".Information from URL : http://maps.googleapis.com/maps/api/geocode/json?latlng=38.2526647,-85.7584557&sensor=false\n",
      ".Information from URL : http://maps.googleapis.com/maps/api/geocode/json?latlng=53.293182,-3.72764&sensor=false\n",
      ".Information from URL : http://maps.googleapis.com/maps/api/geocode/json?latlng=40.2555809,-76.8770788&sensor=false\n",
      ".Information from URL : http://maps.googleapis.com/maps/api/geocode/json?latlng=-33.8688197,151.2092955&sensor=false\n",
      ".Information from URL : http://maps.googleapis.com/maps/api/geocode/json?latlng=40.7521501,-73.9788248&sensor=false\n",
      "Information from URL : http://maps.googleapis.com/maps/api/geocode/json?latlng=40.5142026,-88.9906312&sensor=false\n",
      ".Information from URL : http://maps.googleapis.com/maps/api/geocode/json?latlng=1.5532783,110.3592127&sensor=false\n",
      "Information from URL : http://maps.googleapis.com/maps/api/geocode/json?latlng=42.427081,-70.9837369&sensor=false\n",
      ".Information from URL : http://maps.googleapis.com/maps/api/geocode/json?latlng=32.7766642,-96.7969879&sensor=false\n",
      "Information from URL : http://maps.googleapis.com/maps/api/geocode/json?latlng=-8.0578381,-34.8828969&sensor=false\n",
      ".Information from URL : http://maps.googleapis.com/maps/api/geocode/json?latlng=-5.7792569,-35.200916&sensor=false\n",
      ".Information from URL : http://maps.googleapis.com/maps/api/geocode/json?latlng=40.8611755,-79.8953328&sensor=false\n",
      ".Information from URL : http://maps.googleapis.com/maps/api/geocode/json?latlng=25.7616798,-80.1917902&sensor=false\n",
      ".Information from URL : http://maps.googleapis.com/maps/api/geocode/json?latlng=34.1140497,-83.9811014&sensor=false\n",
      ".Information from URL : http://maps.googleapis.com/maps/api/geocode/json?latlng=16.8531086,-99.8236533&sensor=false\n",
      ".Information from URL : http://maps.googleapis.com/maps/api/geocode/json?latlng=51.253775,-85.3232139&sensor=false\n",
      ".Information from URL : http://maps.googleapis.com/maps/api/geocode/json?latlng=47.6062095,-122.3320708&sensor=false\n",
      "Information from URL : http://maps.googleapis.com/maps/api/geocode/json?latlng=32.715738,-117.1610838&sensor=false\n",
      ".Information from URL : http://maps.googleapis.com/maps/api/geocode/json?latlng=44.3148443,-85.6023643&sensor=false\n",
      "Information from URL : http://maps.googleapis.com/maps/api/geocode/json?latlng=40.935654,-74.186256&sensor=false\n",
      ".Information from URL : http://maps.googleapis.com/maps/api/geocode/json?latlng=42.3600825,-71.0588801&sensor=false\n",
      ".Information from URL : http://maps.googleapis.com/maps/api/geocode/json?latlng=39.975582,-111.7853935&sensor=false\n",
      ".Information from URL : http://maps.googleapis.com/maps/api/geocode/json?latlng=23.634501,-102.552784&sensor=false\n",
      ".Information from URL : http://maps.googleapis.com/maps/api/geocode/json?latlng=44.0520691,-123.0867536&sensor=false\n",
      ".Information from URL : http://maps.googleapis.com/maps/api/geocode/json?latlng=40.9882392,-109.7245814&sensor=false\n",
      ".Information from URL : http://maps.googleapis.com/maps/api/geocode/json?latlng=34.2257255,-77.9447102&sensor=false\n",
      ".Information from URL : http://maps.googleapis.com/maps/api/geocode/json?latlng=6.244203,-75.5812119&sensor=false\n",
      "Information from URL : http://maps.googleapis.com/maps/api/geocode/json?latlng=37.7749295,-122.4194155&sensor=false\n",
      ".Information from URL : http://maps.googleapis.com/maps/api/geocode/json?latlng=41.9403263,-85.0005215&sensor=false\n",
      "Information from URL : http://maps.googleapis.com/maps/api/geocode/json?latlng=41.8500302,-87.9645077&sensor=false\n",
      ".Information from URL : http://maps.googleapis.com/maps/api/geocode/json?latlng=33.7993878,-84.3925743&sensor=false\n",
      ".Information from URL : http://maps.googleapis.com/maps/api/geocode/json?latlng=40.709893,-74.0079818&sensor=false\n",
      ".Information from URL : http://maps.googleapis.com/maps/api/geocode/json?latlng=37.09024,-95.712891&sensor=false\n",
      ".Information from URL : http://maps.googleapis.com/maps/api/geocode/json?latlng=38.944986,-77.063457&sensor=false\n",
      "Information from URL : http://maps.googleapis.com/maps/api/geocode/json?latlng=40.7439905,-74.0323626&sensor=false\n",
      ".Information from URL : http://maps.googleapis.com/maps/api/geocode/json?latlng=-0.1806532,-78.4678382&sensor=false\n",
      ".Information from URL : http://maps.googleapis.com/maps/api/geocode/json?latlng=40.6282632,-74.1609115&sensor=false\n",
      ".Warning message in revgeocode(c(lon, lat), output = \"more\"):\n",
      "“reverse geocode failed - bad location? location = \"NA\"reverse geocode failed - bad location? location = \"NA\"”.Information from URL : http://maps.googleapis.com/maps/api/geocode/json?latlng=43.653226,-79.3831843&sensor=false\n",
      "Information from URL : http://maps.googleapis.com/maps/api/geocode/json?latlng=53.3498053,-6.2603097&sensor=false\n",
      ".Information from URL : http://maps.googleapis.com/maps/api/geocode/json?latlng=33.7489954,-84.3879824&sensor=false\n",
      ".Information from URL : http://maps.googleapis.com/maps/api/geocode/json?latlng=41.117744,-73.4081575&sensor=false\n",
      ".Information from URL : http://maps.googleapis.com/maps/api/geocode/json?latlng=43.0481221,-76.1474244&sensor=false\n",
      ".Information from URL : http://maps.googleapis.com/maps/api/geocode/json?latlng=37.7062014,-113.6564068&sensor=false\n",
      "Information from URL : http://maps.googleapis.com/maps/api/geocode/json?latlng=42.2775281,-71.3468091&sensor=false\n",
      ".Information from URL : http://maps.googleapis.com/maps/api/geocode/json?latlng=33.4437181,-81.9962195&sensor=false\n",
      ".Information from URL : http://maps.googleapis.com/maps/api/geocode/json?latlng=25.2854473,51.5310398&sensor=false\n",
      ".Information from URL : http://maps.googleapis.com/maps/api/geocode/json?latlng=21.1367171,-98.4122162&sensor=false\n",
      ".Information from URL : http://maps.googleapis.com/maps/api/geocode/json?latlng=34.1063989,-117.5931084&sensor=false\n",
      "Information from URL : http://maps.googleapis.com/maps/api/geocode/json?latlng=41.7594351,-72.6758269&sensor=false\n",
      ".Information from URL : http://maps.googleapis.com/maps/api/geocode/json?latlng=19.0759837,72.8776559&sensor=false\n",
      ".Information from URL : http://maps.googleapis.com/maps/api/geocode/json?latlng=40.7233421,-74.0054239&sensor=false\n",
      ".Information from URL : http://maps.googleapis.com/maps/api/geocode/json?latlng=19.4326077,-99.133208&sensor=false\n",
      ".Information from URL : http://maps.googleapis.com/maps/api/geocode/json?latlng=53.6496166,-1.3327497&sensor=false\n",
      "Information from URL : http://maps.googleapis.com/maps/api/geocode/json?latlng=40.4167754,-3.7037902&sensor=false\n",
      ".Information from URL : http://maps.googleapis.com/maps/api/geocode/json?latlng=40.0583238,-74.4056612&sensor=false\n",
      ".Information from URL : http://maps.googleapis.com/maps/api/geocode/json?latlng=43.683715,-80.4305427&sensor=false\n",
      ".Information from URL : http://maps.googleapis.com/maps/api/geocode/json?latlng=55.740969,37.5741151&sensor=false\n",
      ".Information from URL : http://maps.googleapis.com/maps/api/geocode/json?latlng=50.8267554,6.8987865&sensor=false\n",
      "Information from URL : http://maps.googleapis.com/maps/api/geocode/json?latlng=33.7205771,-116.2155619&sensor=false\n",
      "Information from URL : http://maps.googleapis.com/maps/api/geocode/json?latlng=53.8108176,-1.76261&sensor=false\n",
      ".Information from URL : http://maps.googleapis.com/maps/api/geocode/json?latlng=48.813055,2.38822&sensor=false\n",
      ".Information from URL : http://maps.googleapis.com/maps/api/geocode/json?latlng=53.7933565,-1.5598933&sensor=false\n",
      ".Information from URL : http://maps.googleapis.com/maps/api/geocode/json?latlng=-2.2179704,115.66283&sensor=false\n",
      "Information from URL : http://maps.googleapis.com/maps/api/geocode/json?latlng=41.3850639,2.1734035&sensor=false\n",
      "Information from URL : http://maps.googleapis.com/maps/api/geocode/json?latlng=53.683298,-1.505924&sensor=false\n",
      ".Information from URL : http://maps.googleapis.com/maps/api/geocode/json?latlng=52.240477,-0.902656&sensor=false\n",
      ".Information from URL : http://maps.googleapis.com/maps/api/geocode/json?latlng=38.3459963,-0.4906855&sensor=false\n",
      ".Information from URL : http://maps.googleapis.com/maps/api/geocode/json?latlng=41.6972996,-72.7228293&sensor=false\n",
      ".Information from URL : http://maps.googleapis.com/maps/api/geocode/json?latlng=39.913995,116.448608&sensor=false\n",
      "Information from URL : http://maps.googleapis.com/maps/api/geocode/json?latlng=51.454513,-2.58791&sensor=false\n",
      ".Information from URL : http://maps.googleapis.com/maps/api/geocode/json?latlng=39.7392358,-104.990251&sensor=false\n",
      ".Information from URL : http://maps.googleapis.com/maps/api/geocode/json?latlng=51.6499208,-0.1722758&sensor=false\n",
      ".Information from URL : http://maps.googleapis.com/maps/api/geocode/json?latlng=55.378051,-3.435973&sensor=false\n",
      "Information from URL : http://maps.googleapis.com/maps/api/geocode/json?latlng=28.6139391,77.2090212&sensor=false\n",
      "Information from URL : http://maps.googleapis.com/maps/api/geocode/json?latlng=38.8462236,-77.3063733&sensor=false\n",
      ".Information from URL : http://maps.googleapis.com/maps/api/geocode/json?latlng=41.885523,-87.636663&sensor=false\n",
      ".Information from URL : http://maps.googleapis.com/maps/api/geocode/json?latlng=42.3317642,-71.1211635&sensor=false\n",
      ".Information from URL : http://maps.googleapis.com/maps/api/geocode/json?latlng=50.5563349,6.2426261&sensor=false\n",
      ".Information from URL : http://maps.googleapis.com/maps/api/geocode/json?latlng=61.52401,105.318756&sensor=false\n",
      ".Information from URL : http://maps.googleapis.com/maps/api/geocode/json?latlng=47.0479934,-67.7399015&sensor=false\n",
      ".Information from URL : http://maps.googleapis.com/maps/api/geocode/json?latlng=41.1333371,-73.7924152&sensor=false\n",
      ".Information from URL : http://maps.googleapis.com/maps/api/geocode/json?latlng=16.7516009,-93.1029939&sensor=false\n",
      ".Information from URL : http://maps.googleapis.com/maps/api/geocode/json?latlng=41.155252,1.097093&sensor=false\n",
      "Information from URL : http://maps.googleapis.com/maps/api/geocode/json?latlng=40.463667,-3.74922&sensor=false\n",
      "Information from URL : http://maps.googleapis.com/maps/api/geocode/json?latlng=12.9715987,77.5945627&sensor=false\n",
      ".Information from URL : http://maps.googleapis.com/maps/api/geocode/json?latlng=44.494887,11.3426163&sensor=false\n",
      ".Information from URL : http://maps.googleapis.com/maps/api/geocode/json?latlng=23.022505,72.5713621&sensor=false\n",
      ".Information from URL : http://maps.googleapis.com/maps/api/geocode/json?latlng=27.6648274,-81.5157535&sensor=false\n",
      ".Information from URL : http://maps.googleapis.com/maps/api/geocode/json?latlng=52.205337,0.121817&sensor=false\n",
      ".Information from URL : http://maps.googleapis.com/maps/api/geocode/json?latlng=-25.274398,133.775136&sensor=false\n",
      ".Information from URL : http://maps.googleapis.com/maps/api/geocode/json?latlng=41.8844358,-72.7330526&sensor=false\n",
      ".Information from URL : http://maps.googleapis.com/maps/api/geocode/json?latlng=33.7589188,-84.3640829&sensor=false\n",
      ".Information from URL : http://maps.googleapis.com/maps/api/geocode/json?latlng=49.9873929,10.5881804&sensor=false\n",
      "Information from URL : http://maps.googleapis.com/maps/api/geocode/json?latlng=25.8782453,-100.0297353&sensor=false\n",
      "Information from URL : http://maps.googleapis.com/maps/api/geocode/json?latlng=-22.615852,-47.064002&sensor=false\n",
      ".Information from URL : http://maps.googleapis.com/maps/api/geocode/json?latlng=27.5163841,-81.4968335&sensor=false\n",
      "Information from URL : http://maps.googleapis.com/maps/api/geocode/json?latlng=34.774531,-96.6783449&sensor=false\n",
      ".Information from URL : http://maps.googleapis.com/maps/api/geocode/json?latlng=28.121617,-80.699186&sensor=false\n",
      ".Information from URL : http://maps.googleapis.com/maps/api/geocode/json?latlng=35.2625038,-77.5826165&sensor=false\n",
      "Information from URL : http://maps.googleapis.com/maps/api/geocode/json?latlng=30.267153,-97.7430608&sensor=false\n",
      ".Information from URL : http://maps.googleapis.com/maps/api/geocode/json?latlng=55.6760968,12.5683371&sensor=false\n",
      ".Information from URL : http://maps.googleapis.com/maps/api/geocode/json?latlng=42.245926,-71.9086843&sensor=false\n",
      ".Information from URL : http://maps.googleapis.com/maps/api/geocode/json?latlng=38.9277072,-94.5672342&sensor=false\n",
      ".Information from URL : http://maps.googleapis.com/maps/api/geocode/json?latlng=41.0082376,28.9783589&sensor=false\n",
      "Information from URL : http://maps.googleapis.com/maps/api/geocode/json?latlng=43.16103,-77.6109219&sensor=false\n",
      ".Information from URL : http://maps.googleapis.com/maps/api/geocode/json?latlng=40.5987733,-112.4259922&sensor=false\n",
      "Information from URL : http://maps.googleapis.com/maps/api/geocode/json?latlng=51.3396955,12.3730747&sensor=false\n",
      ".Information from URL : http://maps.googleapis.com/maps/api/geocode/json?latlng=13.794185,-88.89653&sensor=false\n",
      ".Information from URL : http://maps.googleapis.com/maps/api/geocode/json?latlng=30.1660736,-81.706484&sensor=false\n",
      ".Information from URL : http://maps.googleapis.com/maps/api/geocode/json?latlng=10.6544509,-71.7147951&sensor=false\n",
      ".Information from URL : http://maps.googleapis.com/maps/api/geocode/json?latlng=27.9067742,-82.691715&sensor=false\n",
      ".Information from URL : http://maps.googleapis.com/maps/api/geocode/json?latlng=33.836081,-81.1637245&sensor=false\n",
      ".Information from URL : http://maps.googleapis.com/maps/api/geocode/json?latlng=32.1656221,-82.9000751&sensor=false\n",
      ".Information from URL : http://maps.googleapis.com/maps/api/geocode/json?latlng=43.9653889,-70.8226541&sensor=false\n",
      "Information from URL : http://maps.googleapis.com/maps/api/geocode/json?latlng=40.724545,-73.997005&sensor=false\n",
      ".Information from URL : http://maps.googleapis.com/maps/api/geocode/json?latlng=19.5437751,-96.9101806&sensor=false\n",
      "Information from URL : http://maps.googleapis.com/maps/api/geocode/json?latlng=19.1138094,-104.3384616&sensor=false\n",
      ".Information from URL : http://maps.googleapis.com/maps/api/geocode/json?latlng=41.878711,-71.3825558&sensor=false\n",
      ".Information from URL : http://maps.googleapis.com/maps/api/geocode/json?latlng=51.0486151,-114.0708459&sensor=false\n",
      ".Information from URL : http://maps.googleapis.com/maps/api/geocode/json?latlng=43.5890452,-79.6441198&sensor=false\n",
      ".Information from URL : http://maps.googleapis.com/maps/api/geocode/json?latlng=42.2625932,-71.8022934&sensor=false\n",
      ".Information from URL : http://maps.googleapis.com/maps/api/geocode/json?latlng=39.9525839,-75.1652215&sensor=false\n",
      ".Information from URL : http://maps.googleapis.com/maps/api/geocode/json?latlng=43.1938516,-71.5723953&sensor=false\n",
      ".Information from URL : http://maps.googleapis.com/maps/api/geocode/json?latlng=40.8002976,-73.9428147&sensor=false\n",
      "Information from URL : http://maps.googleapis.com/maps/api/geocode/json?latlng=40.789142,-73.134961&sensor=false\n",
      ".Information from URL : http://maps.googleapis.com/maps/api/geocode/json?latlng=51.5105008,-0.1301018&sensor=false\n",
      "Information from URL : http://maps.googleapis.com/maps/api/geocode/json?latlng=45.4654219,9.1859243&sensor=false\n",
      ".Information from URL : http://maps.googleapis.com/maps/api/geocode/json?latlng=42.3195556,-71.6411997&sensor=false\n",
      ".Information from URL : http://maps.googleapis.com/maps/api/geocode/json?latlng=40.4172871,-82.907123&sensor=false\n",
      ".Information from URL : http://maps.googleapis.com/maps/api/geocode/json?latlng=-22.9068467,-43.1728965&sensor=false\n",
      ".Information from URL : http://maps.googleapis.com/maps/api/geocode/json?latlng=25.2048493,55.2707828&sensor=false\n",
      ".Information from URL : http://maps.googleapis.com/maps/api/geocode/json?latlng=4.7109886,-74.072092&sensor=false\n",
      ".Information from URL : http://maps.googleapis.com/maps/api/geocode/json?latlng=45.5016889,-73.567256&sensor=false\n",
      ".Information from URL : http://maps.googleapis.com/maps/api/geocode/json?latlng=41.8877194,-88.3081499&sensor=false\n",
      "Information from URL : http://maps.googleapis.com/maps/api/geocode/json?latlng=26.4868772,-81.7880435&sensor=false\n",
      ".Information from URL : http://maps.googleapis.com/maps/api/geocode/json?latlng=40.7830603,-73.9712488&sensor=false\n",
      ".Information from URL : http://maps.googleapis.com/maps/api/geocode/json?latlng=34.1346157,-77.8816518&sensor=false\n",
      ".Information from URL : http://maps.googleapis.com/maps/api/geocode/json?latlng=17.0542297,-96.7132304&sensor=false\n",
      ".Information from URL : http://maps.googleapis.com/maps/api/geocode/json?latlng=-23.2987827,-45.9662542&sensor=false\n",
      ".Information from URL : http://maps.googleapis.com/maps/api/geocode/json?latlng=32.660042,-16.924671&sensor=false\n",
      "Information from URL : http://maps.googleapis.com/maps/api/geocode/json?latlng=42.452303,-71.1369959&sensor=false\n",
      ".Information from URL : http://maps.googleapis.com/maps/api/geocode/json?latlng=42.8651298,-71.3739272&sensor=false\n",
      ".Information from URL : http://maps.googleapis.com/maps/api/geocode/json?latlng=45.253783,-69.4454689&sensor=false\n",
      ".Information from URL : http://maps.googleapis.com/maps/api/geocode/json?latlng=42.0909458,-71.2643465&sensor=false\n",
      "Information from URL : http://maps.googleapis.com/maps/api/geocode/json?latlng=40.2683828,-76.0046753&sensor=false\n",
      ".Information from URL : http://maps.googleapis.com/maps/api/geocode/json?latlng=48.856614,2.3522219&sensor=false\n",
      ".Information from URL : http://maps.googleapis.com/maps/api/geocode/json?latlng=-27.4697707,153.0251235&sensor=false\n",
      ".Information from URL : http://maps.googleapis.com/maps/api/geocode/json?latlng=25.6866142,-100.3161126&sensor=false\n",
      ".Information from URL : http://maps.googleapis.com/maps/api/geocode/json?latlng=-3.7318616,-38.5266704&sensor=false\n",
      ".Information from URL : http://maps.googleapis.com/maps/api/geocode/json?latlng=-8.2849639,-35.9701874&sensor=false\n",
      "Information from URL : http://maps.googleapis.com/maps/api/geocode/json?latlng=-14.235004,-51.92528&sensor=false\n",
      ".Information from URL : http://maps.googleapis.com/maps/api/geocode/json?latlng=31.8667427,-116.5963713&sensor=false\n",
      ".Information from URL : http://maps.googleapis.com/maps/api/geocode/json?latlng=32.7554883,-97.3307658&sensor=false\n",
      ".Information from URL : http://maps.googleapis.com/maps/api/geocode/json?latlng=-8.8137173,-36.954107&sensor=false\n",
      "Information from URL : http://maps.googleapis.com/maps/api/geocode/json?latlng=39.1156615,-77.5636015&sensor=false\n",
      ".Information from URL : http://maps.googleapis.com/maps/api/geocode/json?latlng=-12.9730401,-38.502304&sensor=false\n",
      ".Information from URL : http://maps.googleapis.com/maps/api/geocode/json?latlng=-19.9161508,-44.0808763&sensor=false\n",
      ".Information from URL : http://maps.googleapis.com/maps/api/geocode/json?latlng=-23.9678823,-46.3288865&sensor=false\n",
      ".Information from URL : http://maps.googleapis.com/maps/api/geocode/json?latlng=38.750967,-9.227213&sensor=false\n",
      ".Information from URL : http://maps.googleapis.com/maps/api/geocode/json?latlng=42.2808256,-83.7430378&sensor=false\n",
      "Information from URL : http://maps.googleapis.com/maps/api/geocode/json?latlng=33.4734978,-82.0105148&sensor=false\n",
      ".Information from URL : http://maps.googleapis.com/maps/api/geocode/json?latlng=34.1569105,-92.3570871&sensor=false\n",
      ".Information from URL : http://maps.googleapis.com/maps/api/geocode/json?latlng=20.6596988,-103.3496092&sensor=false\n",
      ".Information from URL : http://maps.googleapis.com/maps/api/geocode/json?latlng=39.5296329,-119.8138027&sensor=false\n",
      "Information from URL : http://maps.googleapis.com/maps/api/geocode/json?latlng=30.6743643,-96.3699632&sensor=false\n",
      ".Information from URL : http://maps.googleapis.com/maps/api/geocode/json?latlng=53.5768647,-2.4282192&sensor=false\n",
      "Information from URL : http://maps.googleapis.com/maps/api/geocode/json?latlng=32.3546679,-89.3985283&sensor=false\n",
      ".Information from URL : http://maps.googleapis.com/maps/api/geocode/json?latlng=49.895136,-97.1383744&sensor=false\n",
      ".Information from URL : http://maps.googleapis.com/maps/api/geocode/json?latlng=26.9342246,-80.0942087&sensor=false\n",
      ".Information from URL : http://maps.googleapis.com/maps/api/geocode/json?latlng=35.2270869,-80.8431267&sensor=false\n",
      ".Information from URL : http://maps.googleapis.com/maps/api/geocode/json?latlng=42.0925375,-71.264125&sensor=false\n",
      ".Information from URL : http://maps.googleapis.com/maps/api/geocode/json?latlng=50.8503396,4.3517103&sensor=false\n",
      ".Information from URL : http://maps.googleapis.com/maps/api/geocode/json?latlng=-33.7139247,25.5207358&sensor=false\n",
      "Information from URL : http://maps.googleapis.com/maps/api/geocode/json?latlng=59.3293235,18.0685808&sensor=false\n",
      ".Information from URL : http://maps.googleapis.com/maps/api/geocode/json?latlng=37.8393332,-84.2700179&sensor=false\n",
      ".Information from URL : http://maps.googleapis.com/maps/api/geocode/json?latlng=35.20105,-91.8318334&sensor=false\n",
      "Information from URL : http://maps.googleapis.com/maps/api/geocode/json?latlng=40.7567217,-73.9867329&sensor=false\n",
      ".Information from URL : http://maps.googleapis.com/maps/api/geocode/json?latlng=35.952828,-115.1760676&sensor=false\n"
     ]
    },
    {
     "name": "stdout",
     "output_type": "stream",
     "text": [
      "[[1]]\n",
      "[1] \"Wisconsin\"\n",
      "\n",
      "[[2]]\n",
      "[1] \"Illinois\"\n",
      "\n",
      "[[3]]\n",
      "[1] \"Illinois\"\n",
      "\n",
      "[[4]]\n",
      "[1] \"California\"\n",
      "\n",
      "[[5]]\n",
      "[1] \"Illinois\"\n",
      "\n",
      "[[6]]\n",
      "[1] \"Texas\"\n",
      "\n",
      "[[7]]\n",
      "[1] \"California\"\n",
      "\n",
      "[[8]]\n",
      "[1] \"New York\"\n",
      "\n",
      "[[9]]\n",
      "[1] \"Massachusetts\"\n",
      "\n",
      "[[10]]\n",
      "[1] \"Florida\"\n",
      "\n",
      "[[11]]\n",
      "[1] \"Nevada\"\n",
      "\n",
      "[[12]]\n",
      "[1] \"Missouri\"\n",
      "\n",
      "[[13]]\n",
      "[1] \"New York\"\n",
      "\n",
      "[[14]]\n",
      "[1] \"Michigan\"\n",
      "\n",
      "[[15]]\n",
      "[1] \"Massachusetts\"\n",
      "\n",
      "[[16]]\n",
      "[1] \"Florida\"\n",
      "\n",
      "[[17]]\n",
      "[1] \"Pennsylvania\"\n",
      "\n",
      "[[18]]\n",
      "[1] \"Florida\"\n",
      "\n",
      "[[19]]\n",
      "[1] \"Mississippi\"\n",
      "\n",
      "[[20]]\n",
      "[1] \"Massachusetts\"\n",
      "\n",
      "[[21]]\n",
      "[1] \"California\"\n",
      "\n",
      "[[22]]\n",
      "[1] \"California\"\n",
      "\n",
      "[[23]]\n",
      "[1] \"Wyoming\"\n",
      "\n",
      "[[24]]\n",
      "[1] \"Florida\"\n",
      "\n",
      "[[25]]\n",
      "[1] \"District of Columbia\"\n",
      "\n",
      "[[26]]\n",
      "[1] \"Virginia\"\n",
      "\n",
      "[[27]]\n",
      "[1] \"California\"\n",
      "\n",
      "[[28]]\n",
      "[1] \"Colorado\"\n",
      "\n",
      "[[29]]\n",
      "[1] \"Kentucky\"\n",
      "\n",
      "[[30]]\n",
      "[1] \"Pennsylvania\"\n",
      "\n",
      "[[31]]\n",
      "[1] \"New York\"\n",
      "\n",
      "[[32]]\n",
      "[1] \"Illinois\"\n",
      "\n",
      "[[33]]\n",
      "[1] \"Massachusetts\"\n",
      "\n",
      "[[34]]\n",
      "[1] \"Texas\"\n",
      "\n",
      "[[35]]\n",
      "[1] \"Pennsylvania\"\n",
      "\n",
      "[[36]]\n",
      "[1] \"Florida\"\n",
      "\n",
      "[[37]]\n",
      "[1] \"Georgia\"\n",
      "\n",
      "[[38]]\n",
      "[1] \"Washington\"\n",
      "\n",
      "[[39]]\n",
      "[1] \"California\"\n",
      "\n",
      "[[40]]\n",
      "[1] \"Michigan\"\n",
      "\n",
      "[[41]]\n",
      "[1] \"New Jersey\"\n",
      "\n",
      "[[42]]\n",
      "[1] \"Massachusetts\"\n",
      "\n",
      "[[43]]\n",
      "[1] \"Utah\"\n",
      "\n",
      "[[44]]\n",
      "[1] \"Oregon\"\n",
      "\n",
      "[[45]]\n",
      "[1] \"Utah\"\n",
      "\n",
      "[[46]]\n",
      "[1] \"North Carolina\"\n",
      "\n",
      "[[47]]\n",
      "[1] \"California\"\n",
      "\n",
      "[[48]]\n",
      "[1] \"Michigan\"\n",
      "\n",
      "[[49]]\n",
      "[1] \"Illinois\"\n",
      "\n",
      "[[50]]\n",
      "[1] \"Georgia\"\n",
      "\n",
      "[[51]]\n",
      "[1] \"New York\"\n",
      "\n",
      "[[52]]\n",
      "[1] \"Kansas\"\n",
      "\n",
      "[[53]]\n",
      "[1] \"District of Columbia\"\n",
      "\n",
      "[[54]]\n",
      "[1] \"New Jersey\"\n",
      "\n",
      "[[55]]\n",
      "[1] \"New York\"\n",
      "\n",
      "[[56]]\n",
      "[1] \"Georgia\"\n",
      "\n",
      "[[57]]\n",
      "[1] \"Connecticut\"\n",
      "\n",
      "[[58]]\n",
      "[1] \"New York\"\n",
      "\n",
      "[[59]]\n",
      "[1] \"Utah\"\n",
      "\n",
      "[[60]]\n",
      "[1] \"Massachusetts\"\n",
      "\n",
      "[[61]]\n",
      "[1] \"Georgia\"\n",
      "\n",
      "[[62]]\n",
      "[1] \"California\"\n",
      "\n",
      "[[63]]\n",
      "[1] \"Connecticut\"\n",
      "\n",
      "[[64]]\n",
      "[1] \"New York\"\n",
      "\n",
      "[[65]]\n",
      "[1] \"New Jersey\"\n",
      "\n",
      "[[66]]\n",
      "[1] \"California\"\n",
      "\n",
      "[[67]]\n",
      "[1] \"Connecticut\"\n",
      "\n",
      "[[68]]\n",
      "[1] \"Colorado\"\n",
      "\n",
      "[[69]]\n",
      "[1] \"Virginia\"\n",
      "\n",
      "[[70]]\n",
      "[1] \"Illinois\"\n",
      "\n",
      "[[71]]\n",
      "[1] \"Massachusetts\"\n",
      "\n",
      "[[72]]\n",
      "[1] \"New York\"\n",
      "\n",
      "[[73]]\n",
      "[1] \"Florida\"\n",
      "\n",
      "[[74]]\n",
      "[1] \"Connecticut\"\n",
      "\n",
      "[[75]]\n",
      "[1] \"Georgia\"\n",
      "\n",
      "[[76]]\n",
      "[1] \"Florida\"\n",
      "\n",
      "[[77]]\n",
      "[1] \"Oklahoma\"\n",
      "\n",
      "[[78]]\n",
      "[1] \"Florida\"\n",
      "\n",
      "[[79]]\n",
      "[1] \"North Carolina\"\n",
      "\n",
      "[[80]]\n",
      "[1] \"Texas\"\n",
      "\n",
      "[[81]]\n",
      "[1] \"Massachusetts\"\n",
      "\n",
      "[[82]]\n",
      "[1] \"Missouri\"\n",
      "\n",
      "[[83]]\n",
      "[1] \"New York\"\n",
      "\n",
      "[[84]]\n",
      "[1] \"Utah\"\n",
      "\n",
      "[[85]]\n",
      "[1] \"Florida\"\n",
      "\n",
      "[[86]]\n",
      "[1] \"Florida\"\n",
      "\n",
      "[[87]]\n",
      "[1] \"South Carolina\"\n",
      "\n",
      "[[88]]\n",
      "[1] \"Georgia\"\n",
      "\n",
      "[[89]]\n",
      "[1] \"Maine\"\n",
      "\n",
      "[[90]]\n",
      "[1] \"New York\"\n",
      "\n",
      "[[91]]\n",
      "[1] \"Rhode Island\"\n",
      "\n",
      "[[92]]\n",
      "[1] \"Massachusetts\"\n",
      "\n",
      "[[93]]\n",
      "[1] \"Pennsylvania\"\n",
      "\n",
      "[[94]]\n",
      "[1] \"New Hampshire\"\n",
      "\n",
      "[[95]]\n",
      "[1] \"New York\"\n",
      "\n",
      "[[96]]\n",
      "[1] \"New York\"\n",
      "\n",
      "[[97]]\n",
      "[1] \"Massachusetts\"\n",
      "\n",
      "[[98]]\n",
      "[1] \"Ohio\"\n",
      "\n",
      "[[99]]\n",
      "[1] \"Illinois\"\n",
      "\n",
      "[[100]]\n",
      "[1] \"Florida\"\n",
      "\n",
      "[[101]]\n",
      "[1] \"New York\"\n",
      "\n",
      "[[102]]\n",
      "[1] \"North Carolina\"\n",
      "\n",
      "[[103]]\n",
      "[1] \"Massachusetts\"\n",
      "\n",
      "[[104]]\n",
      "[1] \"New Hampshire\"\n",
      "\n",
      "[[105]]\n",
      "[1] \"Maine\"\n",
      "\n",
      "[[106]]\n",
      "[1] \"Massachusetts\"\n",
      "\n",
      "[[107]]\n",
      "[1] \"Pennsylvania\"\n",
      "\n",
      "[[108]]\n",
      "[1] \"Texas\"\n",
      "\n",
      "[[109]]\n",
      "[1] \"Virginia\"\n",
      "\n",
      "[[110]]\n",
      "[1] \"Michigan\"\n",
      "\n",
      "[[111]]\n",
      "[1] \"Georgia\"\n",
      "\n",
      "[[112]]\n",
      "[1] \"Arkansas\"\n",
      "\n",
      "[[113]]\n",
      "[1] \"Nevada\"\n",
      "\n",
      "[[114]]\n",
      "[1] \"Texas\"\n",
      "\n",
      "[[115]]\n",
      "[1] \"Mississippi\"\n",
      "\n",
      "[[116]]\n",
      "[1] \"Florida\"\n",
      "\n",
      "[[117]]\n",
      "[1] \"North Carolina\"\n",
      "\n",
      "[[118]]\n",
      "[1] \"Massachusetts\"\n",
      "\n",
      "[[119]]\n",
      "[1] \"Kentucky\"\n",
      "\n",
      "[[120]]\n",
      "[1] \"Arkansas\"\n",
      "\n",
      "[[121]]\n",
      "[1] \"New York\"\n",
      "\n",
      "[[122]]\n",
      "[1] \"Nevada\"\n",
      "\n"
     ]
    },
    {
     "data": {
      "text/html": [
       "122"
      ],
      "text/latex": [
       "122"
      ],
      "text/markdown": [
       "122"
      ],
      "text/plain": [
       "[1] 122"
      ]
     },
     "metadata": {},
     "output_type": "display_data"
    }
   ],
   "source": [
    "#Determining the states of the locations and filtering out locations only in the USA.\n",
    "\n",
    "m=1\n",
    "states = list()\n",
    "for(i in (1:nrow(unique_coord)))\n",
    "    {\n",
    "        lat = unique_coord$lat[i]\n",
    "        lon = unique_coord$lon[i]\n",
    "        try(\n",
    "            {\n",
    "                geo_info = revgeocode(c(lon,lat),output=\"more\")\n",
    "                if(geo_info$country == \"United States\" | geo_info$country == \"US\")\n",
    "                {\n",
    "                    loc = geo_info$administrative_area_level_1\n",
    "                    loc = as.character(loc)\n",
    "                    states[m] = loc\n",
    "                    m = m+1\n",
    "            }\n",
    "        })\n",
    "}\n",
    "\n",
    "#Storing the states in a dataframe\n",
    "states.df <- data.frame(matrix(unlist(states), nrow=m-1, byrow=T))"
   ]
  },
  {
   "cell_type": "code",
   "execution_count": 144,
   "metadata": {
    "collapsed": false
   },
   "outputs": [
    {
     "data": {
      "text/html": [
       "<table>\n",
       "<thead><tr><th scope=col>States</th></tr></thead>\n",
       "<tbody>\n",
       "\t<tr><td>Wisconsin           </td></tr>\n",
       "\t<tr><td>Illinois            </td></tr>\n",
       "\t<tr><td>Illinois            </td></tr>\n",
       "\t<tr><td>California          </td></tr>\n",
       "\t<tr><td>Illinois            </td></tr>\n",
       "\t<tr><td>Texas               </td></tr>\n",
       "\t<tr><td>California          </td></tr>\n",
       "\t<tr><td>New York            </td></tr>\n",
       "\t<tr><td>Massachusetts       </td></tr>\n",
       "\t<tr><td>Florida             </td></tr>\n",
       "\t<tr><td>Nevada              </td></tr>\n",
       "\t<tr><td>Missouri            </td></tr>\n",
       "\t<tr><td>New York            </td></tr>\n",
       "\t<tr><td>Michigan            </td></tr>\n",
       "\t<tr><td>Massachusetts       </td></tr>\n",
       "\t<tr><td>Florida             </td></tr>\n",
       "\t<tr><td>Pennsylvania        </td></tr>\n",
       "\t<tr><td>Florida             </td></tr>\n",
       "\t<tr><td>Mississippi         </td></tr>\n",
       "\t<tr><td>Massachusetts       </td></tr>\n",
       "\t<tr><td>California          </td></tr>\n",
       "\t<tr><td>California          </td></tr>\n",
       "\t<tr><td>Wyoming             </td></tr>\n",
       "\t<tr><td>Florida             </td></tr>\n",
       "\t<tr><td>District of Columbia</td></tr>\n",
       "\t<tr><td>Virginia            </td></tr>\n",
       "\t<tr><td>California          </td></tr>\n",
       "\t<tr><td>Colorado            </td></tr>\n",
       "\t<tr><td>Kentucky            </td></tr>\n",
       "\t<tr><td>Pennsylvania        </td></tr>\n",
       "\t<tr><td>⋮</td></tr>\n",
       "\t<tr><td>Pennsylvania  </td></tr>\n",
       "\t<tr><td>New Hampshire </td></tr>\n",
       "\t<tr><td>New York      </td></tr>\n",
       "\t<tr><td>New York      </td></tr>\n",
       "\t<tr><td>Massachusetts </td></tr>\n",
       "\t<tr><td>Ohio          </td></tr>\n",
       "\t<tr><td>Illinois      </td></tr>\n",
       "\t<tr><td>Florida       </td></tr>\n",
       "\t<tr><td>New York      </td></tr>\n",
       "\t<tr><td>North Carolina</td></tr>\n",
       "\t<tr><td>Massachusetts </td></tr>\n",
       "\t<tr><td>New Hampshire </td></tr>\n",
       "\t<tr><td>Maine         </td></tr>\n",
       "\t<tr><td>Massachusetts </td></tr>\n",
       "\t<tr><td>Pennsylvania  </td></tr>\n",
       "\t<tr><td>Texas         </td></tr>\n",
       "\t<tr><td>Virginia      </td></tr>\n",
       "\t<tr><td>Michigan      </td></tr>\n",
       "\t<tr><td>Georgia       </td></tr>\n",
       "\t<tr><td>Arkansas      </td></tr>\n",
       "\t<tr><td>Nevada        </td></tr>\n",
       "\t<tr><td>Texas         </td></tr>\n",
       "\t<tr><td>Mississippi   </td></tr>\n",
       "\t<tr><td>Florida       </td></tr>\n",
       "\t<tr><td>North Carolina</td></tr>\n",
       "\t<tr><td>Massachusetts </td></tr>\n",
       "\t<tr><td>Kentucky      </td></tr>\n",
       "\t<tr><td>Arkansas      </td></tr>\n",
       "\t<tr><td>New York      </td></tr>\n",
       "\t<tr><td>Nevada        </td></tr>\n",
       "</tbody>\n",
       "</table>\n"
      ],
      "text/latex": [
       "\\begin{tabular}{r|l}\n",
       " States\\\\\n",
       "\\hline\n",
       "\t Wisconsin           \\\\\n",
       "\t Illinois            \\\\\n",
       "\t Illinois            \\\\\n",
       "\t California          \\\\\n",
       "\t Illinois            \\\\\n",
       "\t Texas               \\\\\n",
       "\t California          \\\\\n",
       "\t New York            \\\\\n",
       "\t Massachusetts       \\\\\n",
       "\t Florida             \\\\\n",
       "\t Nevada              \\\\\n",
       "\t Missouri            \\\\\n",
       "\t New York            \\\\\n",
       "\t Michigan            \\\\\n",
       "\t Massachusetts       \\\\\n",
       "\t Florida             \\\\\n",
       "\t Pennsylvania        \\\\\n",
       "\t Florida             \\\\\n",
       "\t Mississippi         \\\\\n",
       "\t Massachusetts       \\\\\n",
       "\t California          \\\\\n",
       "\t California          \\\\\n",
       "\t Wyoming             \\\\\n",
       "\t Florida             \\\\\n",
       "\t District of Columbia\\\\\n",
       "\t Virginia            \\\\\n",
       "\t California          \\\\\n",
       "\t Colorado            \\\\\n",
       "\t Kentucky            \\\\\n",
       "\t Pennsylvania        \\\\\n",
       "\t ⋮\\\\\n",
       "\t Pennsylvania  \\\\\n",
       "\t New Hampshire \\\\\n",
       "\t New York      \\\\\n",
       "\t New York      \\\\\n",
       "\t Massachusetts \\\\\n",
       "\t Ohio          \\\\\n",
       "\t Illinois      \\\\\n",
       "\t Florida       \\\\\n",
       "\t New York      \\\\\n",
       "\t North Carolina\\\\\n",
       "\t Massachusetts \\\\\n",
       "\t New Hampshire \\\\\n",
       "\t Maine         \\\\\n",
       "\t Massachusetts \\\\\n",
       "\t Pennsylvania  \\\\\n",
       "\t Texas         \\\\\n",
       "\t Virginia      \\\\\n",
       "\t Michigan      \\\\\n",
       "\t Georgia       \\\\\n",
       "\t Arkansas      \\\\\n",
       "\t Nevada        \\\\\n",
       "\t Texas         \\\\\n",
       "\t Mississippi   \\\\\n",
       "\t Florida       \\\\\n",
       "\t North Carolina\\\\\n",
       "\t Massachusetts \\\\\n",
       "\t Kentucky      \\\\\n",
       "\t Arkansas      \\\\\n",
       "\t New York      \\\\\n",
       "\t Nevada        \\\\\n",
       "\\end{tabular}\n"
      ],
      "text/markdown": [
       "\n",
       "States | \n",
       "|---|---|---|---|---|---|---|---|---|---|---|---|---|---|---|---|---|---|---|---|---|---|---|---|---|---|---|---|---|---|---|---|---|---|---|---|---|---|---|---|---|---|---|---|---|---|---|---|---|---|---|---|---|---|---|---|---|---|---|---|---|\n",
       "| Wisconsin            | \n",
       "| Illinois             | \n",
       "| Illinois             | \n",
       "| California           | \n",
       "| Illinois             | \n",
       "| Texas                | \n",
       "| California           | \n",
       "| New York             | \n",
       "| Massachusetts        | \n",
       "| Florida              | \n",
       "| Nevada               | \n",
       "| Missouri             | \n",
       "| New York             | \n",
       "| Michigan             | \n",
       "| Massachusetts        | \n",
       "| Florida              | \n",
       "| Pennsylvania         | \n",
       "| Florida              | \n",
       "| Mississippi          | \n",
       "| Massachusetts        | \n",
       "| California           | \n",
       "| California           | \n",
       "| Wyoming              | \n",
       "| Florida              | \n",
       "| District of Columbia | \n",
       "| Virginia             | \n",
       "| California           | \n",
       "| Colorado             | \n",
       "| Kentucky             | \n",
       "| Pennsylvania         | \n",
       "| ⋮ | \n",
       "| Pennsylvania   | \n",
       "| New Hampshire  | \n",
       "| New York       | \n",
       "| New York       | \n",
       "| Massachusetts  | \n",
       "| Ohio           | \n",
       "| Illinois       | \n",
       "| Florida        | \n",
       "| New York       | \n",
       "| North Carolina | \n",
       "| Massachusetts  | \n",
       "| New Hampshire  | \n",
       "| Maine          | \n",
       "| Massachusetts  | \n",
       "| Pennsylvania   | \n",
       "| Texas          | \n",
       "| Virginia       | \n",
       "| Michigan       | \n",
       "| Georgia        | \n",
       "| Arkansas       | \n",
       "| Nevada         | \n",
       "| Texas          | \n",
       "| Mississippi    | \n",
       "| Florida        | \n",
       "| North Carolina | \n",
       "| Massachusetts  | \n",
       "| Kentucky       | \n",
       "| Arkansas       | \n",
       "| New York       | \n",
       "| Nevada         | \n",
       "\n",
       "\n"
      ],
      "text/plain": [
       "    States              \n",
       "1   Wisconsin           \n",
       "2   Illinois            \n",
       "3   Illinois            \n",
       "4   California          \n",
       "5   Illinois            \n",
       "6   Texas               \n",
       "7   California          \n",
       "8   New York            \n",
       "9   Massachusetts       \n",
       "10  Florida             \n",
       "11  Nevada              \n",
       "12  Missouri            \n",
       "13  New York            \n",
       "14  Michigan            \n",
       "15  Massachusetts       \n",
       "16  Florida             \n",
       "17  Pennsylvania        \n",
       "18  Florida             \n",
       "19  Mississippi         \n",
       "20  Massachusetts       \n",
       "21  California          \n",
       "22  California          \n",
       "23  Wyoming             \n",
       "24  Florida             \n",
       "25  District of Columbia\n",
       "26  Virginia            \n",
       "27  California          \n",
       "28  Colorado            \n",
       "29  Kentucky            \n",
       "30  Pennsylvania        \n",
       "⋮   ⋮                   \n",
       "93  Pennsylvania        \n",
       "94  New Hampshire       \n",
       "95  New York            \n",
       "96  New York            \n",
       "97  Massachusetts       \n",
       "98  Ohio                \n",
       "99  Illinois            \n",
       "100 Florida             \n",
       "101 New York            \n",
       "102 North Carolina      \n",
       "103 Massachusetts       \n",
       "104 New Hampshire       \n",
       "105 Maine               \n",
       "106 Massachusetts       \n",
       "107 Pennsylvania        \n",
       "108 Texas               \n",
       "109 Virginia            \n",
       "110 Michigan            \n",
       "111 Georgia             \n",
       "112 Arkansas            \n",
       "113 Nevada              \n",
       "114 Texas               \n",
       "115 Mississippi         \n",
       "116 Florida             \n",
       "117 North Carolina      \n",
       "118 Massachusetts       \n",
       "119 Kentucky            \n",
       "120 Arkansas            \n",
       "121 New York            \n",
       "122 Nevada              "
      ]
     },
     "metadata": {},
     "output_type": "display_data"
    }
   ],
   "source": [
    "#Renaming the first column of the data frame.\n",
    "colnames(states.df) <- \"States\""
   ]
  },
  {
   "cell_type": "code",
   "execution_count": 5,
   "metadata": {
    "collapsed": false
   },
   "outputs": [],
   "source": [
    "#Connecting to the database\n",
    "db <- dbConnect(SQLite(), dbname=\"Test.sqlite\")"
   ]
  },
  {
   "cell_type": "code",
   "execution_count": 145,
   "metadata": {
    "collapsed": false
   },
   "outputs": [
    {
     "data": {
      "text/html": [
       "TRUE"
      ],
      "text/latex": [
       "TRUE"
      ],
      "text/markdown": [
       "TRUE"
      ],
      "text/plain": [
       "[1] TRUE"
      ]
     },
     "metadata": {},
     "output_type": "display_data"
    }
   ],
   "source": [
    "#Writing the states data frame to  a new table called Locations.\n",
    "try(\n",
    "    {\n",
    "     dbWriteTable(conn = db, name = \"Locations\", value = states.df, row.names = FALSE,append=TRUE)   \n",
    "    })"
   ]
  },
  {
   "cell_type": "code",
   "execution_count": 146,
   "metadata": {
    "collapsed": false
   },
   "outputs": [
    {
     "data": {
      "text/html": [
       "<ol class=list-inline>\n",
       "\t<li>'Locations'</li>\n",
       "\t<li>'Tweets'</li>\n",
       "</ol>\n"
      ],
      "text/latex": [
       "\\begin{enumerate*}\n",
       "\\item 'Locations'\n",
       "\\item 'Tweets'\n",
       "\\end{enumerate*}\n"
      ],
      "text/markdown": [
       "1. 'Locations'\n",
       "2. 'Tweets'\n",
       "\n",
       "\n"
      ],
      "text/plain": [
       "[1] \"Locations\" \"Tweets\"   "
      ]
     },
     "metadata": {},
     "output_type": "display_data"
    }
   ],
   "source": [
    "#dbListTables(db) "
   ]
  },
  {
   "cell_type": "code",
   "execution_count": 7,
   "metadata": {
    "collapsed": false
   },
   "outputs": [
    {
     "name": "stderr",
     "output_type": "stream",
     "text": [
      "Loading required package: tcltk\n"
     ]
    }
   ],
   "source": [
    "#Grouping the states using group by\n",
    "group = sqldf(\"SELECT STATES,COUNT(*) as Size FROM LOCATIONS GROUP BY STATES ORDER BY COUNT(*) DESC\" , dbname = \"Test.sqlite\") "
   ]
  },
  {
   "cell_type": "code",
   "execution_count": 6,
   "metadata": {
    "collapsed": false
   },
   "outputs": [],
   "source": [
    "#Loading the required libraries for plotting\n",
    "library(\"ggplot2\")\n",
    "library(\"ggmap\")\n",
    "library(\"maps\")"
   ]
  },
  {
   "cell_type": "code",
   "execution_count": 8,
   "metadata": {
    "collapsed": false,
    "scrolled": true
   },
   "outputs": [],
   "source": [
    "#Plotting the USA map\n",
    "#Referred from http://eriqande.github.io/rep-res-web/lectures/making-maps-with-R.html\n",
    "usa <- map_data(\"usa\")\n",
    "usa_map = ggplot() + geom_polygon(data = usa, aes(x=long, y = lat, group = group), fill = NA, color = \"black\") + coord_fixed(1.3)\n",
    "#usa_map"
   ]
  },
  {
   "cell_type": "code",
   "execution_count": 9,
   "metadata": {
    "collapsed": false
   },
   "outputs": [
    {
     "name": "stderr",
     "output_type": "stream",
     "text": [
      "Information from URL : http://maps.googleapis.com/maps/api/geocode/json?address=New%20York&sensor=false\n",
      "Information from URL : http://maps.googleapis.com/maps/api/geocode/json?address=Massachusetts&sensor=false\n",
      "Information from URL : http://maps.googleapis.com/maps/api/geocode/json?address=Florida&sensor=false\n",
      "Information from URL : http://maps.googleapis.com/maps/api/geocode/json?address=California&sensor=false\n",
      "Information from URL : http://maps.googleapis.com/maps/api/geocode/json?address=Georgia&sensor=false\n",
      "Information from URL : http://maps.googleapis.com/maps/api/geocode/json?address=Illinois&sensor=false\n",
      "Information from URL : http://maps.googleapis.com/maps/api/geocode/json?address=Pennsylvania&sensor=false\n",
      "Information from URL : http://maps.googleapis.com/maps/api/geocode/json?address=Texas&sensor=false\n",
      "Information from URL : http://maps.googleapis.com/maps/api/geocode/json?address=Connecticut&sensor=false\n",
      "Information from URL : http://maps.googleapis.com/maps/api/geocode/json?address=Michigan&sensor=false\n",
      ".Information from URL : http://maps.googleapis.com/maps/api/geocode/json?address=North%20Carolina&sensor=false\n",
      ".Information from URL : http://maps.googleapis.com/maps/api/geocode/json?address=Utah&sensor=false\n",
      ".Information from URL : http://maps.googleapis.com/maps/api/geocode/json?address=Nevada&sensor=false\n",
      ".Information from URL : http://maps.googleapis.com/maps/api/geocode/json?address=New%20Jersey&sensor=false\n",
      ".Information from URL : http://maps.googleapis.com/maps/api/geocode/json?address=Virginia&sensor=false\n",
      ".Information from URL : http://maps.googleapis.com/maps/api/geocode/json?address=Arkansas&sensor=false\n",
      ".Information from URL : http://maps.googleapis.com/maps/api/geocode/json?address=Colorado&sensor=false\n",
      ".Information from URL : http://maps.googleapis.com/maps/api/geocode/json?address=District%20of%20Columbia&sensor=false\n",
      ".Information from URL : http://maps.googleapis.com/maps/api/geocode/json?address=Kentucky&sensor=false\n",
      "Information from URL : http://maps.googleapis.com/maps/api/geocode/json?address=Maine&sensor=false\n",
      ".Information from URL : http://maps.googleapis.com/maps/api/geocode/json?address=Mississippi&sensor=false\n",
      ".Information from URL : http://maps.googleapis.com/maps/api/geocode/json?address=Missouri&sensor=false\n",
      ".Information from URL : http://maps.googleapis.com/maps/api/geocode/json?address=New%20Hampshire&sensor=false\n",
      ".Information from URL : http://maps.googleapis.com/maps/api/geocode/json?address=Kansas&sensor=false\n",
      ".Information from URL : http://maps.googleapis.com/maps/api/geocode/json?address=Ohio&sensor=false\n",
      ".Information from URL : http://maps.googleapis.com/maps/api/geocode/json?address=Oklahoma&sensor=false\n",
      ".Information from URL : http://maps.googleapis.com/maps/api/geocode/json?address=Oregon&sensor=false\n",
      "Information from URL : http://maps.googleapis.com/maps/api/geocode/json?address=Rhode%20Island&sensor=false\n",
      ".Information from URL : http://maps.googleapis.com/maps/api/geocode/json?address=South%20Carolina&sensor=false\n",
      "Information from URL : http://maps.googleapis.com/maps/api/geocode/json?address=Washington&sensor=false\n",
      ".Information from URL : http://maps.googleapis.com/maps/api/geocode/json?address=Wisconsin&sensor=false\n",
      ".Information from URL : http://maps.googleapis.com/maps/api/geocode/json?address=Wyoming&sensor=false\n"
     ]
    }
   ],
   "source": [
    "#Plotting the states according to their count\n",
    "for(i in (1:nrow(group)))\n",
    "    {\n",
    "    state = group$States[i]\n",
    "    count = group$Size[i]\n",
    "    code = geocode(state)\n",
    "    usa_map = usa_map + geom_point(data=code,aes(x = lon , y = lat), color = \"red\", size = count) \n",
    "}"
   ]
  },
  {
   "cell_type": "code",
   "execution_count": 10,
   "metadata": {
    "collapsed": false
   },
   "outputs": [
    {
     "data": {},
     "metadata": {},
     "output_type": "display_data"
    },
    {
     "data": {
      "image/png": "[encoded data removed]",
      "text/plain": [
       "plot without title"
      ]
     },
     "metadata": {},
     "output_type": "display_data"
    }
   ],
   "source": [
    "#OUTPUT: States with size of the blob representing the density of tweets.\n",
    "usa_map"
   ]
  },
  {
   "cell_type": "code",
   "execution_count": null,
   "metadata": {
    "collapsed": true
   },
   "outputs": [],
   "source": [
    "#PART 2: GENERALIZING THE SOLUTION"
   ]
  },
  {
   "cell_type": "code",
   "execution_count": 36,
   "metadata": {
    "collapsed": false
   },
   "outputs": [],
   "source": [
    "#Loading the libraries\n",
    "library(\"twitteR\")\n",
    "library(\"RCurl\")\n",
    "library(\"RJSONIO\")\n",
    "library(\"stringr\")"
   ]
  },
  {
   "cell_type": "code",
   "execution_count": 37,
   "metadata": {
    "collapsed": false
   },
   "outputs": [
    {
     "name": "stdout",
     "output_type": "stream",
     "text": [
      "[1] \"Using direct authentication\"\n"
     ]
    }
   ],
   "source": [
    "#Setting up Twitter Connection\n",
    "api_key <- \"ivfmBNNLieQKlo03pkByNVMYu\"\n",
    "api_secret <- \"AWWos01ur84W8izPM904X0llxNBlEk9rnboStzcYXM1ZECOgxD\"\n",
    "token <- \"773354810095628294-I1BOeC1mmki1WUTazJosYVLVV9g07Uv\"\n",
    "token_secret <- \"j4ZtTVWt9EC34jx2JGX7ewcHUeIbyrDdiXgsNZPv0ziKv\"\n",
    "setup_twitter_oauth(api_key, api_secret, token, token_secret)"
   ]
  },
  {
   "cell_type": "code",
   "execution_count": 38,
   "metadata": {
    "collapsed": true
   },
   "outputs": [],
   "source": [
    "#INPUT THE SEARCH VARIABLE\n",
    "search = \"#HarryPotter\""
   ]
  },
  {
   "cell_type": "code",
   "execution_count": 39,
   "metadata": {
    "collapsed": true
   },
   "outputs": [],
   "source": [
    "#Searching for tweets\n",
    "tweets_search <- searchTwitter(search, n=25)\n",
    "tweets_search.df <- twListToDF(tweets_search)"
   ]
  },
  {
   "cell_type": "code",
   "execution_count": 40,
   "metadata": {
    "collapsed": false
   },
   "outputs": [],
   "source": [
    "#Loading the library 'sqldf'\n",
    "library(\"sqldf\")"
   ]
  },
  {
   "cell_type": "code",
   "execution_count": 41,
   "metadata": {
    "collapsed": true
   },
   "outputs": [],
   "source": [
    "#Connecting to the database Test.sqliite\n",
    "db <- dbConnect(SQLite(), dbname=\"Test.sqlite\")"
   ]
  },
  {
   "cell_type": "code",
   "execution_count": 42,
   "metadata": {
    "collapsed": false
   },
   "outputs": [],
   "source": [
    "#Removing # for defining the table name\n",
    "value = \"#\"\n",
    "table_name = search\n",
    "#table_name\n",
    "if(grepl(value,table_name))\n",
    "    {\n",
    "     table_name = gsub(\"#\",\"\", table_name)\n",
    "}\n",
    "#table_name"
   ]
  },
  {
   "cell_type": "code",
   "execution_count": 43,
   "metadata": {
    "collapsed": false
   },
   "outputs": [
    {
     "data": {
      "text/html": [
       "'HarryPottertable'"
      ],
      "text/latex": [
       "'HarryPottertable'"
      ],
      "text/markdown": [
       "'HarryPottertable'"
      ],
      "text/plain": [
       "[1] \"HarryPottertable\""
      ]
     },
     "metadata": {},
     "output_type": "display_data"
    }
   ],
   "source": [
    "#Defining the table name for storing the tweets\n",
    "table_name = paste(table_name,\"table\",sep=\"\")\n",
    "table_name"
   ]
  },
  {
   "cell_type": "code",
   "execution_count": 44,
   "metadata": {
    "collapsed": false
   },
   "outputs": [
    {
     "data": {
      "text/html": [
       "TRUE"
      ],
      "text/latex": [
       "TRUE"
      ],
      "text/markdown": [
       "TRUE"
      ],
      "text/plain": [
       "[1] TRUE"
      ]
     },
     "metadata": {},
     "output_type": "display_data"
    }
   ],
   "source": [
    "try(\n",
    "    {\n",
    "     dbWriteTable(conn = db, name = table_name, value = tweets_search.df, row.names = FALSE,append=TRUE)   \n",
    "    })"
   ]
  },
  {
   "cell_type": "code",
   "execution_count": 45,
   "metadata": {
    "collapsed": false
   },
   "outputs": [
    {
     "data": {
      "text/html": [
       "19"
      ],
      "text/latex": [
       "19"
      ],
      "text/markdown": [
       "19"
      ],
      "text/plain": [
       "[1] 19"
      ]
     },
     "metadata": {},
     "output_type": "display_data"
    }
   ],
   "source": [
    "#Selecting unique users from the table\n",
    "query = paste(\"SELECT DISTINCT screenName FROM\",table_name)\n",
    "#query\n",
    "unique =sqldf(query, dbname = \"Test.sqlite\")\n",
    "nrow(unique)"
   ]
  },
  {
   "cell_type": "code",
   "execution_count": 46,
   "metadata": {
    "collapsed": false
   },
   "outputs": [],
   "source": [
    "#List of locations of the unique users\n",
    "location_list = list()\n",
    "n = nrow(unique)\n",
    "k=1\n",
    "for(i in c(1:n))\n",
    "    {\n",
    "    name = unique$screenName[i]\n",
    "    user =getUser(name)\n",
    "    loc = location(user)\n",
    "    if(loc != \"\")\n",
    "        {\n",
    "        location_list[k]= loc\n",
    "        k=k+1\n",
    "    }\n",
    "}"
   ]
  },
  {
   "cell_type": "code",
   "execution_count": 47,
   "metadata": {
    "collapsed": false
   },
   "outputs": [
    {
     "data": {
      "text/html": [
       "15"
      ],
      "text/latex": [
       "15"
      ],
      "text/markdown": [
       "15"
      ],
      "text/plain": [
       "[1] 15"
      ]
     },
     "metadata": {},
     "output_type": "display_data"
    }
   ],
   "source": [
    "length(location_list)"
   ]
  },
  {
   "cell_type": "code",
   "execution_count": 48,
   "metadata": {
    "collapsed": false
   },
   "outputs": [
    {
     "name": "stderr",
     "output_type": "stream",
     "text": [
      "Loading required package: ggplot2\n"
     ]
    }
   ],
   "source": [
    "#Loading the library\n",
    "library(ggmap)"
   ]
  },
  {
   "cell_type": "code",
   "execution_count": 49,
   "metadata": {
    "collapsed": false
   },
   "outputs": [
    {
     "name": "stderr",
     "output_type": "stream",
     "text": [
      "Information from URL : http://maps.googleapis.com/maps/api/geocode/json?address=Venezuela&sensor=false\n",
      "Information from URL : http://maps.googleapis.com/maps/api/geocode/json?address=Utah&sensor=false\n",
      "Information from URL : http://maps.googleapis.com/maps/api/geocode/json?address=Venezuela&sensor=false\n",
      "Information from URL : http://maps.googleapis.com/maps/api/geocode/json?address=Tampa&sensor=false\n",
      "Information from URL : http://maps.googleapis.com/maps/api/geocode/json?address=Florida,%20USA&sensor=false\n",
      "Information from URL : http://maps.googleapis.com/maps/api/geocode/json?address=Usually%20In%20Manchester&sensor=false\n",
      "Warning message:\n",
      "“geocode failed with status ZERO_RESULTS, location = \"Usually In Manchester\"”Information from URL : http://maps.googleapis.com/maps/api/geocode/json?address=Madrid,%20Spain&sensor=false\n",
      "Information from URL : http://maps.googleapis.com/maps/api/geocode/json?address=Florida&sensor=false\n",
      "Information from URL : http://maps.googleapis.com/maps/api/geocode/json?address=Cariacica%20-%20ES&sensor=false\n",
      "Information from URL : http://maps.googleapis.com/maps/api/geocode/json?address=Bahia,%20Brazil&sensor=false\n",
      ".Information from URL : http://maps.googleapis.com/maps/api/geocode/json?address=England,%20United%20Kingdom&sensor=false\n",
      ".Information from URL : http://maps.googleapis.com/maps/api/geocode/json?address=Chicago,%20IL&sensor=false\n",
      ".Information from URL : http://maps.googleapis.com/maps/api/geocode/json?address=California,%20USA&sensor=false\n",
      ".Information from URL : http://maps.googleapis.com/maps/api/geocode/json?address=Hogwarts&sensor=false\n",
      ".Information from URL : http://maps.googleapis.com/maps/api/geocode/json?address=bookshelf&sensor=false\n"
     ]
    }
   ],
   "source": [
    "#Obtaining the geocode for the locations.\n",
    "coord = data.frame(lon = numeric(),lat = numeric())\n",
    "for(i in location_list)\n",
    "    {\n",
    "    try({\n",
    "        code <- geocode(i, output = \"latlon\" , source = \"google\")\n",
    "        #print(code)\n",
    "        if(is.numeric(code$lon) & is.numeric(code$lat))\n",
    "            {\n",
    "            coord = rbind(coord,code)\n",
    "            #print(coord)\n",
    "        }\n",
    "    })\n",
    "}"
   ]
  },
  {
   "cell_type": "code",
   "execution_count": 50,
   "metadata": {
    "collapsed": false
   },
   "outputs": [
    {
     "data": {
      "text/html": [
       "14"
      ],
      "text/latex": [
       "14"
      ],
      "text/markdown": [
       "14"
      ],
      "text/plain": [
       "[1] 14"
      ]
     },
     "metadata": {},
     "output_type": "display_data"
    },
    {
     "data": {
      "text/html": [
       "12"
      ],
      "text/latex": [
       "12"
      ],
      "text/markdown": [
       "12"
      ],
      "text/plain": [
       "[1] 12"
      ]
     },
     "metadata": {},
     "output_type": "display_data"
    }
   ],
   "source": [
    "nrow(coord)\n",
    "#Getting unique locations\n",
    "unique_coord = unique(coord)\n",
    "nrow(unique_coord)"
   ]
  },
  {
   "cell_type": "code",
   "execution_count": 51,
   "metadata": {
    "collapsed": false
   },
   "outputs": [
    {
     "name": "stderr",
     "output_type": "stream",
     "text": [
      "Information from URL : http://maps.googleapis.com/maps/api/geocode/json?latlng=6.42375,-66.58973&sensor=false\n",
      "Information from URL : http://maps.googleapis.com/maps/api/geocode/json?latlng=39.3209801,-111.0937311&sensor=false\n",
      "Information from URL : http://maps.googleapis.com/maps/api/geocode/json?latlng=27.950575,-82.4571776&sensor=false\n",
      "Information from URL : http://maps.googleapis.com/maps/api/geocode/json?latlng=27.6648274,-81.5157535&sensor=false\n",
      "Information from URL : http://maps.googleapis.com/maps/api/geocode/json?latlng=40.4167754,-3.7037902&sensor=false\n",
      "Information from URL : http://maps.googleapis.com/maps/api/geocode/json?latlng=-20.2642764,-40.420365&sensor=false\n",
      "Information from URL : http://maps.googleapis.com/maps/api/geocode/json?latlng=-12.579738,-41.7007272&sensor=false\n",
      "Information from URL : http://maps.googleapis.com/maps/api/geocode/json?latlng=52.3555177,-1.1743197&sensor=false\n",
      "Information from URL : http://maps.googleapis.com/maps/api/geocode/json?latlng=41.8781136,-87.6297982&sensor=false\n",
      "Information from URL : http://maps.googleapis.com/maps/api/geocode/json?latlng=36.778261,-119.4179324&sensor=false\n",
      ".Information from URL : http://maps.googleapis.com/maps/api/geocode/json?latlng=41.6002842,-73.9202391&sensor=false\n",
      ".Information from URL : http://maps.googleapis.com/maps/api/geocode/json?latlng=43.5454125,-80.2504411&sensor=false\n"
     ]
    }
   ],
   "source": [
    "#Determining the states of the locations and filtering out locations only in the USA.\n",
    "\n",
    "m=1\n",
    "states = list()\n",
    "for(i in (1:nrow(unique_coord)))\n",
    "    {\n",
    "        lat = unique_coord$lat[i]\n",
    "        lon = unique_coord$lon[i]\n",
    "        try(\n",
    "            {\n",
    "                geo_info = revgeocode(c(lon,lat),output=\"more\")\n",
    "                if(geo_info$country == \"United States\" | geo_info$country == \"US\")\n",
    "                {\n",
    "                    loc = geo_info$administrative_area_level_1\n",
    "                    loc = as.character(loc)\n",
    "                    states[m] = loc\n",
    "                    m = m+1\n",
    "            }\n",
    "        })\n",
    "}\n",
    "\n",
    "#Storing the states in a dataframe\n",
    "states.df <- data.frame(matrix(unlist(states), nrow=m-1, byrow=T))"
   ]
  },
  {
   "cell_type": "code",
   "execution_count": 52,
   "metadata": {
    "collapsed": true
   },
   "outputs": [],
   "source": [
    "#Renaming the first column of the data frame.\n",
    "colnames(states.df) <- \"States\""
   ]
  },
  {
   "cell_type": "code",
   "execution_count": 53,
   "metadata": {
    "collapsed": true
   },
   "outputs": [],
   "source": [
    "#Connecting to the database\n",
    "db <- dbConnect(SQLite(), dbname=\"Test.sqlite\")"
   ]
  },
  {
   "cell_type": "code",
   "execution_count": 54,
   "metadata": {
    "collapsed": true
   },
   "outputs": [],
   "source": [
    "#Removing # for defining the table name\n",
    "value = \"#\"\n",
    "table_name = search\n",
    "#table_name\n",
    "if(grepl(value,table_name))\n",
    "    {\n",
    "     table_name = gsub(\"#\",\"\", table_name)\n",
    "}\n",
    "locations_table = paste(table_name,\"Locations\",sep=\"\")"
   ]
  },
  {
   "cell_type": "code",
   "execution_count": 55,
   "metadata": {
    "collapsed": false
   },
   "outputs": [
    {
     "data": {
      "text/html": [
       "TRUE"
      ],
      "text/latex": [
       "TRUE"
      ],
      "text/markdown": [
       "TRUE"
      ],
      "text/plain": [
       "[1] TRUE"
      ]
     },
     "metadata": {},
     "output_type": "display_data"
    }
   ],
   "source": [
    "#Writing the states data frame to  a new table called Locations.\n",
    "try(\n",
    "    {\n",
    "     dbWriteTable(conn = db, name = locations_table, value = states.df, row.names = FALSE,append=TRUE)   \n",
    "    })"
   ]
  },
  {
   "cell_type": "code",
   "execution_count": 63,
   "metadata": {
    "collapsed": false
   },
   "outputs": [
    {
     "data": {
      "text/html": [
       "'SELECT STATES,COUNT(*) as Size FROM HarryPotterLocations GROUP BY STATES ORDER BY COUNT(*) DESC'"
      ],
      "text/latex": [
       "'SELECT STATES,COUNT(*) as Size FROM HarryPotterLocations GROUP BY STATES ORDER BY COUNT(*) DESC'"
      ],
      "text/markdown": [
       "'SELECT STATES,COUNT(*) as Size FROM HarryPotterLocations GROUP BY STATES ORDER BY COUNT(*) DESC'"
      ],
      "text/plain": [
       "[1] \"SELECT STATES,COUNT(*) as Size FROM HarryPotterLocations GROUP BY STATES ORDER BY COUNT(*) DESC\""
      ]
     },
     "metadata": {},
     "output_type": "display_data"
    }
   ],
   "source": [
    "#Grouping the states using group by\n",
    "query = paste(\"SELECT STATES,COUNT(*) as Size FROM\",locations_table,\"GROUP BY STATES ORDER BY COUNT(*) DESC\")\n",
    "query\n",
    "group = sqldf(query , dbname = \"Test.sqlite\") "
   ]
  },
  {
   "cell_type": "code",
   "execution_count": 57,
   "metadata": {
    "collapsed": true
   },
   "outputs": [],
   "source": [
    "#Loading the required libraries for plotting\n",
    "library(\"ggplot2\")\n",
    "library(\"ggmap\")\n",
    "library(\"maps\")"
   ]
  },
  {
   "cell_type": "code",
   "execution_count": 71,
   "metadata": {
    "collapsed": true
   },
   "outputs": [],
   "source": [
    "#Plotting the USA map\n",
    "#Referred from http://eriqande.github.io/rep-res-web/lectures/making-maps-with-R.html\n",
    "usa <- map_data(\"usa\")\n",
    "usa_map = ggplot() + geom_polygon(data = usa, aes(x=long, y = lat, group = group), fill = NA, color = \"black\") + coord_fixed(1.3)\n",
    "#usa_map"
   ]
  },
  {
   "cell_type": "code",
   "execution_count": 72,
   "metadata": {
    "collapsed": false
   },
   "outputs": [
    {
     "name": "stderr",
     "output_type": "stream",
     "text": [
      "Information from URL : http://maps.googleapis.com/maps/api/geocode/json?address=Florida&sensor=false\n",
      "Information from URL : http://maps.googleapis.com/maps/api/geocode/json?address=California&sensor=false\n",
      "Information from URL : http://maps.googleapis.com/maps/api/geocode/json?address=Illinois&sensor=false\n",
      "Information from URL : http://maps.googleapis.com/maps/api/geocode/json?address=New%20York&sensor=false\n",
      "Information from URL : http://maps.googleapis.com/maps/api/geocode/json?address=Utah&sensor=false\n"
     ]
    }
   ],
   "source": [
    "#Plotting the states according to their count\n",
    "for(i in (1:nrow(group)))\n",
    "    {\n",
    "    state = group$States[i]\n",
    "    count = group$Size[i]\n",
    "    code = geocode(state)\n",
    "    usa_map = usa_map + geom_point(data=code,aes(x = lon , y = lat), color = \"red\", size = (count*5))\n",
    "}"
   ]
  },
  {
   "cell_type": "code",
   "execution_count": 73,
   "metadata": {
    "collapsed": false
   },
   "outputs": [
    {
     "data": {},
     "metadata": {},
     "output_type": "display_data"
    },
    {
     "data": {
      "image/png": "[encoded data removed]",
      "text/plain": [
       "plot without title"
      ]
     },
     "metadata": {},
     "output_type": "display_data"
    }
   ],
   "source": [
    "#OUTPUT: States with size of the blob representing the density of tweets.\n",
    "usa_map"
   ]
  },
  {
   "cell_type": "code",
   "execution_count": null,
   "metadata": {
    "collapsed": true
   },
   "outputs": [],
   "source": []
  }
 ],
 "metadata": {
  "anaconda-cloud": {},
  "kernelspec": {
   "display_name": "R",
   "language": "R",
   "name": "ir"
  },
  "language_info": {
   "codemirror_mode": "r",
   "file_extension": ".r",
   "mimetype": "text/x-r-source",
   "name": "R",
   "pygments_lexer": "r",
   "version": "3.3.2"
  }
 },
 "nbformat": 4,
 "nbformat_minor": 1
}
